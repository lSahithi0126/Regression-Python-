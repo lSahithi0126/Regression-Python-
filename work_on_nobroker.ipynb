{
 "cells": [
  {
   "cell_type": "markdown",
   "id": "538da05f",
   "metadata": {},
   "source": [
    "### Table of contents <a id='menu'>\n",
    "\n",
    "* [0. Data Collected](#dc)\n",
    "* [1. Data Validation & Cleaning](#dvc)\n",
    "     \n",
    "    @ Insights\n",
    "* [2. EDA](#eda)\n",
    "    \n",
    "    @Predictive Modelling\n",
    "* [3. x,y](#xy)\n",
    "* [4. Feature Selection of X](#fsox)\n",
    "* [5. Train-Test split](#tts)\n",
    "* [6. Na & Out of Train & Test](#nott)\n",
    "* [7. Pre-Processing of xtrain & xtest](#ppxt)\n",
    "* [8. Selecting the Predictive Model](#mod)\n",
    "* [9. Model Performance](#mp)\n",
    "* [10. Real Time Predictions](#rtp)\n",
    "### Data Validation"
   ]
  },
  {
   "cell_type": "code",
   "execution_count": 1,
   "id": "12d5b710",
   "metadata": {},
   "outputs": [],
   "source": [
    "# Data Mining\n",
    "import pandas as pd\n",
    "import numpy as np\n",
    "\n",
    "# Data Visualizations\n",
    "import matplotlib.pyplot as plt\n",
    "import seaborn as sns\n",
    "import plotly.express as px\n",
    "%matplotlib inline\n",
    "\n",
    "# Warnings\n",
    "import warnings\n",
    "warnings.filterwarnings(\"ignore\")"
   ]
  },
  {
   "cell_type": "markdown",
   "id": "8879bfe9",
   "metadata": {},
   "source": [
    "### 0. Data Collected <a id='dc'>\n",
    "    \n",
    "[Back to Top](#menu)\n",
    "\n",
    "* The collected No_broker_House_Rental dataset we will check each and every column data properly"
   ]
  },
  {
   "cell_type": "code",
   "execution_count": 2,
   "id": "a5265b6e",
   "metadata": {},
   "outputs": [],
   "source": [
    "# Loading Dataset\n",
    "data = pd.read_csv(\"No_Broker_House_Rental.csv\")"
   ]
  },
  {
   "cell_type": "code",
   "execution_count": 3,
   "id": "5659ae7b",
   "metadata": {},
   "outputs": [
    {
     "data": {
      "text/plain": [
       "Index(['Rent ', 'Location', 'Square_feets ', 'BHK', 'Facing', 'Furnish',\n",
       "       'Bathroom', 'Floor', 'Property_type', 'Deposit', 'Property_age',\n",
       "       'Gated_security', 'Nonveg_allowed', 'Parking'],\n",
       "      dtype='object')"
      ]
     },
     "execution_count": 3,
     "metadata": {},
     "output_type": "execute_result"
    }
   ],
   "source": [
    "data.columns"
   ]
  },
  {
   "cell_type": "code",
   "execution_count": 4,
   "id": "a553922d",
   "metadata": {},
   "outputs": [
    {
     "data": {
      "text/html": [
       "<div>\n",
       "<style scoped>\n",
       "    .dataframe tbody tr th:only-of-type {\n",
       "        vertical-align: middle;\n",
       "    }\n",
       "\n",
       "    .dataframe tbody tr th {\n",
       "        vertical-align: top;\n",
       "    }\n",
       "\n",
       "    .dataframe thead th {\n",
       "        text-align: right;\n",
       "    }\n",
       "</style>\n",
       "<table border=\"1\" class=\"dataframe\">\n",
       "  <thead>\n",
       "    <tr style=\"text-align: right;\">\n",
       "      <th></th>\n",
       "      <th>Rent</th>\n",
       "      <th>Location</th>\n",
       "      <th>Square_feets</th>\n",
       "      <th>BHK</th>\n",
       "      <th>Facing</th>\n",
       "      <th>Furnish</th>\n",
       "      <th>Bathroom</th>\n",
       "      <th>Floor</th>\n",
       "      <th>Property_type</th>\n",
       "      <th>Deposit</th>\n",
       "      <th>Property_age</th>\n",
       "      <th>Gated_security</th>\n",
       "      <th>Nonveg_allowed</th>\n",
       "      <th>Parking</th>\n",
       "    </tr>\n",
       "  </thead>\n",
       "  <tbody>\n",
       "    <tr>\n",
       "      <th>0</th>\n",
       "      <td>?25,000/M</td>\n",
       "      <td>Hyderabad</td>\n",
       "      <td>800</td>\n",
       "      <td>2 Bedroom</td>\n",
       "      <td>NaN</td>\n",
       "      <td>Semi</td>\n",
       "      <td>2</td>\n",
       "      <td>03-Apr</td>\n",
       "      <td>Apartment</td>\n",
       "      <td>? 50,000</td>\n",
       "      <td>3-5 Years</td>\n",
       "      <td>No</td>\n",
       "      <td>Yes</td>\n",
       "      <td>Bike and Car</td>\n",
       "    </tr>\n",
       "    <tr>\n",
       "      <th>1</th>\n",
       "      <td>?12,000/M</td>\n",
       "      <td>Hyderabad</td>\n",
       "      <td>1,100</td>\n",
       "      <td>2 Bedroom</td>\n",
       "      <td>NaN</td>\n",
       "      <td>Unfurnished</td>\n",
       "      <td>2</td>\n",
       "      <td>01-Feb</td>\n",
       "      <td>Apartment</td>\n",
       "      <td>? 24,000</td>\n",
       "      <td>5-10 Years</td>\n",
       "      <td>No</td>\n",
       "      <td>Yes</td>\n",
       "      <td>Bike</td>\n",
       "    </tr>\n",
       "    <tr>\n",
       "      <th>2</th>\n",
       "      <td>?89,998/M</td>\n",
       "      <td>Hyderabad</td>\n",
       "      <td>2,810</td>\n",
       "      <td>3 Bedroom</td>\n",
       "      <td>North</td>\n",
       "      <td>Semi</td>\n",
       "      <td>4</td>\n",
       "      <td>Dec-15</td>\n",
       "      <td>Apartment</td>\n",
       "      <td>? 1</td>\n",
       "      <td>1-3 Years</td>\n",
       "      <td>No</td>\n",
       "      <td>Yes</td>\n",
       "      <td>Bike and Car</td>\n",
       "    </tr>\n",
       "    <tr>\n",
       "      <th>3</th>\n",
       "      <td>?20,000/M</td>\n",
       "      <td>Hyderabad</td>\n",
       "      <td>1,080</td>\n",
       "      <td>2 Bedroom</td>\n",
       "      <td>North</td>\n",
       "      <td>Semi</td>\n",
       "      <td>2</td>\n",
       "      <td>03-May</td>\n",
       "      <td>Apartment</td>\n",
       "      <td>? 60,000</td>\n",
       "      <td>&gt;10 Years</td>\n",
       "      <td>No</td>\n",
       "      <td>Yes</td>\n",
       "      <td>Car</td>\n",
       "    </tr>\n",
       "    <tr>\n",
       "      <th>4</th>\n",
       "      <td>?6,500/M</td>\n",
       "      <td>Hyderabad</td>\n",
       "      <td>750</td>\n",
       "      <td>1 Bedroom</td>\n",
       "      <td>West</td>\n",
       "      <td>Unfurnished</td>\n",
       "      <td>1</td>\n",
       "      <td>01-Jan</td>\n",
       "      <td>Independent House/villa</td>\n",
       "      <td>? 6,500</td>\n",
       "      <td>1-3 Years</td>\n",
       "      <td>Yes</td>\n",
       "      <td>Yes</td>\n",
       "      <td>Bike</td>\n",
       "    </tr>\n",
       "  </tbody>\n",
       "</table>\n",
       "</div>"
      ],
      "text/plain": [
       "       Rent    Location Square_feets         BHK Facing      Furnish  \\\n",
       "0  ?25,000/M  Hyderabad           800  2 Bedroom    NaN         Semi   \n",
       "1  ?12,000/M  Hyderabad         1,100  2 Bedroom    NaN  Unfurnished   \n",
       "2  ?89,998/M  Hyderabad         2,810  3 Bedroom  North         Semi   \n",
       "3  ?20,000/M  Hyderabad         1,080  2 Bedroom  North         Semi   \n",
       "4   ?6,500/M  Hyderabad           750  1 Bedroom   West  Unfurnished   \n",
       "\n",
       "   Bathroom   Floor            Property_type   Deposit Property_age  \\\n",
       "0         2  03-Apr                Apartment  ? 50,000    3-5 Years   \n",
       "1         2  01-Feb                Apartment  ? 24,000   5-10 Years   \n",
       "2         4  Dec-15                Apartment       ? 1    1-3 Years   \n",
       "3         2  03-May                Apartment  ? 60,000    >10 Years   \n",
       "4         1  01-Jan  Independent House/villa   ? 6,500    1-3 Years   \n",
       "\n",
       "  Gated_security Nonveg_allowed       Parking  \n",
       "0             No            Yes  Bike and Car  \n",
       "1             No            Yes          Bike  \n",
       "2             No            Yes  Bike and Car  \n",
       "3             No            Yes           Car  \n",
       "4            Yes            Yes          Bike  "
      ]
     },
     "execution_count": 4,
     "metadata": {},
     "output_type": "execute_result"
    }
   ],
   "source": [
    "data.head()"
   ]
  },
  {
   "cell_type": "markdown",
   "id": "ce02cbc5",
   "metadata": {},
   "source": [
    "Column|Description\n",
    "-----------|--------\n",
    "Rent|Find properties within your specified budget range.\n",
    "Location|Find properties in various areas.\n",
    "Square_feets|Explore properties based on their size in square feets.\n",
    "Bhk|Look for properties based on the number of bedrooms, hall, and kitchen.\n",
    "Facing|Filter properties based on their direction or facing.\n",
    "Furnish|Check if properties come furnished or unfurnished.\n",
    "Bathroom|View properties based on the number of bathrooms available.\n",
    "Floor|Identify properties based on the floor they are situated on.\n",
    "Property_type| Browse properties based on their type (apartment, villa, independent house, etc.).\n",
    "Deposit|Identify properties based on their security deposit requirements.\n",
    "Property_age| Find properties based on their age or year of construction.\n",
    "Gated_security| Filter properties that offer gated security.\n",
    "Nonveg_allowed| Identify properties that allow/non-allowance for non-vegetarian food.\n",
    "Parking| Find properties with available parking spaces."
   ]
  },
  {
   "cell_type": "markdown",
   "id": "052700f7",
   "metadata": {},
   "source": [
    "**Basic Checks of House_Rental Dataset**"
   ]
  },
  {
   "cell_type": "code",
   "execution_count": 5,
   "id": "e4c89e92",
   "metadata": {},
   "outputs": [
    {
     "data": {
      "text/plain": [
       "(569, 14)"
      ]
     },
     "execution_count": 5,
     "metadata": {},
     "output_type": "execute_result"
    }
   ],
   "source": [
    "data.shape"
   ]
  },
  {
   "cell_type": "code",
   "execution_count": 6,
   "id": "7b2d7d87",
   "metadata": {},
   "outputs": [
    {
     "name": "stdout",
     "output_type": "stream",
     "text": [
      "<class 'pandas.core.frame.DataFrame'>\n",
      "RangeIndex: 569 entries, 0 to 568\n",
      "Data columns (total 14 columns):\n",
      " #   Column          Non-Null Count  Dtype \n",
      "---  ------          --------------  ----- \n",
      " 0   Rent            569 non-null    object\n",
      " 1   Location        569 non-null    object\n",
      " 2   Square_feets    569 non-null    object\n",
      " 3   BHK             569 non-null    object\n",
      " 4   Facing          321 non-null    object\n",
      " 5   Furnish         569 non-null    object\n",
      " 6   Bathroom        569 non-null    int64 \n",
      " 7   Floor           569 non-null    object\n",
      " 8   Property_type   569 non-null    object\n",
      " 9   Deposit         569 non-null    object\n",
      " 10  Property_age    569 non-null    object\n",
      " 11  Gated_security  569 non-null    object\n",
      " 12  Nonveg_allowed  569 non-null    object\n",
      " 13  Parking         569 non-null    object\n",
      "dtypes: int64(1), object(13)\n",
      "memory usage: 62.4+ KB\n"
     ]
    }
   ],
   "source": [
    "data.info()"
   ]
  },
  {
   "cell_type": "code",
   "execution_count": 7,
   "id": "2c5ac18c",
   "metadata": {},
   "outputs": [
    {
     "name": "stdout",
     "output_type": "stream",
     "text": [
      "First five rows of Data: \n"
     ]
    },
    {
     "data": {
      "text/html": [
       "<div>\n",
       "<style scoped>\n",
       "    .dataframe tbody tr th:only-of-type {\n",
       "        vertical-align: middle;\n",
       "    }\n",
       "\n",
       "    .dataframe tbody tr th {\n",
       "        vertical-align: top;\n",
       "    }\n",
       "\n",
       "    .dataframe thead th {\n",
       "        text-align: right;\n",
       "    }\n",
       "</style>\n",
       "<table border=\"1\" class=\"dataframe\">\n",
       "  <thead>\n",
       "    <tr style=\"text-align: right;\">\n",
       "      <th></th>\n",
       "      <th>Rent</th>\n",
       "      <th>Location</th>\n",
       "      <th>Square_feets</th>\n",
       "      <th>BHK</th>\n",
       "      <th>Facing</th>\n",
       "      <th>Furnish</th>\n",
       "      <th>Bathroom</th>\n",
       "      <th>Floor</th>\n",
       "      <th>Property_type</th>\n",
       "      <th>Deposit</th>\n",
       "      <th>Property_age</th>\n",
       "      <th>Gated_security</th>\n",
       "      <th>Nonveg_allowed</th>\n",
       "      <th>Parking</th>\n",
       "    </tr>\n",
       "  </thead>\n",
       "  <tbody>\n",
       "    <tr>\n",
       "      <th>0</th>\n",
       "      <td>?25,000/M</td>\n",
       "      <td>Hyderabad</td>\n",
       "      <td>800</td>\n",
       "      <td>2 Bedroom</td>\n",
       "      <td>NaN</td>\n",
       "      <td>Semi</td>\n",
       "      <td>2</td>\n",
       "      <td>03-Apr</td>\n",
       "      <td>Apartment</td>\n",
       "      <td>? 50,000</td>\n",
       "      <td>3-5 Years</td>\n",
       "      <td>No</td>\n",
       "      <td>Yes</td>\n",
       "      <td>Bike and Car</td>\n",
       "    </tr>\n",
       "    <tr>\n",
       "      <th>1</th>\n",
       "      <td>?12,000/M</td>\n",
       "      <td>Hyderabad</td>\n",
       "      <td>1,100</td>\n",
       "      <td>2 Bedroom</td>\n",
       "      <td>NaN</td>\n",
       "      <td>Unfurnished</td>\n",
       "      <td>2</td>\n",
       "      <td>01-Feb</td>\n",
       "      <td>Apartment</td>\n",
       "      <td>? 24,000</td>\n",
       "      <td>5-10 Years</td>\n",
       "      <td>No</td>\n",
       "      <td>Yes</td>\n",
       "      <td>Bike</td>\n",
       "    </tr>\n",
       "    <tr>\n",
       "      <th>2</th>\n",
       "      <td>?89,998/M</td>\n",
       "      <td>Hyderabad</td>\n",
       "      <td>2,810</td>\n",
       "      <td>3 Bedroom</td>\n",
       "      <td>North</td>\n",
       "      <td>Semi</td>\n",
       "      <td>4</td>\n",
       "      <td>Dec-15</td>\n",
       "      <td>Apartment</td>\n",
       "      <td>? 1</td>\n",
       "      <td>1-3 Years</td>\n",
       "      <td>No</td>\n",
       "      <td>Yes</td>\n",
       "      <td>Bike and Car</td>\n",
       "    </tr>\n",
       "    <tr>\n",
       "      <th>3</th>\n",
       "      <td>?20,000/M</td>\n",
       "      <td>Hyderabad</td>\n",
       "      <td>1,080</td>\n",
       "      <td>2 Bedroom</td>\n",
       "      <td>North</td>\n",
       "      <td>Semi</td>\n",
       "      <td>2</td>\n",
       "      <td>03-May</td>\n",
       "      <td>Apartment</td>\n",
       "      <td>? 60,000</td>\n",
       "      <td>&gt;10 Years</td>\n",
       "      <td>No</td>\n",
       "      <td>Yes</td>\n",
       "      <td>Car</td>\n",
       "    </tr>\n",
       "    <tr>\n",
       "      <th>4</th>\n",
       "      <td>?6,500/M</td>\n",
       "      <td>Hyderabad</td>\n",
       "      <td>750</td>\n",
       "      <td>1 Bedroom</td>\n",
       "      <td>West</td>\n",
       "      <td>Unfurnished</td>\n",
       "      <td>1</td>\n",
       "      <td>01-Jan</td>\n",
       "      <td>Independent House/villa</td>\n",
       "      <td>? 6,500</td>\n",
       "      <td>1-3 Years</td>\n",
       "      <td>Yes</td>\n",
       "      <td>Yes</td>\n",
       "      <td>Bike</td>\n",
       "    </tr>\n",
       "  </tbody>\n",
       "</table>\n",
       "</div>"
      ],
      "text/plain": [
       "       Rent    Location Square_feets         BHK Facing      Furnish  \\\n",
       "0  ?25,000/M  Hyderabad           800  2 Bedroom    NaN         Semi   \n",
       "1  ?12,000/M  Hyderabad         1,100  2 Bedroom    NaN  Unfurnished   \n",
       "2  ?89,998/M  Hyderabad         2,810  3 Bedroom  North         Semi   \n",
       "3  ?20,000/M  Hyderabad         1,080  2 Bedroom  North         Semi   \n",
       "4   ?6,500/M  Hyderabad           750  1 Bedroom   West  Unfurnished   \n",
       "\n",
       "   Bathroom   Floor            Property_type   Deposit Property_age  \\\n",
       "0         2  03-Apr                Apartment  ? 50,000    3-5 Years   \n",
       "1         2  01-Feb                Apartment  ? 24,000   5-10 Years   \n",
       "2         4  Dec-15                Apartment       ? 1    1-3 Years   \n",
       "3         2  03-May                Apartment  ? 60,000    >10 Years   \n",
       "4         1  01-Jan  Independent House/villa   ? 6,500    1-3 Years   \n",
       "\n",
       "  Gated_security Nonveg_allowed       Parking  \n",
       "0             No            Yes  Bike and Car  \n",
       "1             No            Yes          Bike  \n",
       "2             No            Yes  Bike and Car  \n",
       "3             No            Yes           Car  \n",
       "4            Yes            Yes          Bike  "
      ]
     },
     "metadata": {},
     "output_type": "display_data"
    },
    {
     "name": "stdout",
     "output_type": "stream",
     "text": [
      "\n",
      "Last Five rows of Data: \n"
     ]
    },
    {
     "data": {
      "text/html": [
       "<div>\n",
       "<style scoped>\n",
       "    .dataframe tbody tr th:only-of-type {\n",
       "        vertical-align: middle;\n",
       "    }\n",
       "\n",
       "    .dataframe tbody tr th {\n",
       "        vertical-align: top;\n",
       "    }\n",
       "\n",
       "    .dataframe thead th {\n",
       "        text-align: right;\n",
       "    }\n",
       "</style>\n",
       "<table border=\"1\" class=\"dataframe\">\n",
       "  <thead>\n",
       "    <tr style=\"text-align: right;\">\n",
       "      <th></th>\n",
       "      <th>Rent</th>\n",
       "      <th>Location</th>\n",
       "      <th>Square_feets</th>\n",
       "      <th>BHK</th>\n",
       "      <th>Facing</th>\n",
       "      <th>Furnish</th>\n",
       "      <th>Bathroom</th>\n",
       "      <th>Floor</th>\n",
       "      <th>Property_type</th>\n",
       "      <th>Deposit</th>\n",
       "      <th>Property_age</th>\n",
       "      <th>Gated_security</th>\n",
       "      <th>Nonveg_allowed</th>\n",
       "      <th>Parking</th>\n",
       "    </tr>\n",
       "  </thead>\n",
       "  <tbody>\n",
       "    <tr>\n",
       "      <th>564</th>\n",
       "      <td>?25,000/M</td>\n",
       "      <td>Ameerpet</td>\n",
       "      <td>1,185</td>\n",
       "      <td>2 Bedroom</td>\n",
       "      <td>South</td>\n",
       "      <td>Full</td>\n",
       "      <td>2</td>\n",
       "      <td>01-May</td>\n",
       "      <td>Apartment</td>\n",
       "      <td>? 50,000</td>\n",
       "      <td>&gt;10 Years</td>\n",
       "      <td>Yes</td>\n",
       "      <td>Yes</td>\n",
       "      <td>Bike and Car</td>\n",
       "    </tr>\n",
       "    <tr>\n",
       "      <th>565</th>\n",
       "      <td>?21,000/M</td>\n",
       "      <td>Ameerpet</td>\n",
       "      <td>900</td>\n",
       "      <td>2 Bedroom</td>\n",
       "      <td>East</td>\n",
       "      <td>Full</td>\n",
       "      <td>2</td>\n",
       "      <td>0/3</td>\n",
       "      <td>Apartment</td>\n",
       "      <td>? 63,000</td>\n",
       "      <td>&gt;10 Years</td>\n",
       "      <td>No</td>\n",
       "      <td>Yes</td>\n",
       "      <td>Bike</td>\n",
       "    </tr>\n",
       "    <tr>\n",
       "      <th>566</th>\n",
       "      <td>?19,000/M</td>\n",
       "      <td>Ameerpet</td>\n",
       "      <td>750</td>\n",
       "      <td>2 Bedroom</td>\n",
       "      <td>North</td>\n",
       "      <td>Unfurnished</td>\n",
       "      <td>2</td>\n",
       "      <td>0/3</td>\n",
       "      <td>Independent House/villa</td>\n",
       "      <td>? 19,000</td>\n",
       "      <td>1-3 Years</td>\n",
       "      <td>No</td>\n",
       "      <td>Yes</td>\n",
       "      <td>Bike and Car</td>\n",
       "    </tr>\n",
       "    <tr>\n",
       "      <th>567</th>\n",
       "      <td>?6,500/M</td>\n",
       "      <td>Ameerpet</td>\n",
       "      <td>400</td>\n",
       "      <td>1 Bedroom</td>\n",
       "      <td>East</td>\n",
       "      <td>Unfurnished</td>\n",
       "      <td>1</td>\n",
       "      <td>03-Mar</td>\n",
       "      <td>Apartment</td>\n",
       "      <td>? 13,000</td>\n",
       "      <td>&gt;10 Years</td>\n",
       "      <td>No</td>\n",
       "      <td>Yes</td>\n",
       "      <td>Bike</td>\n",
       "    </tr>\n",
       "    <tr>\n",
       "      <th>568</th>\n",
       "      <td>?12,000/M</td>\n",
       "      <td>Ameerpet</td>\n",
       "      <td>500</td>\n",
       "      <td>1 Bedroom</td>\n",
       "      <td>North</td>\n",
       "      <td>Unfurnished</td>\n",
       "      <td>1</td>\n",
       "      <td>01-Feb</td>\n",
       "      <td>Independent House/villa</td>\n",
       "      <td>? 24,000</td>\n",
       "      <td>3-5 Years</td>\n",
       "      <td>Yes</td>\n",
       "      <td>Yes</td>\n",
       "      <td>Bike</td>\n",
       "    </tr>\n",
       "  </tbody>\n",
       "</table>\n",
       "</div>"
      ],
      "text/plain": [
       "         Rent   Location Square_feets         BHK Facing      Furnish  \\\n",
       "564  ?25,000/M  Ameerpet         1,185  2 Bedroom  South         Full   \n",
       "565  ?21,000/M  Ameerpet           900  2 Bedroom   East         Full   \n",
       "566  ?19,000/M  Ameerpet           750  2 Bedroom  North  Unfurnished   \n",
       "567   ?6,500/M  Ameerpet           400  1 Bedroom   East  Unfurnished   \n",
       "568  ?12,000/M  Ameerpet           500  1 Bedroom  North  Unfurnished   \n",
       "\n",
       "     Bathroom   Floor            Property_type   Deposit Property_age  \\\n",
       "564         2  01-May                Apartment  ? 50,000    >10 Years   \n",
       "565         2     0/3                Apartment  ? 63,000    >10 Years   \n",
       "566         2     0/3  Independent House/villa  ? 19,000    1-3 Years   \n",
       "567         1  03-Mar                Apartment  ? 13,000    >10 Years   \n",
       "568         1  01-Feb  Independent House/villa  ? 24,000    3-5 Years   \n",
       "\n",
       "    Gated_security Nonveg_allowed       Parking  \n",
       "564            Yes            Yes  Bike and Car  \n",
       "565             No            Yes          Bike  \n",
       "566             No            Yes  Bike and Car  \n",
       "567             No            Yes          Bike  \n",
       "568            Yes            Yes          Bike  "
      ]
     },
     "metadata": {},
     "output_type": "display_data"
    }
   ],
   "source": [
    "print(\"First five rows of Data: \")\n",
    "display(data.head())\n",
    "print()\n",
    "print(\"Last Five rows of Data: \")\n",
    "display(data.tail())"
   ]
  },
  {
   "cell_type": "markdown",
   "id": "facf3e66",
   "metadata": {},
   "source": [
    "**Handling Duplicates**\n",
    "* Convert categorical columns into lower case for the duplicates check\n",
    "\n",
    "Note:\n",
    "* You need to check duplicates before data validation and after data validation"
   ]
  },
  {
   "cell_type": "code",
   "execution_count": 8,
   "id": "1d343ff9",
   "metadata": {},
   "outputs": [],
   "source": [
    "# converting categorical columns to lower\n",
    "for i in data.columns:\n",
    "    if data[i].dtype == object:\n",
    "        data[i] = data[i].str.lower()"
   ]
  },
  {
   "cell_type": "code",
   "execution_count": 9,
   "id": "4b752359",
   "metadata": {},
   "outputs": [
    {
     "data": {
      "text/html": [
       "<div>\n",
       "<style scoped>\n",
       "    .dataframe tbody tr th:only-of-type {\n",
       "        vertical-align: middle;\n",
       "    }\n",
       "\n",
       "    .dataframe tbody tr th {\n",
       "        vertical-align: top;\n",
       "    }\n",
       "\n",
       "    .dataframe thead th {\n",
       "        text-align: right;\n",
       "    }\n",
       "</style>\n",
       "<table border=\"1\" class=\"dataframe\">\n",
       "  <thead>\n",
       "    <tr style=\"text-align: right;\">\n",
       "      <th></th>\n",
       "      <th>Rent</th>\n",
       "      <th>Location</th>\n",
       "      <th>Square_feets</th>\n",
       "      <th>BHK</th>\n",
       "      <th>Facing</th>\n",
       "      <th>Furnish</th>\n",
       "      <th>Bathroom</th>\n",
       "      <th>Floor</th>\n",
       "      <th>Property_type</th>\n",
       "      <th>Deposit</th>\n",
       "      <th>Property_age</th>\n",
       "      <th>Gated_security</th>\n",
       "      <th>Nonveg_allowed</th>\n",
       "      <th>Parking</th>\n",
       "    </tr>\n",
       "  </thead>\n",
       "  <tbody>\n",
       "  </tbody>\n",
       "</table>\n",
       "</div>"
      ],
      "text/plain": [
       "Empty DataFrame\n",
       "Columns: [Rent , Location, Square_feets , BHK, Facing, Furnish, Bathroom, Floor, Property_type, Deposit, Property_age, Gated_security, Nonveg_allowed, Parking]\n",
       "Index: []"
      ]
     },
     "execution_count": 9,
     "metadata": {},
     "output_type": "execute_result"
    }
   ],
   "source": [
    "data[data.duplicated()] "
   ]
  },
  {
   "cell_type": "code",
   "execution_count": 10,
   "id": "8e677514",
   "metadata": {},
   "outputs": [],
   "source": [
    "data = data.drop_duplicates().reset_index(drop=True)"
   ]
  },
  {
   "cell_type": "code",
   "execution_count": 11,
   "id": "9cb1d0c7",
   "metadata": {},
   "outputs": [
    {
     "data": {
      "text/html": [
       "<div>\n",
       "<style scoped>\n",
       "    .dataframe tbody tr th:only-of-type {\n",
       "        vertical-align: middle;\n",
       "    }\n",
       "\n",
       "    .dataframe tbody tr th {\n",
       "        vertical-align: top;\n",
       "    }\n",
       "\n",
       "    .dataframe thead th {\n",
       "        text-align: right;\n",
       "    }\n",
       "</style>\n",
       "<table border=\"1\" class=\"dataframe\">\n",
       "  <thead>\n",
       "    <tr style=\"text-align: right;\">\n",
       "      <th></th>\n",
       "      <th>Rent</th>\n",
       "      <th>Location</th>\n",
       "      <th>Square_feets</th>\n",
       "      <th>BHK</th>\n",
       "      <th>Facing</th>\n",
       "      <th>Furnish</th>\n",
       "      <th>Bathroom</th>\n",
       "      <th>Floor</th>\n",
       "      <th>Property_type</th>\n",
       "      <th>Deposit</th>\n",
       "      <th>Property_age</th>\n",
       "      <th>Gated_security</th>\n",
       "      <th>Nonveg_allowed</th>\n",
       "      <th>Parking</th>\n",
       "    </tr>\n",
       "  </thead>\n",
       "  <tbody>\n",
       "  </tbody>\n",
       "</table>\n",
       "</div>"
      ],
      "text/plain": [
       "Empty DataFrame\n",
       "Columns: [Rent , Location, Square_feets , BHK, Facing, Furnish, Bathroom, Floor, Property_type, Deposit, Property_age, Gated_security, Nonveg_allowed, Parking]\n",
       "Index: []"
      ]
     },
     "execution_count": 11,
     "metadata": {},
     "output_type": "execute_result"
    }
   ],
   "source": [
    "data[data.duplicated()] "
   ]
  },
  {
   "cell_type": "markdown",
   "id": "c4112381",
   "metadata": {},
   "source": [
    "**Checking Missing values**"
   ]
  },
  {
   "cell_type": "code",
   "execution_count": 12,
   "id": "a6f24800",
   "metadata": {},
   "outputs": [
    {
     "data": {
      "text/plain": [
       "Rent                0\n",
       "Location            0\n",
       "Square_feets        0\n",
       "BHK                 0\n",
       "Facing            248\n",
       "Furnish             0\n",
       "Bathroom            0\n",
       "Floor               0\n",
       "Property_type       0\n",
       "Deposit             0\n",
       "Property_age        0\n",
       "Gated_security      0\n",
       "Nonveg_allowed      0\n",
       "Parking             0\n",
       "dtype: int64"
      ]
     },
     "execution_count": 12,
     "metadata": {},
     "output_type": "execute_result"
    }
   ],
   "source": [
    "data.isnull().sum()"
   ]
  },
  {
   "cell_type": "markdown",
   "id": "dd2d3118",
   "metadata": {},
   "source": [
    "**Deleting the Facing Column**"
   ]
  },
  {
   "cell_type": "code",
   "execution_count": 13,
   "id": "ff382a6a",
   "metadata": {},
   "outputs": [],
   "source": [
    "del data['Facing']"
   ]
  },
  {
   "cell_type": "markdown",
   "id": "f2500f69",
   "metadata": {},
   "source": [
    "### 1. Data Validation & Cleaning <a id='dvc'>\n",
    "[Back to top](#menu)"
   ]
  },
  {
   "cell_type": "markdown",
   "id": "271c43f4",
   "metadata": {},
   "source": [
    "**Checking each and every column data**\n",
    "* We are using string methods for this entire analysis"
   ]
  },
  {
   "cell_type": "code",
   "execution_count": 14,
   "id": "5b3f18a4",
   "metadata": {},
   "outputs": [],
   "source": [
    "# converting categorical columns to lower\n",
    "for i in data.columns:\n",
    "    if data[i].dtype == object:\n",
    "        data[i] = data[i].str.lower()"
   ]
  },
  {
   "cell_type": "markdown",
   "id": "5f6e27a8",
   "metadata": {},
   "source": [
    "* Here i am Modifying the BHK, Rent, Square_feets column names and columns data "
   ]
  },
  {
   "cell_type": "code",
   "execution_count": 15,
   "id": "4fa2cad0",
   "metadata": {},
   "outputs": [],
   "source": [
    "data.rename(columns={'BHK':\"Bhk\",'Rent ':'Rent','Square_feets ':'Square_feets'},inplace = True)"
   ]
  },
  {
   "cell_type": "code",
   "execution_count": 16,
   "id": "593a2ee0",
   "metadata": {},
   "outputs": [
    {
     "name": "stdout",
     "output_type": "stream",
     "text": [
      "Column: Rent\n",
      "\n",
      "Unique Data: \n",
      "\n",
      "['?25,000/m' '?12,000/m' '?89,998/m' '?20,000/m' '?6,500/m' '?36,000/m'\n",
      " '?26,000/m' '?8,000/m' '?27,000/m' '?16,500/m' '?40,000/m' '?1,05,000/m'\n",
      " '?15,000/m' '?9,000/m' '?10,000/m' '?50,000/m' '?60,000/m' '?17,000/m'\n",
      " '?16,000/m' '?29,000/m' '?48,000/m' '?18,000/m' '?33,000/m'\n",
      " 'deposit only' '?1,75,000/m' '?30,000/m' '?18,500/m' '?1,30,000/m'\n",
      " '?35,000/m' '?21,000/m' '?13,000/m' '?31,000/m' '?43,000/m' '?19,000/m'\n",
      " '?45,000/m' '?34,000/m' '?13,500/m' '?80,000/m' '?90,000/m' '?14,000/m'\n",
      " '?32,000/m' '?23,000/m' '?4,000/m' '?49,000/m' '?28,000/m' '?22,000/m'\n",
      " '?7,000/m' '?11,500/m' '?47,500/m' '?7,500/m' '?6,000/m' '?17,500/m'\n",
      " '?14,500/m' '?8,500/m' '?70,000/m' '?5,500/m' '?10,500/m' '?3,500/m'\n",
      " '?9,500/m' '?11,000/m' '?3,000/m' '?5,000/m' '?5,300/m' '?75,000/m'\n",
      " '?55,000/m' '?21,500/m' '?24,000/m' '?38,000/m' '?2,50,000/m' '?42,000/m'\n",
      " '?4,500/m' '?65,000/m' '?2,00,000/m' '?9,300/m' '?12,500/m' '?1,10,000/m'\n",
      " '?15,500/m' '?20,500/m' '?8,200/m']\n",
      "\n",
      "Column: Location\n",
      "\n",
      "Unique Data: \n",
      "\n",
      "['hyderabad' 'madhapur' 'kukatpally ' 'hafeezpet' 'uppal' 'kondapur'\n",
      " 'ameerpet']\n",
      "\n",
      "Column: Square_feets\n",
      "\n",
      "Unique Data: \n",
      "\n",
      "['800' '1,100' '2,810' '1,080' '750' '1,850' '1,500' '225' '980' '1,190'\n",
      " '1,525' '1,650' '3,800' '900' '500' '650' '2,500' '1,200' '200' '3,500'\n",
      " '2,100' '850' '1,116' '300' '1,749' '1,283' '1,660' '1,560' '1,050'\n",
      " '4,300' '2,000' '1,495' '1,640' '1,150' '1,350' '1,250' '965' '3,000'\n",
      " '1,000' '655' '400' '520' '1,600' '610' '450' '1,277' '720' '1,622' '350'\n",
      " '960' '600' '490' '1,780' '120' '150' '2,048' '680' '950' '1,750' '1,300'\n",
      " '2,235' '1,514' '1,575' '2,200' '1,900' '250' '1,842' '1,135' '1,428'\n",
      " '1,400' '1,672' '1,410' '1,740' '1,592' '1,450' '550' '1,520' '995'\n",
      " '1,700' '1,110' '430' '80' '280' '1,615' '6,480' '700' '1,336' '1,106'\n",
      " '540' '1,330' '1,576' '420' '1,130' '1,480' '1,875' '1,908' '1,550'\n",
      " '1,865' '2,150' '1,670' '202' '1,810' '810' '4,000' '1,588' '2,300'\n",
      " '2,400' '160' '1,206' '121' '1,800' '70' '240' '100' '2,025' '5,000'\n",
      " '3,600' '244' '275' '1,756' '3,300' '4,670' '2,110' '1,120' '2,138'\n",
      " '2,490' '162' '3,200' '1,960' '339' '220' '1,535' '890' '1,235' '495'\n",
      " '1,140' '917' '1,220' '303' '2,160' '1,070' '1,185']\n",
      "\n",
      "Column: Bhk\n",
      "\n",
      "Unique Data: \n",
      "\n",
      "['2 bedroom' '3 bedroom' '1 bedroom' '4 bedroom']\n",
      "\n",
      "Column: Furnish\n",
      "\n",
      "Unique Data: \n",
      "\n",
      "['semi' 'unfurnished' 'full']\n",
      "\n",
      "Column: Bathroom\n",
      "\n",
      "Unique Data: \n",
      "\n",
      "[ 2  4  1  3  5  6  7 30]\n",
      "\n",
      "Column: Floor\n",
      "\n",
      "Unique Data: \n",
      "\n",
      "['03-apr' '01-feb' 'dec-15' '03-may' '01-jan' '04-may' '0/2' '0/5'\n",
      " '03-mar' 'jun-15' '04-apr' '0/3' '0/0' '0/6' '01-mar' '0/1' '02-feb'\n",
      " '02-mar' '02-apr' '07-jul' '32/34' 'jun-14' 'mar-15' '01-may' '01-apr'\n",
      " '07-aug' 'apr-14' '03-dec' '05-may' 'jul-13' '03-nov' 'mar-18' 'feb-13'\n",
      " '05-jun' 'jun-13' 'apr-15' '05-dec' '03-jun' '02-may' '03-jul' '02-dec'\n",
      " '0/7' '06-jun' 'may-32' 'jan-13' 'feb-18' '0/4' '30/32' '19/27' '02-jun'\n",
      " '01-sep' '01-jun' '24/25' '02-nov' '23/24' '01-aug' '18/20' 'aug-20'\n",
      " '04-jul' 'jan-14' 'may-14' '04-jun' '02-aug' '03-feb' 'may-15']\n",
      "\n",
      "Column: Property_type\n",
      "\n",
      "Unique Data: \n",
      "\n",
      "['apartment' 'independent house/villa' 'gated community']\n",
      "\n",
      "Column: Deposit\n",
      "\n",
      "Unique Data: \n",
      "\n",
      "['? 50,000' '? 24,000' '? 1' '? 60,000' '? 6,500' '? 72,000' '? 15,000'\n",
      " '? 12,000' '? 52,000' '? 33,000' '? 1,00,000' '? 2,00,000' '? 3,00,000'\n",
      " '? 40,000' '? 25,000' '? 27,000' '? 10,000' '? 1,65,000' '? 18,000'\n",
      " '? 19,500' '? 1,80,000' '? 84,000' '? 34,000' '? 32,000' '? 30,000'\n",
      " '? 87,000' '? 96,000' '? 38,000' '? 1,10,000' '? 66,000' '? 80,000'\n",
      " '? 20,000' '? 7,00,000' '? 1,20,000' '? 2,60,000' '? 70,000' '? 45,000'\n",
      " '? 26,000' '? 13,000' '? 86,000' '? 42,000' '? 90,000' '? 1,60,000'\n",
      " '? 6,00,000' '? 28,000' '? 1,05,000' '? 48,000' '? 14,000' '? 8,000'\n",
      " '? 56,000' '? 75,000' '? 44,000' '? 46,000' '? 11,000' '? 63,000'\n",
      " '? 4,500' '? 64,000' '? 1,02,000' '? 23,000' '? 0' '? 19,000' '? 95,000'\n",
      " '? 2,10,000' '? 16,000' '? 36,000' '? 35,000' '? 29,000' '? 8,500'\n",
      " '? 17,000' '? 16,500' '? 5,500' '? 3,500' '? 7,000' '? 6,000' '? 7,500'\n",
      " '? 21,000' '? 5,000' '? 8,600' '? 2,25,000' '? 4,50,000' '? 2,40,000'\n",
      " '? 76,000' '? 54,000' '? 2,50,000' '? 74,000' '? 1,50,000' '? 10,00,000'\n",
      " '? 65,000' '? 1,19,997' '? 8,00,000' '? 4,000' '? 9,000' '? 78,000'\n",
      " '? 68,000' '? 3,90,000' '? 4,00,000' '? 27,300' '? 64,500' '? 51,000'\n",
      " '? 3,30,000' '? 1,08,000' '? 22,000' '? 18,00,000' '? 9,500' '? 20,500'\n",
      " '? 55,000' '? 8,200' '? 3,000']\n",
      "\n",
      "Column: Property_age\n",
      "\n",
      "Unique Data: \n",
      "\n",
      "['3-5 years' '5-10 years' '1-3 years' '>10 years' 'newly constructed'\n",
      " 'under construction']\n",
      "\n",
      "Column: Gated_security\n",
      "\n",
      "Unique Data: \n",
      "\n",
      "['no' 'yes']\n",
      "\n",
      "Column: Nonveg_allowed\n",
      "\n",
      "Unique Data: \n",
      "\n",
      "['yes' 'no']\n",
      "\n",
      "Column: Parking\n",
      "\n",
      "Unique Data: \n",
      "\n",
      "['bike and car' 'bike' 'car' 'none']\n",
      "\n"
     ]
    }
   ],
   "source": [
    "for col in data.columns:\n",
    "    print(\"Column:\", col)\n",
    "    print()\n",
    "    print(\"Unique Data: \")\n",
    "    print()\n",
    "    print(data[col].unique())\n",
    "    print()"
   ]
  },
  {
   "cell_type": "markdown",
   "id": "de34c125",
   "metadata": {},
   "source": [
    "**Rent**"
   ]
  },
  {
   "cell_type": "code",
   "execution_count": 17,
   "id": "b540d580",
   "metadata": {},
   "outputs": [],
   "source": [
    "data.Rent = data.Rent.str.strip(\"?\").str.replace(\",\",\"\").str.replace(\"/m\",\"\")"
   ]
  },
  {
   "cell_type": "code",
   "execution_count": 18,
   "id": "56678ffe",
   "metadata": {},
   "outputs": [],
   "source": [
    "data.Rent = data.Rent.str.replace(\"deposit only\",\"20000\")"
   ]
  },
  {
   "cell_type": "code",
   "execution_count": 19,
   "id": "ab41082b",
   "metadata": {},
   "outputs": [],
   "source": [
    "data.Rent= data.Rent.astype(int)"
   ]
  },
  {
   "cell_type": "code",
   "execution_count": 20,
   "id": "c187bb73",
   "metadata": {},
   "outputs": [
    {
     "data": {
      "text/plain": [
       "(array([ 25000,  12000,  89998,  20000,   6500,  36000,  26000,   8000,\n",
       "         27000,  16500,  40000, 105000,  15000,   9000,  10000,  50000,\n",
       "         60000,  17000,  16000,  29000,  48000,  18000,  33000, 175000,\n",
       "         30000,  18500, 130000,  35000,  21000,  13000,  31000,  43000,\n",
       "         19000,  45000,  34000,  13500,  80000,  90000,  14000,  32000,\n",
       "         23000,   4000,  49000,  28000,  22000,   7000,  11500,  47500,\n",
       "          7500,   6000,  17500,  14500,   8500,  70000,   5500,  10500,\n",
       "          3500,   9500,  11000,   3000,   5000,   5300,  75000,  55000,\n",
       "         21500,  24000,  38000, 250000,  42000,   4500,  65000, 200000,\n",
       "          9300,  12500, 110000,  15500,  20500,   8200]),\n",
       " 78,\n",
       " dtype('int32'))"
      ]
     },
     "execution_count": 20,
     "metadata": {},
     "output_type": "execute_result"
    }
   ],
   "source": [
    "data.Rent.unique(),data.Rent.nunique(),data.Rent.dtype"
   ]
  },
  {
   "cell_type": "markdown",
   "id": "7aa35df3",
   "metadata": {},
   "source": [
    "**Location**"
   ]
  },
  {
   "cell_type": "code",
   "execution_count": 21,
   "id": "e23005b3",
   "metadata": {},
   "outputs": [
    {
     "data": {
      "text/plain": [
       "(array(['hyderabad', 'madhapur', 'kukatpally ', 'hafeezpet', 'uppal',\n",
       "        'kondapur', 'ameerpet'], dtype=object),\n",
       " 7,\n",
       " dtype('O'))"
      ]
     },
     "execution_count": 21,
     "metadata": {},
     "output_type": "execute_result"
    }
   ],
   "source": [
    "data.Location.unique(),data.Location.nunique(),data.Location.dtype"
   ]
  },
  {
   "cell_type": "markdown",
   "id": "1465aece",
   "metadata": {},
   "source": [
    "**Square_feets**"
   ]
  },
  {
   "cell_type": "code",
   "execution_count": 22,
   "id": "b6cf1597",
   "metadata": {},
   "outputs": [],
   "source": [
    "data.Square_feets = data.Square_feets.str.replace(\",\",\"\")"
   ]
  },
  {
   "cell_type": "code",
   "execution_count": 23,
   "id": "9a53bcd4",
   "metadata": {},
   "outputs": [],
   "source": [
    "data.Square_feets = data.Square_feets.astype(int)"
   ]
  },
  {
   "cell_type": "code",
   "execution_count": 24,
   "id": "22c14211",
   "metadata": {},
   "outputs": [
    {
     "data": {
      "text/plain": [
       "(array([ 800, 1100, 2810, 1080,  750, 1850, 1500,  225,  980, 1190, 1525,\n",
       "        1650, 3800,  900,  500,  650, 2500, 1200,  200, 3500, 2100,  850,\n",
       "        1116,  300, 1749, 1283, 1660, 1560, 1050, 4300, 2000, 1495, 1640,\n",
       "        1150, 1350, 1250,  965, 3000, 1000,  655,  400,  520, 1600,  610,\n",
       "         450, 1277,  720, 1622,  350,  960,  600,  490, 1780,  120,  150,\n",
       "        2048,  680,  950, 1750, 1300, 2235, 1514, 1575, 2200, 1900,  250,\n",
       "        1842, 1135, 1428, 1400, 1672, 1410, 1740, 1592, 1450,  550, 1520,\n",
       "         995, 1700, 1110,  430,   80,  280, 1615, 6480,  700, 1336, 1106,\n",
       "         540, 1330, 1576,  420, 1130, 1480, 1875, 1908, 1550, 1865, 2150,\n",
       "        1670,  202, 1810,  810, 4000, 1588, 2300, 2400,  160, 1206,  121,\n",
       "        1800,   70,  240,  100, 2025, 5000, 3600,  244,  275, 1756, 3300,\n",
       "        4670, 2110, 1120, 2138, 2490,  162, 3200, 1960,  339,  220, 1535,\n",
       "         890, 1235,  495, 1140,  917, 1220,  303, 2160, 1070, 1185]),\n",
       " 142,\n",
       " dtype('int32'))"
      ]
     },
     "execution_count": 24,
     "metadata": {},
     "output_type": "execute_result"
    }
   ],
   "source": [
    "data.Square_feets.unique(),data.Square_feets.nunique(),data.Square_feets.dtype"
   ]
  },
  {
   "cell_type": "markdown",
   "id": "8b652fb6",
   "metadata": {},
   "source": [
    "**Bhk**"
   ]
  },
  {
   "cell_type": "code",
   "execution_count": 25,
   "id": "f23ad6e6",
   "metadata": {},
   "outputs": [],
   "source": [
    "data.Bhk = data.Bhk.str.replace(\",\",\"\").str.replace(\"bedroom\",\"\")"
   ]
  },
  {
   "cell_type": "code",
   "execution_count": 26,
   "id": "15975f32",
   "metadata": {},
   "outputs": [],
   "source": [
    "data.Bhk = data.Bhk.astype(int)"
   ]
  },
  {
   "cell_type": "code",
   "execution_count": 27,
   "id": "15c87b4a",
   "metadata": {},
   "outputs": [
    {
     "data": {
      "text/plain": [
       "(array([2, 3, 1, 4]), 4, dtype('int32'))"
      ]
     },
     "execution_count": 27,
     "metadata": {},
     "output_type": "execute_result"
    }
   ],
   "source": [
    "data.Bhk.unique(),data.Bhk.nunique(),data.Bhk.dtype"
   ]
  },
  {
   "cell_type": "markdown",
   "id": "e2648c02",
   "metadata": {},
   "source": [
    "**Furnish**"
   ]
  },
  {
   "cell_type": "code",
   "execution_count": 28,
   "id": "3849ff2f",
   "metadata": {},
   "outputs": [
    {
     "data": {
      "text/plain": [
       "(array(['semi', 'unfurnished', 'full'], dtype=object), 3, dtype('O'))"
      ]
     },
     "execution_count": 28,
     "metadata": {},
     "output_type": "execute_result"
    }
   ],
   "source": [
    "data.Furnish.unique(),data.Furnish.nunique(),data.Furnish.dtype"
   ]
  },
  {
   "cell_type": "markdown",
   "id": "7b74843d",
   "metadata": {},
   "source": [
    "**Bathroom**"
   ]
  },
  {
   "cell_type": "code",
   "execution_count": 29,
   "id": "f8bc71ef",
   "metadata": {},
   "outputs": [
    {
     "data": {
      "text/plain": [
       "(array([ 2,  4,  1,  3,  5,  6,  7, 30], dtype=int64), 8, dtype('int64'))"
      ]
     },
     "execution_count": 29,
     "metadata": {},
     "output_type": "execute_result"
    }
   ],
   "source": [
    "data.Bathroom.unique(),data.Bathroom.nunique(),data.Bathroom.dtype"
   ]
  },
  {
   "cell_type": "markdown",
   "id": "e7c20e88",
   "metadata": {},
   "source": [
    "**Floor**"
   ]
  },
  {
   "cell_type": "code",
   "execution_count": 30,
   "id": "64bda9c6",
   "metadata": {},
   "outputs": [],
   "source": [
    "data.Floor = data.Floor.str.replace(\"-\",\"\")"
   ]
  },
  {
   "cell_type": "code",
   "execution_count": 31,
   "id": "0dc48eb2",
   "metadata": {
    "scrolled": true
   },
   "outputs": [
    {
     "data": {
      "text/plain": [
       "(array(['03apr', '01feb', 'dec15', '03may', '01jan', '04may', '0/2', '0/5',\n",
       "        '03mar', 'jun15', '04apr', '0/3', '0/0', '0/6', '01mar', '0/1',\n",
       "        '02feb', '02mar', '02apr', '07jul', '32/34', 'jun14', 'mar15',\n",
       "        '01may', '01apr', '07aug', 'apr14', '03dec', '05may', 'jul13',\n",
       "        '03nov', 'mar18', 'feb13', '05jun', 'jun13', 'apr15', '05dec',\n",
       "        '03jun', '02may', '03jul', '02dec', '0/7', '06jun', 'may32',\n",
       "        'jan13', 'feb18', '0/4', '30/32', '19/27', '02jun', '01sep',\n",
       "        '01jun', '24/25', '02nov', '23/24', '01aug', '18/20', 'aug20',\n",
       "        '04jul', 'jan14', 'may14', '04jun', '02aug', '03feb', 'may15'],\n",
       "       dtype=object),\n",
       " 65,\n",
       " dtype('O'))"
      ]
     },
     "execution_count": 31,
     "metadata": {},
     "output_type": "execute_result"
    }
   ],
   "source": [
    "data.Floor.unique(),data.Floor.nunique(),data.Floor.dtype"
   ]
  },
  {
   "cell_type": "code",
   "execution_count": 32,
   "id": "5aeeb22a",
   "metadata": {},
   "outputs": [],
   "source": [
    "del data['Floor']"
   ]
  },
  {
   "cell_type": "markdown",
   "id": "2e9bee97",
   "metadata": {},
   "source": [
    "**Property_type**"
   ]
  },
  {
   "cell_type": "code",
   "execution_count": 33,
   "id": "232c5d6a",
   "metadata": {},
   "outputs": [],
   "source": [
    "data.Property_type = data.Property_type.str.replace(\"/\",\"_\")"
   ]
  },
  {
   "cell_type": "code",
   "execution_count": 34,
   "id": "a633a4a7",
   "metadata": {},
   "outputs": [
    {
     "data": {
      "text/plain": [
       "(array(['apartment', 'independent house_villa', 'gated community'],\n",
       "       dtype=object),\n",
       " 3,\n",
       " dtype('O'))"
      ]
     },
     "execution_count": 34,
     "metadata": {},
     "output_type": "execute_result"
    }
   ],
   "source": [
    "data.Property_type.unique(),data.Property_type.nunique(),data.Property_type.dtype"
   ]
  },
  {
   "cell_type": "markdown",
   "id": "c6e9071e",
   "metadata": {},
   "source": [
    "**Deposit**"
   ]
  },
  {
   "cell_type": "code",
   "execution_count": 35,
   "id": "1c70eff0",
   "metadata": {},
   "outputs": [],
   "source": [
    "data.Deposit = data.Deposit.str.strip(\"?\").str.replace(\",\",\"\")"
   ]
  },
  {
   "cell_type": "code",
   "execution_count": 36,
   "id": "01dc4e78",
   "metadata": {},
   "outputs": [],
   "source": [
    "data.Deposit = data.Deposit.astype(int)"
   ]
  },
  {
   "cell_type": "code",
   "execution_count": 37,
   "id": "1c1a6887",
   "metadata": {},
   "outputs": [
    {
     "data": {
      "text/plain": [
       "(array([  50000,   24000,       1,   60000,    6500,   72000,   15000,\n",
       "          12000,   52000,   33000,  100000,  200000,  300000,   40000,\n",
       "          25000,   27000,   10000,  165000,   18000,   19500,  180000,\n",
       "          84000,   34000,   32000,   30000,   87000,   96000,   38000,\n",
       "         110000,   66000,   80000,   20000,  700000,  120000,  260000,\n",
       "          70000,   45000,   26000,   13000,   86000,   42000,   90000,\n",
       "         160000,  600000,   28000,  105000,   48000,   14000,    8000,\n",
       "          56000,   75000,   44000,   46000,   11000,   63000,    4500,\n",
       "          64000,  102000,   23000,       0,   19000,   95000,  210000,\n",
       "          16000,   36000,   35000,   29000,    8500,   17000,   16500,\n",
       "           5500,    3500,    7000,    6000,    7500,   21000,    5000,\n",
       "           8600,  225000,  450000,  240000,   76000,   54000,  250000,\n",
       "          74000,  150000, 1000000,   65000,  119997,  800000,    4000,\n",
       "           9000,   78000,   68000,  390000,  400000,   27300,   64500,\n",
       "          51000,  330000,  108000,   22000, 1800000,    9500,   20500,\n",
       "          55000,    8200,    3000]),\n",
       " 108,\n",
       " dtype('int32'))"
      ]
     },
     "execution_count": 37,
     "metadata": {},
     "output_type": "execute_result"
    }
   ],
   "source": [
    "data.Deposit.unique(),data.Deposit.nunique(),data.Deposit.dtype"
   ]
  },
  {
   "cell_type": "markdown",
   "id": "0fa63575",
   "metadata": {},
   "source": [
    "**Property_age**"
   ]
  },
  {
   "cell_type": "code",
   "execution_count": 38,
   "id": "8d5e4029",
   "metadata": {},
   "outputs": [],
   "source": [
    "data.Property_age = data.Property_age.str.replace(\"years\",\"\").str.replace(\">\",\"\")"
   ]
  },
  {
   "cell_type": "code",
   "execution_count": 39,
   "id": "17d0c8a8",
   "metadata": {},
   "outputs": [
    {
     "data": {
      "text/plain": [
       "(array(['3-5 ', '5-10 ', '1-3 ', '10 ', 'newly constructed',\n",
       "        'under construction'], dtype=object),\n",
       " 6,\n",
       " dtype('O'))"
      ]
     },
     "execution_count": 39,
     "metadata": {},
     "output_type": "execute_result"
    }
   ],
   "source": [
    "data.Property_age.unique(),data.Property_age.nunique(),data.Property_age.dtype"
   ]
  },
  {
   "cell_type": "code",
   "execution_count": 40,
   "id": "71529b65",
   "metadata": {},
   "outputs": [],
   "source": [
    "data.Property_age = data.Property_age.replace(\"3-5 \",\"above_3_years\").replace(\"5-10 \",\"above_5_years\").replace(\"1-3 \",\"above_1_year\").replace(\"10 \",\"10_years\")"
   ]
  },
  {
   "cell_type": "markdown",
   "id": "e62c073b",
   "metadata": {},
   "source": [
    "**Gated_security**"
   ]
  },
  {
   "cell_type": "code",
   "execution_count": 41,
   "id": "ed2d6e8a",
   "metadata": {},
   "outputs": [
    {
     "data": {
      "text/plain": [
       "(array(['no', 'yes'], dtype=object), 2, dtype('O'))"
      ]
     },
     "execution_count": 41,
     "metadata": {},
     "output_type": "execute_result"
    }
   ],
   "source": [
    "data.Gated_security.unique(),data.Gated_security.nunique(),data.Gated_security.dtype"
   ]
  },
  {
   "cell_type": "markdown",
   "id": "bff0477e",
   "metadata": {},
   "source": [
    "**Nonveg_allowed**"
   ]
  },
  {
   "cell_type": "code",
   "execution_count": 42,
   "id": "4182b34c",
   "metadata": {},
   "outputs": [
    {
     "data": {
      "text/plain": [
       "(array(['yes', 'no'], dtype=object), 2, dtype('O'))"
      ]
     },
     "execution_count": 42,
     "metadata": {},
     "output_type": "execute_result"
    }
   ],
   "source": [
    "data.Nonveg_allowed.unique(),data.Nonveg_allowed.nunique(),data.Nonveg_allowed.dtype"
   ]
  },
  {
   "cell_type": "markdown",
   "id": "227a4133",
   "metadata": {},
   "source": [
    "**Parking**"
   ]
  },
  {
   "cell_type": "code",
   "execution_count": 43,
   "id": "2fdd3136",
   "metadata": {},
   "outputs": [],
   "source": [
    "data.Parking = data.Parking.str.replace(\" \",\"_\")"
   ]
  },
  {
   "cell_type": "code",
   "execution_count": 44,
   "id": "b5802ee5",
   "metadata": {},
   "outputs": [
    {
     "data": {
      "text/plain": [
       "bike            265\n",
       "bike_and_car    191\n",
       "car              59\n",
       "none             54\n",
       "Name: Parking, dtype: int64"
      ]
     },
     "execution_count": 44,
     "metadata": {},
     "output_type": "execute_result"
    }
   ],
   "source": [
    "data.Parking.value_counts()"
   ]
  },
  {
   "cell_type": "code",
   "execution_count": 45,
   "id": "d8aa43fd",
   "metadata": {},
   "outputs": [
    {
     "data": {
      "text/plain": [
       "(array(['bike_and_car', 'bike', 'car', 'none'], dtype=object), 4, dtype('O'))"
      ]
     },
     "execution_count": 45,
     "metadata": {},
     "output_type": "execute_result"
    }
   ],
   "source": [
    "data.Parking.unique(),data.Parking.nunique(),data.Parking.dtype"
   ]
  },
  {
   "cell_type": "code",
   "execution_count": 46,
   "id": "61aff529",
   "metadata": {},
   "outputs": [
    {
     "name": "stdout",
     "output_type": "stream",
     "text": [
      "<class 'pandas.core.frame.DataFrame'>\n",
      "RangeIndex: 569 entries, 0 to 568\n",
      "Data columns (total 12 columns):\n",
      " #   Column          Non-Null Count  Dtype \n",
      "---  ------          --------------  ----- \n",
      " 0   Rent            569 non-null    int32 \n",
      " 1   Location        569 non-null    object\n",
      " 2   Square_feets    569 non-null    int32 \n",
      " 3   Bhk             569 non-null    int32 \n",
      " 4   Furnish         569 non-null    object\n",
      " 5   Bathroom        569 non-null    int64 \n",
      " 6   Property_type   569 non-null    object\n",
      " 7   Deposit         569 non-null    int32 \n",
      " 8   Property_age    569 non-null    object\n",
      " 9   Gated_security  569 non-null    object\n",
      " 10  Nonveg_allowed  569 non-null    object\n",
      " 11  Parking         569 non-null    object\n",
      "dtypes: int32(4), int64(1), object(7)\n",
      "memory usage: 44.6+ KB\n"
     ]
    }
   ],
   "source": [
    "data.info()"
   ]
  },
  {
   "cell_type": "code",
   "execution_count": 47,
   "id": "b173557d",
   "metadata": {},
   "outputs": [
    {
     "data": {
      "text/html": [
       "<div>\n",
       "<style scoped>\n",
       "    .dataframe tbody tr th:only-of-type {\n",
       "        vertical-align: middle;\n",
       "    }\n",
       "\n",
       "    .dataframe tbody tr th {\n",
       "        vertical-align: top;\n",
       "    }\n",
       "\n",
       "    .dataframe thead th {\n",
       "        text-align: right;\n",
       "    }\n",
       "</style>\n",
       "<table border=\"1\" class=\"dataframe\">\n",
       "  <thead>\n",
       "    <tr style=\"text-align: right;\">\n",
       "      <th></th>\n",
       "      <th>Rent</th>\n",
       "      <th>Location</th>\n",
       "      <th>Square_feets</th>\n",
       "      <th>Bhk</th>\n",
       "      <th>Furnish</th>\n",
       "      <th>Bathroom</th>\n",
       "      <th>Property_type</th>\n",
       "      <th>Deposit</th>\n",
       "      <th>Property_age</th>\n",
       "      <th>Gated_security</th>\n",
       "      <th>Nonveg_allowed</th>\n",
       "      <th>Parking</th>\n",
       "    </tr>\n",
       "  </thead>\n",
       "  <tbody>\n",
       "    <tr>\n",
       "      <th>0</th>\n",
       "      <td>25000</td>\n",
       "      <td>hyderabad</td>\n",
       "      <td>800</td>\n",
       "      <td>2</td>\n",
       "      <td>semi</td>\n",
       "      <td>2</td>\n",
       "      <td>apartment</td>\n",
       "      <td>50000</td>\n",
       "      <td>above_3_years</td>\n",
       "      <td>no</td>\n",
       "      <td>yes</td>\n",
       "      <td>bike_and_car</td>\n",
       "    </tr>\n",
       "    <tr>\n",
       "      <th>1</th>\n",
       "      <td>12000</td>\n",
       "      <td>hyderabad</td>\n",
       "      <td>1100</td>\n",
       "      <td>2</td>\n",
       "      <td>unfurnished</td>\n",
       "      <td>2</td>\n",
       "      <td>apartment</td>\n",
       "      <td>24000</td>\n",
       "      <td>above_5_years</td>\n",
       "      <td>no</td>\n",
       "      <td>yes</td>\n",
       "      <td>bike</td>\n",
       "    </tr>\n",
       "    <tr>\n",
       "      <th>2</th>\n",
       "      <td>89998</td>\n",
       "      <td>hyderabad</td>\n",
       "      <td>2810</td>\n",
       "      <td>3</td>\n",
       "      <td>semi</td>\n",
       "      <td>4</td>\n",
       "      <td>apartment</td>\n",
       "      <td>1</td>\n",
       "      <td>above_1_year</td>\n",
       "      <td>no</td>\n",
       "      <td>yes</td>\n",
       "      <td>bike_and_car</td>\n",
       "    </tr>\n",
       "    <tr>\n",
       "      <th>3</th>\n",
       "      <td>20000</td>\n",
       "      <td>hyderabad</td>\n",
       "      <td>1080</td>\n",
       "      <td>2</td>\n",
       "      <td>semi</td>\n",
       "      <td>2</td>\n",
       "      <td>apartment</td>\n",
       "      <td>60000</td>\n",
       "      <td>10_years</td>\n",
       "      <td>no</td>\n",
       "      <td>yes</td>\n",
       "      <td>car</td>\n",
       "    </tr>\n",
       "    <tr>\n",
       "      <th>4</th>\n",
       "      <td>6500</td>\n",
       "      <td>hyderabad</td>\n",
       "      <td>750</td>\n",
       "      <td>1</td>\n",
       "      <td>unfurnished</td>\n",
       "      <td>1</td>\n",
       "      <td>independent house_villa</td>\n",
       "      <td>6500</td>\n",
       "      <td>above_1_year</td>\n",
       "      <td>yes</td>\n",
       "      <td>yes</td>\n",
       "      <td>bike</td>\n",
       "    </tr>\n",
       "  </tbody>\n",
       "</table>\n",
       "</div>"
      ],
      "text/plain": [
       "    Rent   Location  Square_feets  Bhk      Furnish  Bathroom  \\\n",
       "0  25000  hyderabad           800    2         semi         2   \n",
       "1  12000  hyderabad          1100    2  unfurnished         2   \n",
       "2  89998  hyderabad          2810    3         semi         4   \n",
       "3  20000  hyderabad          1080    2         semi         2   \n",
       "4   6500  hyderabad           750    1  unfurnished         1   \n",
       "\n",
       "             Property_type  Deposit   Property_age Gated_security  \\\n",
       "0                apartment    50000  above_3_years             no   \n",
       "1                apartment    24000  above_5_years             no   \n",
       "2                apartment        1   above_1_year             no   \n",
       "3                apartment    60000       10_years             no   \n",
       "4  independent house_villa     6500   above_1_year            yes   \n",
       "\n",
       "  Nonveg_allowed       Parking  \n",
       "0            yes  bike_and_car  \n",
       "1            yes          bike  \n",
       "2            yes  bike_and_car  \n",
       "3            yes           car  \n",
       "4            yes          bike  "
      ]
     },
     "execution_count": 47,
     "metadata": {},
     "output_type": "execute_result"
    }
   ],
   "source": [
    "data.head(5)"
   ]
  },
  {
   "cell_type": "code",
   "execution_count": null,
   "id": "6529e2b9",
   "metadata": {},
   "outputs": [],
   "source": []
  },
  {
   "cell_type": "markdown",
   "id": "7090e742",
   "metadata": {},
   "source": [
    "### Data Understanding  \n",
    "## 2. EDA (Exploratory Data Analysis): <a id='eda'>"
   ]
  },
  {
   "cell_type": "markdown",
   "id": "daea4a07",
   "metadata": {},
   "source": [
    "[Back to Top](#menu)\n",
    "* We can get insights on dataset using Exploratory Data Analysis (EDA) methods\n",
    "\n",
    "* EDA can be of two things, \n",
    "    - Statistics\n",
    "        - Descriptive\n",
    "        - Inferential\n",
    "    - Visual Analysis"
   ]
  },
  {
   "cell_type": "code",
   "execution_count": 48,
   "id": "d96c35e9",
   "metadata": {},
   "outputs": [
    {
     "data": {
      "text/html": [
       "<div>\n",
       "<style scoped>\n",
       "    .dataframe tbody tr th:only-of-type {\n",
       "        vertical-align: middle;\n",
       "    }\n",
       "\n",
       "    .dataframe tbody tr th {\n",
       "        vertical-align: top;\n",
       "    }\n",
       "\n",
       "    .dataframe thead th {\n",
       "        text-align: right;\n",
       "    }\n",
       "</style>\n",
       "<table border=\"1\" class=\"dataframe\">\n",
       "  <thead>\n",
       "    <tr style=\"text-align: right;\">\n",
       "      <th></th>\n",
       "      <th>Rent</th>\n",
       "      <th>Location</th>\n",
       "      <th>Square_feets</th>\n",
       "      <th>Bhk</th>\n",
       "      <th>Furnish</th>\n",
       "      <th>Bathroom</th>\n",
       "      <th>Property_type</th>\n",
       "      <th>Deposit</th>\n",
       "      <th>Property_age</th>\n",
       "      <th>Gated_security</th>\n",
       "      <th>Nonveg_allowed</th>\n",
       "      <th>Parking</th>\n",
       "    </tr>\n",
       "  </thead>\n",
       "  <tbody>\n",
       "    <tr>\n",
       "      <th>0</th>\n",
       "      <td>25000</td>\n",
       "      <td>hyderabad</td>\n",
       "      <td>800</td>\n",
       "      <td>2</td>\n",
       "      <td>semi</td>\n",
       "      <td>2</td>\n",
       "      <td>apartment</td>\n",
       "      <td>50000</td>\n",
       "      <td>above_3_years</td>\n",
       "      <td>no</td>\n",
       "      <td>yes</td>\n",
       "      <td>bike_and_car</td>\n",
       "    </tr>\n",
       "    <tr>\n",
       "      <th>1</th>\n",
       "      <td>12000</td>\n",
       "      <td>hyderabad</td>\n",
       "      <td>1100</td>\n",
       "      <td>2</td>\n",
       "      <td>unfurnished</td>\n",
       "      <td>2</td>\n",
       "      <td>apartment</td>\n",
       "      <td>24000</td>\n",
       "      <td>above_5_years</td>\n",
       "      <td>no</td>\n",
       "      <td>yes</td>\n",
       "      <td>bike</td>\n",
       "    </tr>\n",
       "    <tr>\n",
       "      <th>2</th>\n",
       "      <td>89998</td>\n",
       "      <td>hyderabad</td>\n",
       "      <td>2810</td>\n",
       "      <td>3</td>\n",
       "      <td>semi</td>\n",
       "      <td>4</td>\n",
       "      <td>apartment</td>\n",
       "      <td>1</td>\n",
       "      <td>above_1_year</td>\n",
       "      <td>no</td>\n",
       "      <td>yes</td>\n",
       "      <td>bike_and_car</td>\n",
       "    </tr>\n",
       "    <tr>\n",
       "      <th>3</th>\n",
       "      <td>20000</td>\n",
       "      <td>hyderabad</td>\n",
       "      <td>1080</td>\n",
       "      <td>2</td>\n",
       "      <td>semi</td>\n",
       "      <td>2</td>\n",
       "      <td>apartment</td>\n",
       "      <td>60000</td>\n",
       "      <td>10_years</td>\n",
       "      <td>no</td>\n",
       "      <td>yes</td>\n",
       "      <td>car</td>\n",
       "    </tr>\n",
       "    <tr>\n",
       "      <th>4</th>\n",
       "      <td>6500</td>\n",
       "      <td>hyderabad</td>\n",
       "      <td>750</td>\n",
       "      <td>1</td>\n",
       "      <td>unfurnished</td>\n",
       "      <td>1</td>\n",
       "      <td>independent house_villa</td>\n",
       "      <td>6500</td>\n",
       "      <td>above_1_year</td>\n",
       "      <td>yes</td>\n",
       "      <td>yes</td>\n",
       "      <td>bike</td>\n",
       "    </tr>\n",
       "  </tbody>\n",
       "</table>\n",
       "</div>"
      ],
      "text/plain": [
       "    Rent   Location  Square_feets  Bhk      Furnish  Bathroom  \\\n",
       "0  25000  hyderabad           800    2         semi         2   \n",
       "1  12000  hyderabad          1100    2  unfurnished         2   \n",
       "2  89998  hyderabad          2810    3         semi         4   \n",
       "3  20000  hyderabad          1080    2         semi         2   \n",
       "4   6500  hyderabad           750    1  unfurnished         1   \n",
       "\n",
       "             Property_type  Deposit   Property_age Gated_security  \\\n",
       "0                apartment    50000  above_3_years             no   \n",
       "1                apartment    24000  above_5_years             no   \n",
       "2                apartment        1   above_1_year             no   \n",
       "3                apartment    60000       10_years             no   \n",
       "4  independent house_villa     6500   above_1_year            yes   \n",
       "\n",
       "  Nonveg_allowed       Parking  \n",
       "0            yes  bike_and_car  \n",
       "1            yes          bike  \n",
       "2            yes  bike_and_car  \n",
       "3            yes           car  \n",
       "4            yes          bike  "
      ]
     },
     "execution_count": 48,
     "metadata": {},
     "output_type": "execute_result"
    }
   ],
   "source": [
    "data.head()"
   ]
  },
  {
   "cell_type": "code",
   "execution_count": 49,
   "id": "81b9378d",
   "metadata": {},
   "outputs": [
    {
     "data": {
      "text/plain": [
       "Rent               int32\n",
       "Location          object\n",
       "Square_feets       int32\n",
       "Bhk                int32\n",
       "Furnish           object\n",
       "Bathroom           int64\n",
       "Property_type     object\n",
       "Deposit            int32\n",
       "Property_age      object\n",
       "Gated_security    object\n",
       "Nonveg_allowed    object\n",
       "Parking           object\n",
       "dtype: object"
      ]
     },
     "execution_count": 49,
     "metadata": {},
     "output_type": "execute_result"
    }
   ],
   "source": [
    "data.dtypes"
   ]
  },
  {
   "cell_type": "markdown",
   "id": "5d14000a",
   "metadata": {},
   "source": [
    "* Numerical and Categorical\n",
    "\n",
    "Numerical | Categorical\n",
    "--|---------------------\n",
    "Rent | Location\n",
    "Square_feets|Furnish\n",
    "Bhk| Floor\n",
    "Bathroom| Property_type\n",
    "Deposit| Property_age\n",
    "-|Gated_security\n",
    "-|Nonveg_allowed\n",
    "-|Parking"
   ]
  },
  {
   "cell_type": "code",
   "execution_count": 50,
   "id": "d70f3084",
   "metadata": {},
   "outputs": [
    {
     "data": {
      "text/plain": [
       "(Index(['Rent', 'Location', 'Square_feets', 'Bhk', 'Furnish', 'Bathroom',\n",
       "        'Property_type', 'Deposit', 'Property_age', 'Gated_security',\n",
       "        'Nonveg_allowed', 'Parking'],\n",
       "       dtype='object'),\n",
       " Rent               int32\n",
       " Location          object\n",
       " Square_feets       int32\n",
       " Bhk                int32\n",
       " Furnish           object\n",
       " Bathroom           int64\n",
       " Property_type     object\n",
       " Deposit            int32\n",
       " Property_age      object\n",
       " Gated_security    object\n",
       " Nonveg_allowed    object\n",
       " Parking           object\n",
       " dtype: object)"
      ]
     },
     "execution_count": 50,
     "metadata": {},
     "output_type": "execute_result"
    }
   ],
   "source": [
    "data.columns, data.dtypes"
   ]
  },
  {
   "cell_type": "code",
   "execution_count": 51,
   "id": "cc09ecfd",
   "metadata": {},
   "outputs": [
    {
     "data": {
      "text/plain": [
       "count       569.000000\n",
       "mean      22837.079086\n",
       "std       21803.637073\n",
       "min        3000.000000\n",
       "25%       10000.000000\n",
       "50%       18000.000000\n",
       "75%       30000.000000\n",
       "max      250000.000000\n",
       "Name: Rent, dtype: float64"
      ]
     },
     "execution_count": 51,
     "metadata": {},
     "output_type": "execute_result"
    }
   ],
   "source": [
    "data.Rent.describe()"
   ]
  },
  {
   "cell_type": "code",
   "execution_count": 52,
   "id": "11e738cd",
   "metadata": {},
   "outputs": [
    {
     "data": {
      "text/plain": [
       "(20000     40\n",
       " 12000     35\n",
       " 15000     31\n",
       " 10000     30\n",
       " 30000     26\n",
       "           ..\n",
       " 49000      1\n",
       " 43000      1\n",
       " 31000      1\n",
       " 175000     1\n",
       " 8200       1\n",
       " Name: Rent, Length: 78, dtype: int64,\n",
       " 18000.0,\n",
       " array([ 25000,  12000,  89998,  20000,   6500,  36000,  26000,   8000,\n",
       "         27000,  16500,  40000, 105000,  15000,   9000,  10000,  50000,\n",
       "         60000,  17000,  16000,  29000,  48000,  18000,  33000, 175000,\n",
       "         30000,  18500, 130000,  35000,  21000,  13000,  31000,  43000,\n",
       "         19000,  45000,  34000,  13500,  80000,  90000,  14000,  32000,\n",
       "         23000,   4000,  49000,  28000,  22000,   7000,  11500,  47500,\n",
       "          7500,   6000,  17500,  14500,   8500,  70000,   5500,  10500,\n",
       "          3500,   9500,  11000,   3000,   5000,   5300,  75000,  55000,\n",
       "         21500,  24000,  38000, 250000,  42000,   4500,  65000, 200000,\n",
       "          9300,  12500, 110000,  15500,  20500,   8200]),\n",
       " 78)"
      ]
     },
     "execution_count": 52,
     "metadata": {},
     "output_type": "execute_result"
    }
   ],
   "source": [
    "data.Rent.value_counts(),data.Rent.median(),data.Rent.unique(),data.Rent.nunique()"
   ]
  },
  {
   "cell_type": "code",
   "execution_count": 53,
   "id": "09906c3f",
   "metadata": {},
   "outputs": [
    {
     "data": {
      "text/plain": [
       "(22837.07908611599, 18000.0, 21803.637073417318)"
      ]
     },
     "execution_count": 53,
     "metadata": {},
     "output_type": "execute_result"
    }
   ],
   "source": [
    "data.Rent.mean(),data.Rent.median(),data.Rent.std()"
   ]
  },
  {
   "cell_type": "markdown",
   "id": "07a5e247",
   "metadata": {},
   "source": [
    "**Uni-Variate analysis on Categorical** "
   ]
  },
  {
   "cell_type": "code",
   "execution_count": 54,
   "id": "3e242216",
   "metadata": {},
   "outputs": [
    {
     "data": {
      "text/plain": [
       "(ameerpet       270\n",
       " madhapur        51\n",
       " kukatpally      50\n",
       " hafeezpet       50\n",
       " uppal           50\n",
       " kondapur        50\n",
       " hyderabad       48\n",
       " Name: Location, dtype: int64,\n",
       " 0    ameerpet\n",
       " Name: Location, dtype: object)"
      ]
     },
     "execution_count": 54,
     "metadata": {},
     "output_type": "execute_result"
    }
   ],
   "source": [
    "data.Location.value_counts(),data.Location.mode()"
   ]
  },
  {
   "cell_type": "code",
   "execution_count": 55,
   "id": "2f042ca3",
   "metadata": {},
   "outputs": [
    {
     "data": {
      "image/png": "[encoded data removed]",
      "text/plain": [
       "<Figure size 300x200 with 1 Axes>"
      ]
     },
     "metadata": {},
     "output_type": "display_data"
    }
   ],
   "source": [
    "plt.figure(figsize=(3,2))\n",
    "data['Location'].value_counts().plot(kind='pie')\n",
    "plt.show()"
   ]
  },
  {
   "cell_type": "markdown",
   "id": "63c76af4",
   "metadata": {},
   "source": [
    "* Ameerpet has highest value counts in location "
   ]
  },
  {
   "cell_type": "code",
   "execution_count": 93,
   "id": "c6665b11",
   "metadata": {},
   "outputs": [
    {
     "data": {
      "text/plain": [
       "(unfurnished    275\n",
       " semi           194\n",
       " full           100\n",
       " Name: Furnish, dtype: int64,\n",
       " 0    unfurnished\n",
       " Name: Furnish, dtype: object)"
      ]
     },
     "execution_count": 93,
     "metadata": {},
     "output_type": "execute_result"
    }
   ],
   "source": [
    "data.Furnish.value_counts(),data.Furnish.mode()"
   ]
  },
  {
   "cell_type": "code",
   "execution_count": 94,
   "id": "7ffd5887",
   "metadata": {},
   "outputs": [
    {
     "data": {
      "image/png": "[encoded data removed]",
      "text/plain": [
       "<Figure size 200x200 with 1 Axes>"
      ]
     },
     "metadata": {},
     "output_type": "display_data"
    }
   ],
   "source": [
    "plt.figure(figsize=(2,2))\n",
    "data['Furnish'].value_counts().plot(kind='bar')\n",
    "plt.show()"
   ]
  },
  {
   "cell_type": "markdown",
   "id": "83ce4315",
   "metadata": {},
   "source": [
    "* Unfurnished has highest value counts in the furnish"
   ]
  },
  {
   "cell_type": "code",
   "execution_count": 95,
   "id": "b863ff83",
   "metadata": {},
   "outputs": [
    {
     "data": {
      "text/plain": [
       "(apartment                  380\n",
       " independent house_villa    182\n",
       " gated community              7\n",
       " Name: Property_type, dtype: int64,\n",
       " 0    apartment\n",
       " Name: Property_type, dtype: object)"
      ]
     },
     "execution_count": 95,
     "metadata": {},
     "output_type": "execute_result"
    }
   ],
   "source": [
    "data.Property_type.value_counts(),data.Property_type.mode()"
   ]
  },
  {
   "cell_type": "code",
   "execution_count": 96,
   "id": "8804f251",
   "metadata": {},
   "outputs": [
    {
     "data": {
      "image/png": "[encoded data removed]",
      "text/plain": [
       "<Figure size 300x200 with 1 Axes>"
      ]
     },
     "metadata": {},
     "output_type": "display_data"
    }
   ],
   "source": [
    "plt.figure(figsize=(3,2))\n",
    "data['Property_type'].value_counts().plot(kind='bar')\n",
    "plt.show()"
   ]
  },
  {
   "cell_type": "markdown",
   "id": "6af097ce",
   "metadata": {},
   "source": [
    "* In property type the aparment has the highest value counts "
   ]
  },
  {
   "cell_type": "code",
   "execution_count": 60,
   "id": "9f1f848a",
   "metadata": {},
   "outputs": [
    {
     "name": "stdout",
     "output_type": "stream",
     "text": [
      "Requirement already satisfied: simple_colors in c:\\users\\user\\anaconda3\\lib\\site-packages (0.1.5)\n"
     ]
    }
   ],
   "source": [
    "! pip install simple_colors"
   ]
  },
  {
   "cell_type": "markdown",
   "id": "408eaa2f",
   "metadata": {},
   "source": [
    "**Complete uni-variate Analysis**"
   ]
  },
  {
   "cell_type": "code",
   "execution_count": 61,
   "id": "37c4317f",
   "metadata": {},
   "outputs": [
    {
     "name": "stdout",
     "output_type": "stream",
     "text": [
      "\n",
      "\u001b[1;36mCategorical/Numeric Discrete Column:\u001b[0m Rent\n",
      "=====================================================\n",
      "\u001b[1;32mUni-Variate Descriptive Stats:\u001b[0m\n",
      "\u001b[1;30mClasses:\u001b[0m [ 25000  12000  89998  20000   6500  36000  26000   8000  27000  16500\n",
      "  40000 105000  15000   9000  10000  50000  60000  17000  16000  29000\n",
      "  48000  18000  33000 175000  30000  18500 130000  35000  21000  13000\n",
      "  31000  43000  19000  45000  34000  13500  80000  90000  14000  32000\n",
      "  23000   4000  49000  28000  22000   7000  11500  47500   7500   6000\n",
      "  17500  14500   8500  70000   5500  10500   3500   9500  11000   3000\n",
      "   5000   5300  75000  55000  21500  24000  38000 250000  42000   4500\n",
      "  65000 200000   9300  12500 110000  15500  20500   8200]\n",
      "\u001b[1;30mNumber of Classes:\u001b[0m 78\n",
      "\u001b[1;30mValue Counts of each class:\u001b[0m 20000     40\n",
      "12000     35\n",
      "15000     31\n",
      "10000     30\n",
      "30000     26\n",
      "          ..\n",
      "49000      1\n",
      "43000      1\n",
      "31000      1\n",
      "175000     1\n",
      "8200       1\n",
      "Name: Rent, Length: 78, dtype: int64\n",
      "\u001b[1;30mClass Percent:\u001b[0m\n",
      "20000     7.029877\n",
      "12000     6.151142\n",
      "15000     5.448155\n",
      "10000     5.272408\n",
      "30000     4.569420\n",
      "            ...   \n",
      "49000     0.175747\n",
      "43000     0.175747\n",
      "31000     0.175747\n",
      "175000    0.175747\n",
      "8200      0.175747\n",
      "Name: Rent, Length: 78, dtype: float64\n",
      "---------------------------------------------------\n",
      "\u001b[1;30mMode Value:\u001b[0m 20000\n",
      "\n",
      "\u001b[1;36mCategorical/Numeric Discrete Column:\u001b[0m Location\n",
      "=====================================================\n",
      "\u001b[1;32mUni-Variate Descriptive Stats:\u001b[0m\n",
      "\u001b[1;30mClasses:\u001b[0m ['hyderabad' 'madhapur' 'kukatpally ' 'hafeezpet' 'uppal' 'kondapur'\n",
      " 'ameerpet']\n",
      "\u001b[1;30mNumber of Classes:\u001b[0m 7\n",
      "\u001b[1;30mValue Counts of each class:\u001b[0m ameerpet       270\n",
      "madhapur        51\n",
      "kukatpally      50\n",
      "hafeezpet       50\n",
      "uppal           50\n",
      "kondapur        50\n",
      "hyderabad       48\n",
      "Name: Location, dtype: int64\n",
      "\u001b[1;30mClass Percent:\u001b[0m\n",
      "ameerpet       47.451670\n",
      "madhapur        8.963093\n",
      "kukatpally      8.787346\n",
      "hafeezpet       8.787346\n",
      "uppal           8.787346\n",
      "kondapur        8.787346\n",
      "hyderabad       8.435852\n",
      "Name: Location, dtype: float64\n",
      "---------------------------------------------------\n",
      "\u001b[1;30mMode Value:\u001b[0m ameerpet\n",
      "\n",
      "\u001b[1;35mVisual Analysis:\u001b[0m\n",
      "-----------------------------------------------------\n"
     ]
    },
    {
     "data": {
      "image/png": "[encoded data removed]",
      "text/plain": [
       "<Figure size 600x300 with 1 Axes>"
      ]
     },
     "metadata": {},
     "output_type": "display_data"
    },
    {
     "name": "stdout",
     "output_type": "stream",
     "text": [
      "\n",
      "\u001b[1;36mCategorical/Numeric Discrete Column:\u001b[0m Square_feets\n",
      "=====================================================\n",
      "\u001b[1;32mUni-Variate Descriptive Stats:\u001b[0m\n",
      "\u001b[1;30mClasses:\u001b[0m [ 800 1100 2810 1080  750 1850 1500  225  980 1190 1525 1650 3800  900\n",
      "  500  650 2500 1200  200 3500 2100  850 1116  300 1749 1283 1660 1560\n",
      " 1050 4300 2000 1495 1640 1150 1350 1250  965 3000 1000  655  400  520\n",
      " 1600  610  450 1277  720 1622  350  960  600  490 1780  120  150 2048\n",
      "  680  950 1750 1300 2235 1514 1575 2200 1900  250 1842 1135 1428 1400\n",
      " 1672 1410 1740 1592 1450  550 1520  995 1700 1110  430   80  280 1615\n",
      " 6480  700 1336 1106  540 1330 1576  420 1130 1480 1875 1908 1550 1865\n",
      " 2150 1670  202 1810  810 4000 1588 2300 2400  160 1206  121 1800   70\n",
      "  240  100 2025 5000 3600  244  275 1756 3300 4670 2110 1120 2138 2490\n",
      "  162 3200 1960  339  220 1535  890 1235  495 1140  917 1220  303 2160\n",
      " 1070 1185]\n",
      "\u001b[1;30mNumber of Classes:\u001b[0m 142\n",
      "\u001b[1;30mValue Counts of each class:\u001b[0m 500     59\n",
      "1000    33\n",
      "800     31\n",
      "1200    26\n",
      "200     23\n",
      "        ..\n",
      "1740     1\n",
      "1672     1\n",
      "1428     1\n",
      "1135     1\n",
      "1185     1\n",
      "Name: Square_feets, Length: 142, dtype: int64\n",
      "\u001b[1;30mClass Percent:\u001b[0m\n",
      "500     10.369069\n",
      "1000     5.799649\n",
      "800      5.448155\n",
      "1200     4.569420\n",
      "200      4.042179\n",
      "          ...    \n",
      "1740     0.175747\n",
      "1672     0.175747\n",
      "1428     0.175747\n",
      "1135     0.175747\n",
      "1185     0.175747\n",
      "Name: Square_feets, Length: 142, dtype: float64\n",
      "---------------------------------------------------\n",
      "\u001b[1;30mMode Value:\u001b[0m 500\n",
      "\n",
      "\u001b[1;36mCategorical/Numeric Discrete Column:\u001b[0m Bhk\n",
      "=====================================================\n",
      "\u001b[1;32mUni-Variate Descriptive Stats:\u001b[0m\n",
      "\u001b[1;30mClasses:\u001b[0m [2 3 1 4]\n",
      "\u001b[1;30mNumber of Classes:\u001b[0m 4\n",
      "\u001b[1;30mValue Counts of each class:\u001b[0m 1    254\n",
      "2    176\n",
      "3    120\n",
      "4     19\n",
      "Name: Bhk, dtype: int64\n",
      "\u001b[1;30mClass Percent:\u001b[0m\n",
      "1    44.639719\n",
      "2    30.931459\n",
      "3    21.089631\n",
      "4     3.339192\n",
      "Name: Bhk, dtype: float64\n",
      "---------------------------------------------------\n",
      "\u001b[1;30mMode Value:\u001b[0m 1\n",
      "\n",
      "\u001b[1;35mVisual Analysis:\u001b[0m\n",
      "-----------------------------------------------------\n"
     ]
    },
    {
     "data": {
      "image/png": "[encoded data removed]",
      "text/plain": [
       "<Figure size 600x300 with 1 Axes>"
      ]
     },
     "metadata": {},
     "output_type": "display_data"
    },
    {
     "name": "stdout",
     "output_type": "stream",
     "text": [
      "\n",
      "\u001b[1;36mCategorical/Numeric Discrete Column:\u001b[0m Furnish\n",
      "=====================================================\n",
      "\u001b[1;32mUni-Variate Descriptive Stats:\u001b[0m\n",
      "\u001b[1;30mClasses:\u001b[0m ['semi' 'unfurnished' 'full']\n",
      "\u001b[1;30mNumber of Classes:\u001b[0m 3\n",
      "\u001b[1;30mValue Counts of each class:\u001b[0m unfurnished    275\n",
      "semi           194\n",
      "full           100\n",
      "Name: Furnish, dtype: int64\n",
      "\u001b[1;30mClass Percent:\u001b[0m\n",
      "unfurnished    48.330404\n",
      "semi           34.094903\n",
      "full           17.574692\n",
      "Name: Furnish, dtype: float64\n",
      "---------------------------------------------------\n",
      "\u001b[1;30mMode Value:\u001b[0m unfurnished\n",
      "\n",
      "\u001b[1;35mVisual Analysis:\u001b[0m\n",
      "-----------------------------------------------------\n"
     ]
    },
    {
     "data": {
      "image/png": "[encoded data removed]",
      "text/plain": [
       "<Figure size 600x300 with 1 Axes>"
      ]
     },
     "metadata": {},
     "output_type": "display_data"
    },
    {
     "name": "stdout",
     "output_type": "stream",
     "text": [
      "\n",
      "\u001b[1;36mCategorical/Numeric Discrete Column:\u001b[0m Bathroom\n",
      "=====================================================\n",
      "\u001b[1;32mUni-Variate Descriptive Stats:\u001b[0m\n",
      "\u001b[1;30mClasses:\u001b[0m [ 2  4  1  3  5  6  7 30]\n",
      "\u001b[1;30mNumber of Classes:\u001b[0m 8\n",
      "\u001b[1;30mValue Counts of each class:\u001b[0m 1     266\n",
      "2     197\n",
      "3      88\n",
      "4      10\n",
      "5       4\n",
      "6       2\n",
      "7       1\n",
      "30      1\n",
      "Name: Bathroom, dtype: int64\n",
      "\u001b[1;30mClass Percent:\u001b[0m\n",
      "1     46.748682\n",
      "2     34.622144\n",
      "3     15.465729\n",
      "4      1.757469\n",
      "5      0.702988\n",
      "6      0.351494\n",
      "7      0.175747\n",
      "30     0.175747\n",
      "Name: Bathroom, dtype: float64\n",
      "---------------------------------------------------\n",
      "\u001b[1;30mMode Value:\u001b[0m 1\n",
      "\n",
      "\u001b[1;35mVisual Analysis:\u001b[0m\n",
      "-----------------------------------------------------\n"
     ]
    },
    {
     "data": {
      "image/png": "[encoded data removed]",
      "text/plain": [
       "<Figure size 600x300 with 1 Axes>"
      ]
     },
     "metadata": {},
     "output_type": "display_data"
    },
    {
     "name": "stdout",
     "output_type": "stream",
     "text": [
      "\n",
      "\u001b[1;36mCategorical/Numeric Discrete Column:\u001b[0m Property_type\n",
      "=====================================================\n",
      "\u001b[1;32mUni-Variate Descriptive Stats:\u001b[0m\n",
      "\u001b[1;30mClasses:\u001b[0m ['apartment' 'independent house_villa' 'gated community']\n",
      "\u001b[1;30mNumber of Classes:\u001b[0m 3\n",
      "\u001b[1;30mValue Counts of each class:\u001b[0m apartment                  380\n",
      "independent house_villa    182\n",
      "gated community              7\n",
      "Name: Property_type, dtype: int64\n",
      "\u001b[1;30mClass Percent:\u001b[0m\n",
      "apartment                  66.783831\n",
      "independent house_villa    31.985940\n",
      "gated community             1.230228\n",
      "Name: Property_type, dtype: float64\n",
      "---------------------------------------------------\n",
      "\u001b[1;30mMode Value:\u001b[0m apartment\n",
      "\n",
      "\u001b[1;35mVisual Analysis:\u001b[0m\n",
      "-----------------------------------------------------\n"
     ]
    },
    {
     "data": {
      "image/png": "[encoded data removed]",
      "text/plain": [
       "<Figure size 600x300 with 1 Axes>"
      ]
     },
     "metadata": {},
     "output_type": "display_data"
    },
    {
     "name": "stdout",
     "output_type": "stream",
     "text": [
      "\n",
      "\u001b[1;36mCategorical/Numeric Discrete Column:\u001b[0m Deposit\n",
      "=====================================================\n",
      "\u001b[1;32mUni-Variate Descriptive Stats:\u001b[0m\n",
      "\u001b[1;30mClasses:\u001b[0m [  50000   24000       1   60000    6500   72000   15000   12000   52000\n",
      "   33000  100000  200000  300000   40000   25000   27000   10000  165000\n",
      "   18000   19500  180000   84000   34000   32000   30000   87000   96000\n",
      "   38000  110000   66000   80000   20000  700000  120000  260000   70000\n",
      "   45000   26000   13000   86000   42000   90000  160000  600000   28000\n",
      "  105000   48000   14000    8000   56000   75000   44000   46000   11000\n",
      "   63000    4500   64000  102000   23000       0   19000   95000  210000\n",
      "   16000   36000   35000   29000    8500   17000   16500    5500    3500\n",
      "    7000    6000    7500   21000    5000    8600  225000  450000  240000\n",
      "   76000   54000  250000   74000  150000 1000000   65000  119997  800000\n",
      "    4000    9000   78000   68000  390000  400000   27300   64500   51000\n",
      "  330000  108000   22000 1800000    9500   20500   55000    8200    3000]\n",
      "\u001b[1;30mNumber of Classes:\u001b[0m 108\n",
      "\u001b[1;30mValue Counts of each class:\u001b[0m 20000     34\n",
      "40000     28\n",
      "60000     27\n",
      "30000     24\n",
      "50000     23\n",
      "          ..\n",
      "52000      1\n",
      "600000     1\n",
      "450000     1\n",
      "240000     1\n",
      "3000       1\n",
      "Name: Deposit, Length: 108, dtype: int64\n",
      "\u001b[1;30mClass Percent:\u001b[0m\n",
      "20000     5.975395\n",
      "40000     4.920914\n",
      "60000     4.745167\n",
      "30000     4.217926\n",
      "50000     4.042179\n",
      "            ...   \n",
      "52000     0.175747\n",
      "600000    0.175747\n",
      "450000    0.175747\n",
      "240000    0.175747\n",
      "3000      0.175747\n",
      "Name: Deposit, Length: 108, dtype: float64\n",
      "---------------------------------------------------\n",
      "\u001b[1;30mMode Value:\u001b[0m 20000\n",
      "\n",
      "\u001b[1;36mCategorical/Numeric Discrete Column:\u001b[0m Property_age\n",
      "=====================================================\n",
      "\u001b[1;32mUni-Variate Descriptive Stats:\u001b[0m\n",
      "\u001b[1;30mClasses:\u001b[0m ['above_3_years' 'above_5_years' 'above_1_year' '10_years'\n",
      " 'newly constructed' 'under construction']\n",
      "\u001b[1;30mNumber of Classes:\u001b[0m 6\n",
      "\u001b[1;30mValue Counts of each class:\u001b[0m above_5_years         155\n",
      "10_years              145\n",
      "above_1_year          103\n",
      "newly constructed      88\n",
      "above_3_years          75\n",
      "under construction      3\n",
      "Name: Property_age, dtype: int64\n",
      "\u001b[1;30mClass Percent:\u001b[0m\n",
      "above_5_years         27.240773\n",
      "10_years              25.483304\n",
      "above_1_year          18.101933\n",
      "newly constructed     15.465729\n",
      "above_3_years         13.181019\n",
      "under construction     0.527241\n",
      "Name: Property_age, dtype: float64\n",
      "---------------------------------------------------\n",
      "\u001b[1;30mMode Value:\u001b[0m above_5_years\n",
      "\n",
      "\u001b[1;35mVisual Analysis:\u001b[0m\n",
      "-----------------------------------------------------\n"
     ]
    },
    {
     "data": {
      "image/png": "[encoded data removed]",
      "text/plain": [
       "<Figure size 600x300 with 1 Axes>"
      ]
     },
     "metadata": {},
     "output_type": "display_data"
    },
    {
     "name": "stdout",
     "output_type": "stream",
     "text": [
      "\n",
      "\u001b[1;36mCategorical/Numeric Discrete Column:\u001b[0m Gated_security\n",
      "=====================================================\n",
      "\u001b[1;32mUni-Variate Descriptive Stats:\u001b[0m\n",
      "\u001b[1;30mClasses:\u001b[0m ['no' 'yes']\n",
      "\u001b[1;30mNumber of Classes:\u001b[0m 2\n",
      "\u001b[1;30mValue Counts of each class:\u001b[0m no     298\n",
      "yes    271\n",
      "Name: Gated_security, dtype: int64\n",
      "\u001b[1;30mClass Percent:\u001b[0m\n",
      "no     52.372583\n",
      "yes    47.627417\n",
      "Name: Gated_security, dtype: float64\n",
      "---------------------------------------------------\n",
      "\u001b[1;30mMode Value:\u001b[0m no\n",
      "\n",
      "\u001b[1;35mVisual Analysis:\u001b[0m\n",
      "-----------------------------------------------------\n"
     ]
    },
    {
     "data": {
      "image/png": "[encoded data removed]",
      "text/plain": [
       "<Figure size 600x300 with 1 Axes>"
      ]
     },
     "metadata": {},
     "output_type": "display_data"
    },
    {
     "name": "stdout",
     "output_type": "stream",
     "text": [
      "\n",
      "\u001b[1;36mCategorical/Numeric Discrete Column:\u001b[0m Nonveg_allowed\n",
      "=====================================================\n",
      "\u001b[1;32mUni-Variate Descriptive Stats:\u001b[0m\n",
      "\u001b[1;30mClasses:\u001b[0m ['yes' 'no']\n",
      "\u001b[1;30mNumber of Classes:\u001b[0m 2\n",
      "\u001b[1;30mValue Counts of each class:\u001b[0m yes    545\n",
      "no      24\n",
      "Name: Nonveg_allowed, dtype: int64\n",
      "\u001b[1;30mClass Percent:\u001b[0m\n",
      "yes    95.782074\n",
      "no      4.217926\n",
      "Name: Nonveg_allowed, dtype: float64\n",
      "---------------------------------------------------\n",
      "\u001b[1;30mMode Value:\u001b[0m yes\n",
      "\n",
      "\u001b[1;35mVisual Analysis:\u001b[0m\n",
      "-----------------------------------------------------\n"
     ]
    },
    {
     "data": {
      "image/png": "[encoded data removed]",
      "text/plain": [
       "<Figure size 600x300 with 1 Axes>"
      ]
     },
     "metadata": {},
     "output_type": "display_data"
    },
    {
     "name": "stdout",
     "output_type": "stream",
     "text": [
      "\n",
      "\u001b[1;36mCategorical/Numeric Discrete Column:\u001b[0m Parking\n",
      "=====================================================\n",
      "\u001b[1;32mUni-Variate Descriptive Stats:\u001b[0m\n",
      "\u001b[1;30mClasses:\u001b[0m ['bike_and_car' 'bike' 'car' 'none']\n",
      "\u001b[1;30mNumber of Classes:\u001b[0m 4\n",
      "\u001b[1;30mValue Counts of each class:\u001b[0m bike            265\n",
      "bike_and_car    191\n",
      "car              59\n",
      "none             54\n",
      "Name: Parking, dtype: int64\n",
      "\u001b[1;30mClass Percent:\u001b[0m\n",
      "bike            46.572935\n",
      "bike_and_car    33.567663\n",
      "car             10.369069\n",
      "none             9.490334\n",
      "Name: Parking, dtype: float64\n",
      "---------------------------------------------------\n",
      "\u001b[1;30mMode Value:\u001b[0m bike\n",
      "\n",
      "\u001b[1;35mVisual Analysis:\u001b[0m\n",
      "-----------------------------------------------------\n"
     ]
    },
    {
     "data": {
      "image/png": "[encoded data removed]",
      "text/plain": [
       "<Figure size 600x300 with 1 Axes>"
      ]
     },
     "metadata": {},
     "output_type": "display_data"
    }
   ],
   "source": [
    "from simple_colors import *\n",
    "\n",
    "for i in data.columns:\n",
    "    if data[i].dtype == 'object' or data[i].dtype == 'int32' or data[i].dtype == 'int64':\n",
    "        print()\n",
    "        print(cyan(\"Categorical/Numeric Discrete Column:\", ['bold']), i)\n",
    "        print(\"=====================================================\")\n",
    "        print(green(\"Uni-Variate Descriptive Stats:\", ['bold']))\n",
    "        print(black(\"Classes:\", ['bold']), data[i].unique())\n",
    "        print(black(\"Number of Classes:\", ['bold']), data[i].nunique())\n",
    "        print(black(\"Value Counts of each class:\", ['bold']),data[i].value_counts())\n",
    "        print(black('Class Percent:', ['bold']))\n",
    "        print((data[i].value_counts() / data[i].value_counts().sum()) * 100)\n",
    "        print(\"---------------------------------------------------\")\n",
    "        print(black(\"Mode Value:\", ['bold']), data[i].mode()[0])\n",
    "        if data[i].nunique() <= 10:\n",
    "            print()\n",
    "            print(magenta(\"Visual Analysis:\", ['bold']))\n",
    "            print(\"-----------------------------------------------------\")\n",
    "            plt.figure(figsize=(6, 3))\n",
    "            data[i].value_counts().plot(kind='pie')\n",
    "            plt.show()\n",
    "\n",
    "    elif data[i].dtype != 'object':\n",
    "        print()\n",
    "        print(blue(\"Numerical Column:\", ['bold']), i)\n",
    "        print(\"=====================================================\")\n",
    "        print(green(\"Uni-Variate Descriptive Stats:\", ['bold']))\n",
    "        print(round(data[i].describe(), ))\n",
    "        print(\"-----------------------------------------------------\")\n",
    "        print(black(\"Skewness & Kurtosis:\", ['bold']), data[i].skew(), \",\",\n",
    "              data[i].kurt())\n",
    "        print()\n",
    "        print(cyan(\"Visual Analysis:\", ['bold']))\n",
    "        print(\"-----------------------------------------------------\")\n",
    "        plt.figure(figsize=(8,5))\n",
    "        sns.distplot(data[i])\n",
    "        \n",
    "        #data[i].plot(kind = 'density')\n",
    "        \n",
    "        plt.show()"
   ]
  },
  {
   "cell_type": "markdown",
   "id": "6fd32ccf",
   "metadata": {},
   "source": [
    "* For rent 20000 has highest value counts with 40 and rent 49000 has least value counts with 1.\n",
    "* 20000 rent occupies 7.02% of the data and 49000 rent occupies 0.17% of the data.\n",
    "* Ameerpet has more class percentage with 47% in location.\n",
    "* For 500 Square_feets has highest value counts with 59 and 1740 Square_feets has 1 value counts.\n",
    "* For 1 Bhk has highest value counts with 254 and 4 Bhk has 19 value counts.\n",
    "* unfurnished has maximum percentage with 48% and full has minimum percentage with 17%\n",
    "* For 1 Bathroom has maximum percentage with 46% and 30 has minimum percentage with 0.17%.\n",
    "* Apartment has highest value counts with 380 in property_type and gated community has less value counts with 7.\n",
    "* Above_5_years has highest value counts with 155 and under construction has less values counts with 3.\n",
    "* Gated_security has maximum No class percent with 52% and minimum Yes Class percent with 47%."
   ]
  },
  {
   "cell_type": "markdown",
   "id": "91c07a64",
   "metadata": {},
   "source": [
    "**Uni-Variate analysis on Numerical columns**"
   ]
  },
  {
   "cell_type": "code",
   "execution_count": 62,
   "id": "81efc818",
   "metadata": {},
   "outputs": [
    {
     "data": {
      "text/plain": [
       "(count       569.000000\n",
       " mean      22837.079086\n",
       " std       21803.637073\n",
       " min        3000.000000\n",
       " 25%       10000.000000\n",
       " 50%       18000.000000\n",
       " 75%       30000.000000\n",
       " max      250000.000000\n",
       " Name: Rent, dtype: float64,\n",
       " 4.489009241063741,\n",
       " 33.45748711278561)"
      ]
     },
     "execution_count": 62,
     "metadata": {},
     "output_type": "execute_result"
    }
   ],
   "source": [
    "data['Rent'].describe(),data['Rent'].skew(),data['Rent'].kurtosis()"
   ]
  },
  {
   "cell_type": "code",
   "execution_count": 63,
   "id": "31f90ff8",
   "metadata": {},
   "outputs": [
    {
     "data": {
      "text/plain": [
       "<Axes: title={'center': 'Boxplot of price'}, ylabel='Rent'>"
      ]
     },
     "execution_count": 63,
     "metadata": {},
     "output_type": "execute_result"
    },
    {
     "data": {
      "image/png": "[encoded data removed]",
      "text/plain": [
       "<Figure size 600x300 with 1 Axes>"
      ]
     },
     "metadata": {},
     "output_type": "display_data"
    }
   ],
   "source": [
    "data.Rent.plot(kind='box',title='Boxplot of price',ylabel='Rent',figsize=(6,3))"
   ]
  },
  {
   "cell_type": "markdown",
   "id": "82d139c5",
   "metadata": {},
   "source": [
    "* There are outliers in Rent column."
   ]
  },
  {
   "cell_type": "code",
   "execution_count": 64,
   "id": "2bb7576b",
   "metadata": {},
   "outputs": [
    {
     "data": {
      "text/plain": [
       "(count     569.000000\n",
       " mean     1017.729350\n",
       " std       760.548781\n",
       " min        70.000000\n",
       " 25%       500.000000\n",
       " 50%       850.000000\n",
       " 75%      1300.000000\n",
       " max      6480.000000\n",
       " Name: Square_feets, dtype: float64,\n",
       " 2.15762483272752,\n",
       " 8.175397348956231)"
      ]
     },
     "execution_count": 64,
     "metadata": {},
     "output_type": "execute_result"
    }
   ],
   "source": [
    "data['Square_feets'].describe(),data['Square_feets'].skew(),data['Square_feets'].kurtosis()"
   ]
  },
  {
   "cell_type": "code",
   "execution_count": 65,
   "id": "b11bebe5",
   "metadata": {},
   "outputs": [
    {
     "data": {
      "text/plain": [
       "<Axes: ylabel='Density'>"
      ]
     },
     "execution_count": 65,
     "metadata": {},
     "output_type": "execute_result"
    },
    {
     "data": {
      "image/png": "[encoded data removed]",
      "text/plain": [
       "<Figure size 640x480 with 1 Axes>"
      ]
     },
     "metadata": {},
     "output_type": "display_data"
    }
   ],
   "source": [
    "data.Square_feets.plot(kind='density')"
   ]
  },
  {
   "cell_type": "code",
   "execution_count": 66,
   "id": "d5f240e0",
   "metadata": {},
   "outputs": [
    {
     "data": {
      "text/plain": [
       "(count    569.000000\n",
       " mean       1.831283\n",
       " std        0.873921\n",
       " min        1.000000\n",
       " 25%        1.000000\n",
       " 50%        2.000000\n",
       " 75%        2.000000\n",
       " max        4.000000\n",
       " Name: Bhk, dtype: float64,\n",
       " 0.6360962890276481,\n",
       " -0.6804932200048319)"
      ]
     },
     "execution_count": 66,
     "metadata": {},
     "output_type": "execute_result"
    }
   ],
   "source": [
    "data['Bhk'].describe(),data['Bhk'].skew(),data['Bhk'].kurtosis()"
   ]
  },
  {
   "cell_type": "code",
   "execution_count": 67,
   "id": "b42d4c73",
   "metadata": {},
   "outputs": [
    {
     "data": {
      "text/plain": [
       "<Axes: ylabel='Frequency'>"
      ]
     },
     "execution_count": 67,
     "metadata": {},
     "output_type": "execute_result"
    },
    {
     "data": {
      "image/png": "[encoded data removed]",
      "text/plain": [
       "<Figure size 640x480 with 1 Axes>"
      ]
     },
     "metadata": {},
     "output_type": "display_data"
    }
   ],
   "source": [
    "data.Bhk.plot(kind = 'hist',color = 'Salmon')"
   ]
  },
  {
   "cell_type": "code",
   "execution_count": 68,
   "id": "f8997f54",
   "metadata": {},
   "outputs": [
    {
     "data": {
      "text/plain": [
       "(count    569.000000\n",
       " mean       1.815466\n",
       " std        1.484440\n",
       " min        1.000000\n",
       " 25%        1.000000\n",
       " 50%        2.000000\n",
       " 75%        2.000000\n",
       " max       30.000000\n",
       " Name: Bathroom, dtype: float64,\n",
       " 12.375014332694931,\n",
       " 229.03776375136792)"
      ]
     },
     "execution_count": 68,
     "metadata": {},
     "output_type": "execute_result"
    }
   ],
   "source": [
    "data['Bathroom'].describe(),data['Bathroom'].skew(),data['Bathroom'].kurtosis()"
   ]
  },
  {
   "cell_type": "code",
   "execution_count": 69,
   "id": "d35f4fea",
   "metadata": {},
   "outputs": [
    {
     "data": {
      "text/plain": [
       "<Axes: ylabel='Density'>"
      ]
     },
     "execution_count": 69,
     "metadata": {},
     "output_type": "execute_result"
    },
    {
     "data": {
      "image/png": "[encoded data removed]",
      "text/plain": [
       "<Figure size 640x480 with 1 Axes>"
      ]
     },
     "metadata": {},
     "output_type": "display_data"
    }
   ],
   "source": [
    "data.Bathroom.plot(kind='density')"
   ]
  },
  {
   "cell_type": "code",
   "execution_count": 70,
   "id": "7a1ee578",
   "metadata": {},
   "outputs": [
    {
     "data": {
      "text/plain": [
       "(count    5.690000e+02\n",
       " mean     5.762759e+04\n",
       " std      1.141913e+05\n",
       " min      0.000000e+00\n",
       " 25%      1.600000e+04\n",
       " 50%      3.200000e+04\n",
       " 75%      6.000000e+04\n",
       " max      1.800000e+06\n",
       " Name: Deposit, dtype: float64,\n",
       " 9.027813232910963,\n",
       " 111.5052864058755)"
      ]
     },
     "execution_count": 70,
     "metadata": {},
     "output_type": "execute_result"
    }
   ],
   "source": [
    "data['Deposit'].describe(),data['Deposit'].skew(),data['Deposit'].kurtosis()"
   ]
  },
  {
   "cell_type": "code",
   "execution_count": 71,
   "id": "c4070445",
   "metadata": {},
   "outputs": [
    {
     "data": {
      "image/png": "[encoded data removed]",
      "text/plain": [
       "<Figure size 800x400 with 1 Axes>"
      ]
     },
     "metadata": {},
     "output_type": "display_data"
    }
   ],
   "source": [
    "plt.figure(figsize=(8, 4))\n",
    "sns.distplot(data['Deposit'])\n",
    "data['Deposit'].plot(kind = 'density')\n",
    "plt.show()"
   ]
  },
  {
   "cell_type": "markdown",
   "id": "5cea44b3",
   "metadata": {},
   "source": [
    "**Bi-Variate analysis on N-N**"
   ]
  },
  {
   "cell_type": "markdown",
   "id": "3a054056",
   "metadata": {},
   "source": [
    "**Numerical to Numerical**"
   ]
  },
  {
   "cell_type": "code",
   "execution_count": 72,
   "id": "595f4ddb",
   "metadata": {},
   "outputs": [
    {
     "data": {
      "text/html": [
       "<div>\n",
       "<style scoped>\n",
       "    .dataframe tbody tr th:only-of-type {\n",
       "        vertical-align: middle;\n",
       "    }\n",
       "\n",
       "    .dataframe tbody tr th {\n",
       "        vertical-align: top;\n",
       "    }\n",
       "\n",
       "    .dataframe thead th {\n",
       "        text-align: right;\n",
       "    }\n",
       "</style>\n",
       "<table border=\"1\" class=\"dataframe\">\n",
       "  <thead>\n",
       "    <tr style=\"text-align: right;\">\n",
       "      <th></th>\n",
       "      <th>Rent</th>\n",
       "      <th>Location</th>\n",
       "      <th>Square_feets</th>\n",
       "      <th>Bhk</th>\n",
       "      <th>Furnish</th>\n",
       "      <th>Bathroom</th>\n",
       "      <th>Property_type</th>\n",
       "      <th>Deposit</th>\n",
       "      <th>Property_age</th>\n",
       "      <th>Gated_security</th>\n",
       "      <th>Nonveg_allowed</th>\n",
       "      <th>Parking</th>\n",
       "    </tr>\n",
       "  </thead>\n",
       "  <tbody>\n",
       "    <tr>\n",
       "      <th>0</th>\n",
       "      <td>25000</td>\n",
       "      <td>hyderabad</td>\n",
       "      <td>800</td>\n",
       "      <td>2</td>\n",
       "      <td>semi</td>\n",
       "      <td>2</td>\n",
       "      <td>apartment</td>\n",
       "      <td>50000</td>\n",
       "      <td>above_3_years</td>\n",
       "      <td>no</td>\n",
       "      <td>yes</td>\n",
       "      <td>bike_and_car</td>\n",
       "    </tr>\n",
       "    <tr>\n",
       "      <th>1</th>\n",
       "      <td>12000</td>\n",
       "      <td>hyderabad</td>\n",
       "      <td>1100</td>\n",
       "      <td>2</td>\n",
       "      <td>unfurnished</td>\n",
       "      <td>2</td>\n",
       "      <td>apartment</td>\n",
       "      <td>24000</td>\n",
       "      <td>above_5_years</td>\n",
       "      <td>no</td>\n",
       "      <td>yes</td>\n",
       "      <td>bike</td>\n",
       "    </tr>\n",
       "    <tr>\n",
       "      <th>2</th>\n",
       "      <td>89998</td>\n",
       "      <td>hyderabad</td>\n",
       "      <td>2810</td>\n",
       "      <td>3</td>\n",
       "      <td>semi</td>\n",
       "      <td>4</td>\n",
       "      <td>apartment</td>\n",
       "      <td>1</td>\n",
       "      <td>above_1_year</td>\n",
       "      <td>no</td>\n",
       "      <td>yes</td>\n",
       "      <td>bike_and_car</td>\n",
       "    </tr>\n",
       "    <tr>\n",
       "      <th>3</th>\n",
       "      <td>20000</td>\n",
       "      <td>hyderabad</td>\n",
       "      <td>1080</td>\n",
       "      <td>2</td>\n",
       "      <td>semi</td>\n",
       "      <td>2</td>\n",
       "      <td>apartment</td>\n",
       "      <td>60000</td>\n",
       "      <td>10_years</td>\n",
       "      <td>no</td>\n",
       "      <td>yes</td>\n",
       "      <td>car</td>\n",
       "    </tr>\n",
       "    <tr>\n",
       "      <th>4</th>\n",
       "      <td>6500</td>\n",
       "      <td>hyderabad</td>\n",
       "      <td>750</td>\n",
       "      <td>1</td>\n",
       "      <td>unfurnished</td>\n",
       "      <td>1</td>\n",
       "      <td>independent house_villa</td>\n",
       "      <td>6500</td>\n",
       "      <td>above_1_year</td>\n",
       "      <td>yes</td>\n",
       "      <td>yes</td>\n",
       "      <td>bike</td>\n",
       "    </tr>\n",
       "  </tbody>\n",
       "</table>\n",
       "</div>"
      ],
      "text/plain": [
       "    Rent   Location  Square_feets  Bhk      Furnish  Bathroom  \\\n",
       "0  25000  hyderabad           800    2         semi         2   \n",
       "1  12000  hyderabad          1100    2  unfurnished         2   \n",
       "2  89998  hyderabad          2810    3         semi         4   \n",
       "3  20000  hyderabad          1080    2         semi         2   \n",
       "4   6500  hyderabad           750    1  unfurnished         1   \n",
       "\n",
       "             Property_type  Deposit   Property_age Gated_security  \\\n",
       "0                apartment    50000  above_3_years             no   \n",
       "1                apartment    24000  above_5_years             no   \n",
       "2                apartment        1   above_1_year             no   \n",
       "3                apartment    60000       10_years             no   \n",
       "4  independent house_villa     6500   above_1_year            yes   \n",
       "\n",
       "  Nonveg_allowed       Parking  \n",
       "0            yes  bike_and_car  \n",
       "1            yes          bike  \n",
       "2            yes  bike_and_car  \n",
       "3            yes           car  \n",
       "4            yes          bike  "
      ]
     },
     "execution_count": 72,
     "metadata": {},
     "output_type": "execute_result"
    }
   ],
   "source": [
    "data.head()"
   ]
  },
  {
   "cell_type": "code",
   "execution_count": 73,
   "id": "f0c1e1c5",
   "metadata": {},
   "outputs": [
    {
     "data": {
      "text/html": [
       "<div>\n",
       "<style scoped>\n",
       "    .dataframe tbody tr th:only-of-type {\n",
       "        vertical-align: middle;\n",
       "    }\n",
       "\n",
       "    .dataframe tbody tr th {\n",
       "        vertical-align: top;\n",
       "    }\n",
       "\n",
       "    .dataframe thead th {\n",
       "        text-align: right;\n",
       "    }\n",
       "</style>\n",
       "<table border=\"1\" class=\"dataframe\">\n",
       "  <thead>\n",
       "    <tr style=\"text-align: right;\">\n",
       "      <th></th>\n",
       "      <th>Square_feets</th>\n",
       "      <th>Rent</th>\n",
       "    </tr>\n",
       "  </thead>\n",
       "  <tbody>\n",
       "    <tr>\n",
       "      <th>Square_feets</th>\n",
       "      <td>1.000000</td>\n",
       "      <td>0.758215</td>\n",
       "    </tr>\n",
       "    <tr>\n",
       "      <th>Rent</th>\n",
       "      <td>0.758215</td>\n",
       "      <td>1.000000</td>\n",
       "    </tr>\n",
       "  </tbody>\n",
       "</table>\n",
       "</div>"
      ],
      "text/plain": [
       "              Square_feets      Rent\n",
       "Square_feets      1.000000  0.758215\n",
       "Rent              0.758215  1.000000"
      ]
     },
     "execution_count": 73,
     "metadata": {},
     "output_type": "execute_result"
    }
   ],
   "source": [
    "data[['Square_feets', 'Rent']].corr()"
   ]
  },
  {
   "cell_type": "code",
   "execution_count": 74,
   "id": "a33a8881",
   "metadata": {},
   "outputs": [
    {
     "data": {
      "text/plain": [
       "<Axes: xlabel='Square_feets', ylabel='Rent'>"
      ]
     },
     "execution_count": 74,
     "metadata": {},
     "output_type": "execute_result"
    },
    {
     "data": {
      "image/png": "[encoded data removed]",
      "text/plain": [
       "<Figure size 640x480 with 1 Axes>"
      ]
     },
     "metadata": {},
     "output_type": "display_data"
    }
   ],
   "source": [
    "sns.scatterplot(data, x='Square_feets', y='Rent')"
   ]
  },
  {
   "cell_type": "code",
   "execution_count": 75,
   "id": "bef55cb7",
   "metadata": {},
   "outputs": [
    {
     "data": {
      "text/html": [
       "<div>\n",
       "<style scoped>\n",
       "    .dataframe tbody tr th:only-of-type {\n",
       "        vertical-align: middle;\n",
       "    }\n",
       "\n",
       "    .dataframe tbody tr th {\n",
       "        vertical-align: top;\n",
       "    }\n",
       "\n",
       "    .dataframe thead th {\n",
       "        text-align: right;\n",
       "    }\n",
       "</style>\n",
       "<table border=\"1\" class=\"dataframe\">\n",
       "  <thead>\n",
       "    <tr style=\"text-align: right;\">\n",
       "      <th></th>\n",
       "      <th>Bhk</th>\n",
       "      <th>Rent</th>\n",
       "    </tr>\n",
       "  </thead>\n",
       "  <tbody>\n",
       "    <tr>\n",
       "      <th>Bhk</th>\n",
       "      <td>1.000000</td>\n",
       "      <td>0.664883</td>\n",
       "    </tr>\n",
       "    <tr>\n",
       "      <th>Rent</th>\n",
       "      <td>0.664883</td>\n",
       "      <td>1.000000</td>\n",
       "    </tr>\n",
       "  </tbody>\n",
       "</table>\n",
       "</div>"
      ],
      "text/plain": [
       "           Bhk      Rent\n",
       "Bhk   1.000000  0.664883\n",
       "Rent  0.664883  1.000000"
      ]
     },
     "execution_count": 75,
     "metadata": {},
     "output_type": "execute_result"
    }
   ],
   "source": [
    "data[['Bhk', 'Rent']].corr()"
   ]
  },
  {
   "cell_type": "code",
   "execution_count": 76,
   "id": "079bb315",
   "metadata": {},
   "outputs": [
    {
     "data": {
      "text/plain": [
       "<Axes: xlabel='Bhk', ylabel='Rent'>"
      ]
     },
     "execution_count": 76,
     "metadata": {},
     "output_type": "execute_result"
    },
    {
     "data": {
      "image/png": "[encoded data removed]",
      "text/plain": [
       "<Figure size 640x480 with 1 Axes>"
      ]
     },
     "metadata": {},
     "output_type": "display_data"
    }
   ],
   "source": [
    "sns.scatterplot(data, x ='Bhk', y ='Rent')"
   ]
  },
  {
   "cell_type": "code",
   "execution_count": 77,
   "id": "17a91dfb",
   "metadata": {},
   "outputs": [
    {
     "data": {
      "text/html": [
       "<div>\n",
       "<style scoped>\n",
       "    .dataframe tbody tr th:only-of-type {\n",
       "        vertical-align: middle;\n",
       "    }\n",
       "\n",
       "    .dataframe tbody tr th {\n",
       "        vertical-align: top;\n",
       "    }\n",
       "\n",
       "    .dataframe thead th {\n",
       "        text-align: right;\n",
       "    }\n",
       "</style>\n",
       "<table border=\"1\" class=\"dataframe\">\n",
       "  <thead>\n",
       "    <tr style=\"text-align: right;\">\n",
       "      <th></th>\n",
       "      <th>Bathroom</th>\n",
       "      <th>Rent</th>\n",
       "    </tr>\n",
       "  </thead>\n",
       "  <tbody>\n",
       "    <tr>\n",
       "      <th>Bathroom</th>\n",
       "      <td>1.000000</td>\n",
       "      <td>0.407343</td>\n",
       "    </tr>\n",
       "    <tr>\n",
       "      <th>Rent</th>\n",
       "      <td>0.407343</td>\n",
       "      <td>1.000000</td>\n",
       "    </tr>\n",
       "  </tbody>\n",
       "</table>\n",
       "</div>"
      ],
      "text/plain": [
       "          Bathroom      Rent\n",
       "Bathroom  1.000000  0.407343\n",
       "Rent      0.407343  1.000000"
      ]
     },
     "execution_count": 77,
     "metadata": {},
     "output_type": "execute_result"
    }
   ],
   "source": [
    "data[['Bathroom', 'Rent']].corr()"
   ]
  },
  {
   "cell_type": "code",
   "execution_count": 78,
   "id": "36162994",
   "metadata": {},
   "outputs": [
    {
     "data": {
      "text/plain": [
       "<Axes: xlabel='Bathroom', ylabel='Rent'>"
      ]
     },
     "execution_count": 78,
     "metadata": {},
     "output_type": "execute_result"
    },
    {
     "data": {
      "image/png": "[encoded data removed]",
      "text/plain": [
       "<Figure size 640x480 with 1 Axes>"
      ]
     },
     "metadata": {},
     "output_type": "display_data"
    }
   ],
   "source": [
    "sns.scatterplot(data, x ='Bathroom', y ='Rent')"
   ]
  },
  {
   "cell_type": "code",
   "execution_count": 79,
   "id": "45da6a33",
   "metadata": {},
   "outputs": [
    {
     "data": {
      "text/html": [
       "<div>\n",
       "<style scoped>\n",
       "    .dataframe tbody tr th:only-of-type {\n",
       "        vertical-align: middle;\n",
       "    }\n",
       "\n",
       "    .dataframe tbody tr th {\n",
       "        vertical-align: top;\n",
       "    }\n",
       "\n",
       "    .dataframe thead th {\n",
       "        text-align: right;\n",
       "    }\n",
       "</style>\n",
       "<table border=\"1\" class=\"dataframe\">\n",
       "  <thead>\n",
       "    <tr style=\"text-align: right;\">\n",
       "      <th></th>\n",
       "      <th>Deposit</th>\n",
       "      <th>Rent</th>\n",
       "    </tr>\n",
       "  </thead>\n",
       "  <tbody>\n",
       "    <tr>\n",
       "      <th>Deposit</th>\n",
       "      <td>1.000000</td>\n",
       "      <td>0.573513</td>\n",
       "    </tr>\n",
       "    <tr>\n",
       "      <th>Rent</th>\n",
       "      <td>0.573513</td>\n",
       "      <td>1.000000</td>\n",
       "    </tr>\n",
       "  </tbody>\n",
       "</table>\n",
       "</div>"
      ],
      "text/plain": [
       "          Deposit      Rent\n",
       "Deposit  1.000000  0.573513\n",
       "Rent     0.573513  1.000000"
      ]
     },
     "execution_count": 79,
     "metadata": {},
     "output_type": "execute_result"
    }
   ],
   "source": [
    "data[['Deposit', 'Rent']].corr()"
   ]
  },
  {
   "cell_type": "code",
   "execution_count": 80,
   "id": "67c1eb51",
   "metadata": {},
   "outputs": [
    {
     "data": {
      "text/plain": [
       "<Axes: xlabel='Deposit', ylabel='Rent'>"
      ]
     },
     "execution_count": 80,
     "metadata": {},
     "output_type": "execute_result"
    },
    {
     "data": {
      "image/png": "[encoded data removed]",
      "text/plain": [
       "<Figure size 640x480 with 1 Axes>"
      ]
     },
     "metadata": {},
     "output_type": "display_data"
    }
   ],
   "source": [
    "sns.scatterplot(data, x ='Deposit', y ='Rent')"
   ]
  },
  {
   "cell_type": "markdown",
   "id": "c4332428",
   "metadata": {},
   "source": [
    "**Numerical - categorical**"
   ]
  },
  {
   "cell_type": "code",
   "execution_count": 81,
   "id": "ab8753a4",
   "metadata": {},
   "outputs": [
    {
     "data": {
      "text/html": [
       "<div>\n",
       "<style scoped>\n",
       "    .dataframe tbody tr th:only-of-type {\n",
       "        vertical-align: middle;\n",
       "    }\n",
       "\n",
       "    .dataframe tbody tr th {\n",
       "        vertical-align: top;\n",
       "    }\n",
       "\n",
       "    .dataframe thead th {\n",
       "        text-align: right;\n",
       "    }\n",
       "</style>\n",
       "<table border=\"1\" class=\"dataframe\">\n",
       "  <thead>\n",
       "    <tr style=\"text-align: right;\">\n",
       "      <th></th>\n",
       "      <th>Rent</th>\n",
       "      <th>Location</th>\n",
       "      <th>Square_feets</th>\n",
       "      <th>Bhk</th>\n",
       "      <th>Furnish</th>\n",
       "      <th>Bathroom</th>\n",
       "      <th>Property_type</th>\n",
       "      <th>Deposit</th>\n",
       "      <th>Property_age</th>\n",
       "      <th>Gated_security</th>\n",
       "      <th>Nonveg_allowed</th>\n",
       "      <th>Parking</th>\n",
       "    </tr>\n",
       "  </thead>\n",
       "  <tbody>\n",
       "    <tr>\n",
       "      <th>0</th>\n",
       "      <td>25000</td>\n",
       "      <td>hyderabad</td>\n",
       "      <td>800</td>\n",
       "      <td>2</td>\n",
       "      <td>semi</td>\n",
       "      <td>2</td>\n",
       "      <td>apartment</td>\n",
       "      <td>50000</td>\n",
       "      <td>above_3_years</td>\n",
       "      <td>no</td>\n",
       "      <td>yes</td>\n",
       "      <td>bike_and_car</td>\n",
       "    </tr>\n",
       "    <tr>\n",
       "      <th>1</th>\n",
       "      <td>12000</td>\n",
       "      <td>hyderabad</td>\n",
       "      <td>1100</td>\n",
       "      <td>2</td>\n",
       "      <td>unfurnished</td>\n",
       "      <td>2</td>\n",
       "      <td>apartment</td>\n",
       "      <td>24000</td>\n",
       "      <td>above_5_years</td>\n",
       "      <td>no</td>\n",
       "      <td>yes</td>\n",
       "      <td>bike</td>\n",
       "    </tr>\n",
       "  </tbody>\n",
       "</table>\n",
       "</div>"
      ],
      "text/plain": [
       "    Rent   Location  Square_feets  Bhk      Furnish  Bathroom Property_type  \\\n",
       "0  25000  hyderabad           800    2         semi         2     apartment   \n",
       "1  12000  hyderabad          1100    2  unfurnished         2     apartment   \n",
       "\n",
       "   Deposit   Property_age Gated_security Nonveg_allowed       Parking  \n",
       "0    50000  above_3_years             no            yes  bike_and_car  \n",
       "1    24000  above_5_years             no            yes          bike  "
      ]
     },
     "execution_count": 81,
     "metadata": {},
     "output_type": "execute_result"
    }
   ],
   "source": [
    "data.head(2)"
   ]
  },
  {
   "cell_type": "code",
   "execution_count": 82,
   "id": "442232d7",
   "metadata": {},
   "outputs": [
    {
     "data": {
      "text/plain": [
       "Furnish\n",
       "full           6131.810193\n",
       "semi           4691.263385\n",
       "unfurnished    2765.170155\n",
       "Name: Rent, dtype: float64"
      ]
     },
     "execution_count": 82,
     "metadata": {},
     "output_type": "execute_result"
    }
   ],
   "source": [
    "((data.groupby(\"Furnish\")['Rent'].mean()/len(data))*100).sort_values(ascending  = False)"
   ]
  },
  {
   "cell_type": "code",
   "execution_count": 83,
   "id": "f166a33e",
   "metadata": {},
   "outputs": [
    {
     "data": {
      "text/plain": [
       "<Axes: ylabel='Furnish'>"
      ]
     },
     "execution_count": 83,
     "metadata": {},
     "output_type": "execute_result"
    },
    {
     "data": {
      "image/png": "[encoded data removed]",
      "text/plain": [
       "<Figure size 640x480 with 1 Axes>"
      ]
     },
     "metadata": {},
     "output_type": "display_data"
    }
   ],
   "source": [
    "sns.barplot(y = data.groupby('Furnish')['Rent'].mean().sort_values(ascending=False).index[0:3],\n",
    "            x = data.groupby('Furnish')['Rent'].mean().sort_values(ascending=False).values[0:3],orient ='h')"
   ]
  },
  {
   "cell_type": "code",
   "execution_count": 84,
   "id": "bf15d851",
   "metadata": {
    "scrolled": true
   },
   "outputs": [
    {
     "data": {
      "text/plain": [
       "Location\n",
       "hyderabad      5880.191857\n",
       "kondapur       5230.228471\n",
       "madhapur       4526.344809\n",
       "kukatpally     4224.956063\n",
       "ameerpet       3828.028380\n",
       "hafeezpet      3458.699473\n",
       "uppal          1827.065026\n",
       "Name: Rent, dtype: float64"
      ]
     },
     "execution_count": 84,
     "metadata": {},
     "output_type": "execute_result"
    }
   ],
   "source": [
    "((data.groupby(\"Location\")['Rent'].mean()/len(data))*100).sort_values(ascending  = False)"
   ]
  },
  {
   "cell_type": "code",
   "execution_count": 85,
   "id": "6ec64ed2",
   "metadata": {},
   "outputs": [
    {
     "data": {
      "text/plain": [
       "<seaborn.axisgrid.FacetGrid at 0x181e01cdb50>"
      ]
     },
     "execution_count": 85,
     "metadata": {},
     "output_type": "execute_result"
    },
    {
     "data": {
      "image/png": "[encoded data removed]",
      "text/plain": [
       "<Figure size 500x500 with 1 Axes>"
      ]
     },
     "metadata": {},
     "output_type": "display_data"
    }
   ],
   "source": [
    "sns.catplot(y='Location', x ='Rent', data = data, orient='h')"
   ]
  },
  {
   "cell_type": "code",
   "execution_count": 86,
   "id": "8635ff0a",
   "metadata": {
    "scrolled": true
   },
   "outputs": [
    {
     "data": {
      "text/plain": [
       "Property_type\n",
       "gated community            13055.485815\n",
       "apartment                   4204.050504\n",
       "independent house_villa     3268.023716\n",
       "Name: Rent, dtype: float64"
      ]
     },
     "execution_count": 86,
     "metadata": {},
     "output_type": "execute_result"
    }
   ],
   "source": [
    "((data.groupby(\"Property_type\")['Rent'].mean()/len(data))*100).sort_values(ascending  = False)"
   ]
  },
  {
   "cell_type": "code",
   "execution_count": 87,
   "id": "929fcb44",
   "metadata": {},
   "outputs": [
    {
     "data": {
      "text/plain": [
       "<seaborn.axisgrid.FacetGrid at 0x181e01df750>"
      ]
     },
     "execution_count": 87,
     "metadata": {},
     "output_type": "execute_result"
    },
    {
     "data": {
      "image/png": "[encoded data removed]",
      "text/plain": [
       "<Figure size 500x500 with 1 Axes>"
      ]
     },
     "metadata": {},
     "output_type": "display_data"
    }
   ],
   "source": [
    "sns.catplot(y='Property_type', x ='Rent', data = data, orient='h')"
   ]
  },
  {
   "cell_type": "markdown",
   "id": "0694d4bd",
   "metadata": {},
   "source": [
    "**Categorical to Categorical**"
   ]
  },
  {
   "cell_type": "code",
   "execution_count": 88,
   "id": "0e8c4c9a",
   "metadata": {},
   "outputs": [
    {
     "data": {
      "text/html": [
       "<div>\n",
       "<style scoped>\n",
       "    .dataframe tbody tr th:only-of-type {\n",
       "        vertical-align: middle;\n",
       "    }\n",
       "\n",
       "    .dataframe tbody tr th {\n",
       "        vertical-align: top;\n",
       "    }\n",
       "\n",
       "    .dataframe thead th {\n",
       "        text-align: right;\n",
       "    }\n",
       "</style>\n",
       "<table border=\"1\" class=\"dataframe\">\n",
       "  <thead>\n",
       "    <tr style=\"text-align: right;\">\n",
       "      <th></th>\n",
       "      <th>Rent</th>\n",
       "      <th>Location</th>\n",
       "      <th>Square_feets</th>\n",
       "      <th>Bhk</th>\n",
       "      <th>Furnish</th>\n",
       "      <th>Bathroom</th>\n",
       "      <th>Property_type</th>\n",
       "      <th>Deposit</th>\n",
       "      <th>Property_age</th>\n",
       "      <th>Gated_security</th>\n",
       "      <th>Nonveg_allowed</th>\n",
       "      <th>Parking</th>\n",
       "    </tr>\n",
       "  </thead>\n",
       "  <tbody>\n",
       "    <tr>\n",
       "      <th>0</th>\n",
       "      <td>25000</td>\n",
       "      <td>hyderabad</td>\n",
       "      <td>800</td>\n",
       "      <td>2</td>\n",
       "      <td>semi</td>\n",
       "      <td>2</td>\n",
       "      <td>apartment</td>\n",
       "      <td>50000</td>\n",
       "      <td>above_3_years</td>\n",
       "      <td>no</td>\n",
       "      <td>yes</td>\n",
       "      <td>bike_and_car</td>\n",
       "    </tr>\n",
       "    <tr>\n",
       "      <th>1</th>\n",
       "      <td>12000</td>\n",
       "      <td>hyderabad</td>\n",
       "      <td>1100</td>\n",
       "      <td>2</td>\n",
       "      <td>unfurnished</td>\n",
       "      <td>2</td>\n",
       "      <td>apartment</td>\n",
       "      <td>24000</td>\n",
       "      <td>above_5_years</td>\n",
       "      <td>no</td>\n",
       "      <td>yes</td>\n",
       "      <td>bike</td>\n",
       "    </tr>\n",
       "  </tbody>\n",
       "</table>\n",
       "</div>"
      ],
      "text/plain": [
       "    Rent   Location  Square_feets  Bhk      Furnish  Bathroom Property_type  \\\n",
       "0  25000  hyderabad           800    2         semi         2     apartment   \n",
       "1  12000  hyderabad          1100    2  unfurnished         2     apartment   \n",
       "\n",
       "   Deposit   Property_age Gated_security Nonveg_allowed       Parking  \n",
       "0    50000  above_3_years             no            yes  bike_and_car  \n",
       "1    24000  above_5_years             no            yes          bike  "
      ]
     },
     "execution_count": 88,
     "metadata": {},
     "output_type": "execute_result"
    }
   ],
   "source": [
    "data.head(2)"
   ]
  },
  {
   "cell_type": "code",
   "execution_count": 89,
   "id": "1ac370a0",
   "metadata": {},
   "outputs": [
    {
     "data": {
      "text/html": [
       "<div>\n",
       "<style scoped>\n",
       "    .dataframe tbody tr th:only-of-type {\n",
       "        vertical-align: middle;\n",
       "    }\n",
       "\n",
       "    .dataframe tbody tr th {\n",
       "        vertical-align: top;\n",
       "    }\n",
       "\n",
       "    .dataframe thead th {\n",
       "        text-align: right;\n",
       "    }\n",
       "</style>\n",
       "<table border=\"1\" class=\"dataframe\">\n",
       "  <thead>\n",
       "    <tr style=\"text-align: right;\">\n",
       "      <th>Furnish</th>\n",
       "      <th>full</th>\n",
       "      <th>semi</th>\n",
       "      <th>unfurnished</th>\n",
       "      <th>All</th>\n",
       "    </tr>\n",
       "    <tr>\n",
       "      <th>Location</th>\n",
       "      <th></th>\n",
       "      <th></th>\n",
       "      <th></th>\n",
       "      <th></th>\n",
       "    </tr>\n",
       "  </thead>\n",
       "  <tbody>\n",
       "    <tr>\n",
       "      <th>ameerpet</th>\n",
       "      <td>27</td>\n",
       "      <td>80</td>\n",
       "      <td>163</td>\n",
       "      <td>270</td>\n",
       "    </tr>\n",
       "    <tr>\n",
       "      <th>hafeezpet</th>\n",
       "      <td>11</td>\n",
       "      <td>22</td>\n",
       "      <td>17</td>\n",
       "      <td>50</td>\n",
       "    </tr>\n",
       "    <tr>\n",
       "      <th>hyderabad</th>\n",
       "      <td>10</td>\n",
       "      <td>24</td>\n",
       "      <td>14</td>\n",
       "      <td>48</td>\n",
       "    </tr>\n",
       "    <tr>\n",
       "      <th>kondapur</th>\n",
       "      <td>18</td>\n",
       "      <td>18</td>\n",
       "      <td>14</td>\n",
       "      <td>50</td>\n",
       "    </tr>\n",
       "    <tr>\n",
       "      <th>kukatpally</th>\n",
       "      <td>5</td>\n",
       "      <td>21</td>\n",
       "      <td>24</td>\n",
       "      <td>50</td>\n",
       "    </tr>\n",
       "    <tr>\n",
       "      <th>madhapur</th>\n",
       "      <td>23</td>\n",
       "      <td>16</td>\n",
       "      <td>12</td>\n",
       "      <td>51</td>\n",
       "    </tr>\n",
       "    <tr>\n",
       "      <th>uppal</th>\n",
       "      <td>6</td>\n",
       "      <td>13</td>\n",
       "      <td>31</td>\n",
       "      <td>50</td>\n",
       "    </tr>\n",
       "    <tr>\n",
       "      <th>All</th>\n",
       "      <td>100</td>\n",
       "      <td>194</td>\n",
       "      <td>275</td>\n",
       "      <td>569</td>\n",
       "    </tr>\n",
       "  </tbody>\n",
       "</table>\n",
       "</div>"
      ],
      "text/plain": [
       "Furnish      full  semi  unfurnished  All\n",
       "Location                                 \n",
       "ameerpet       27    80          163  270\n",
       "hafeezpet      11    22           17   50\n",
       "hyderabad      10    24           14   48\n",
       "kondapur       18    18           14   50\n",
       "kukatpally      5    21           24   50\n",
       "madhapur       23    16           12   51\n",
       "uppal           6    13           31   50\n",
       "All           100   194          275  569"
      ]
     },
     "execution_count": 89,
     "metadata": {},
     "output_type": "execute_result"
    }
   ],
   "source": [
    "pd.crosstab(data.Location,data.Furnish, margins=True)"
   ]
  },
  {
   "cell_type": "code",
   "execution_count": 90,
   "id": "0af0e831",
   "metadata": {},
   "outputs": [
    {
     "data": {
      "text/plain": [
       "<Axes: xlabel='count', ylabel='Location'>"
      ]
     },
     "execution_count": 90,
     "metadata": {},
     "output_type": "execute_result"
    },
    {
     "data": {
      "image/png": "[encoded data removed]",
      "text/plain": [
       "<Figure size 600x300 with 1 Axes>"
      ]
     },
     "metadata": {},
     "output_type": "display_data"
    }
   ],
   "source": [
    "plt.figure(figsize=(6, 3))\n",
    "sns.countplot(y='Location', hue='Furnish', data = data)"
   ]
  },
  {
   "cell_type": "code",
   "execution_count": 91,
   "id": "485e0f20",
   "metadata": {},
   "outputs": [
    {
     "data": {
      "text/html": [
       "<div>\n",
       "<style scoped>\n",
       "    .dataframe tbody tr th:only-of-type {\n",
       "        vertical-align: middle;\n",
       "    }\n",
       "\n",
       "    .dataframe tbody tr th {\n",
       "        vertical-align: top;\n",
       "    }\n",
       "\n",
       "    .dataframe thead th {\n",
       "        text-align: right;\n",
       "    }\n",
       "</style>\n",
       "<table border=\"1\" class=\"dataframe\">\n",
       "  <thead>\n",
       "    <tr style=\"text-align: right;\">\n",
       "      <th>Property_type</th>\n",
       "      <th>apartment</th>\n",
       "      <th>gated community</th>\n",
       "      <th>independent house_villa</th>\n",
       "      <th>All</th>\n",
       "    </tr>\n",
       "    <tr>\n",
       "      <th>Location</th>\n",
       "      <th></th>\n",
       "      <th></th>\n",
       "      <th></th>\n",
       "      <th></th>\n",
       "    </tr>\n",
       "  </thead>\n",
       "  <tbody>\n",
       "    <tr>\n",
       "      <th>ameerpet</th>\n",
       "      <td>162</td>\n",
       "      <td>0</td>\n",
       "      <td>108</td>\n",
       "      <td>270</td>\n",
       "    </tr>\n",
       "    <tr>\n",
       "      <th>hafeezpet</th>\n",
       "      <td>38</td>\n",
       "      <td>0</td>\n",
       "      <td>12</td>\n",
       "      <td>50</td>\n",
       "    </tr>\n",
       "    <tr>\n",
       "      <th>hyderabad</th>\n",
       "      <td>27</td>\n",
       "      <td>4</td>\n",
       "      <td>17</td>\n",
       "      <td>48</td>\n",
       "    </tr>\n",
       "    <tr>\n",
       "      <th>kondapur</th>\n",
       "      <td>44</td>\n",
       "      <td>0</td>\n",
       "      <td>6</td>\n",
       "      <td>50</td>\n",
       "    </tr>\n",
       "    <tr>\n",
       "      <th>kukatpally</th>\n",
       "      <td>33</td>\n",
       "      <td>3</td>\n",
       "      <td>14</td>\n",
       "      <td>50</td>\n",
       "    </tr>\n",
       "    <tr>\n",
       "      <th>madhapur</th>\n",
       "      <td>46</td>\n",
       "      <td>0</td>\n",
       "      <td>5</td>\n",
       "      <td>51</td>\n",
       "    </tr>\n",
       "    <tr>\n",
       "      <th>uppal</th>\n",
       "      <td>30</td>\n",
       "      <td>0</td>\n",
       "      <td>20</td>\n",
       "      <td>50</td>\n",
       "    </tr>\n",
       "    <tr>\n",
       "      <th>All</th>\n",
       "      <td>380</td>\n",
       "      <td>7</td>\n",
       "      <td>182</td>\n",
       "      <td>569</td>\n",
       "    </tr>\n",
       "  </tbody>\n",
       "</table>\n",
       "</div>"
      ],
      "text/plain": [
       "Property_type  apartment  gated community  independent house_villa  All\n",
       "Location                                                               \n",
       "ameerpet             162                0                      108  270\n",
       "hafeezpet             38                0                       12   50\n",
       "hyderabad             27                4                       17   48\n",
       "kondapur              44                0                        6   50\n",
       "kukatpally            33                3                       14   50\n",
       "madhapur              46                0                        5   51\n",
       "uppal                 30                0                       20   50\n",
       "All                  380                7                      182  569"
      ]
     },
     "execution_count": 91,
     "metadata": {},
     "output_type": "execute_result"
    }
   ],
   "source": [
    "pd.crosstab(data.Location,data.Property_type, margins=True)"
   ]
  },
  {
   "cell_type": "code",
   "execution_count": 92,
   "id": "ce8170b4",
   "metadata": {},
   "outputs": [
    {
     "data": {
      "text/plain": [
       "<Axes: xlabel='count', ylabel='Location'>"
      ]
     },
     "execution_count": 92,
     "metadata": {},
     "output_type": "execute_result"
    },
    {
     "data": {
      "image/png": "[encoded data removed]",
      "text/plain": [
       "<Figure size 600x300 with 1 Axes>"
      ]
     },
     "metadata": {},
     "output_type": "display_data"
    }
   ],
   "source": [
    "plt.figure(figsize=(6, 3))\n",
    "sns.countplot(y='Location', hue='Property_type', data = data)"
   ]
  },
  {
   "cell_type": "markdown",
   "id": "ee857a51",
   "metadata": {},
   "source": [
    "### Overall Insights on data\n",
    "#### The provided Exploratory Data Analysis (EDA), here are several insights derived from the analysis of the House_Rental dataset:"
   ]
  },
  {
   "cell_type": "code",
   "execution_count": null,
   "id": "35e7f79d",
   "metadata": {},
   "outputs": [],
   "source": []
  },
  {
   "cell_type": "markdown",
   "id": "30f9f90f",
   "metadata": {},
   "source": [
    "### Predictive Modelling<a id='pm'>\n",
    "[Back To Top](#menu)"
   ]
  },
  {
   "cell_type": "markdown",
   "id": "af727cba",
   "metadata": {},
   "source": [
    "#### Predictive Modeling on Discount Data\n",
    "    \n",
    "* Above data will be given to a machine learning model , where the model will be trained on column data Price with other column data and predicts the future Price for given FlightFares.\n",
    "    \n",
    "* predictive modeling is sending data to a algorithm as input columns(x) along with one output column data (y), training y data with x\n",
    "    \n",
    "    model: y~x -> y = f(x)+e"
   ]
  },
  {
   "cell_type": "markdown",
   "id": "1124b25b",
   "metadata": {},
   "source": [
    "### 3. X & y<a id='xy'>\n",
    "\n",
    "[Back to Top](#menu)"
   ]
  },
  {
   "cell_type": "markdown",
   "id": "3f85a82b",
   "metadata": {},
   "source": [
    "**3.1 Input (x) and output(y) column for modeling from data**"
   ]
  },
  {
   "cell_type": "code",
   "execution_count": null,
   "id": "93521c09",
   "metadata": {
    "scrolled": true
   },
   "outputs": [],
   "source": [
    "data.head(2)"
   ]
  },
  {
   "cell_type": "markdown",
   "id": "eb9a3287",
   "metadata": {},
   "source": [
    "We are predicting the Price values, so the ouput column will be Price, and remaining are input columns"
   ]
  },
  {
   "cell_type": "code",
   "execution_count": null,
   "id": "6ac267b7",
   "metadata": {},
   "outputs": [],
   "source": [
    "X=data.drop(\"Rent\",axis=1) # Dropping the price column\n",
    "y=data['Rent']"
   ]
  },
  {
   "cell_type": "code",
   "execution_count": null,
   "id": "69662057",
   "metadata": {},
   "outputs": [],
   "source": [
    "X.head()"
   ]
  },
  {
   "cell_type": "code",
   "execution_count": null,
   "id": "276621ef",
   "metadata": {},
   "outputs": [],
   "source": [
    "y.head()"
   ]
  },
  {
   "cell_type": "markdown",
   "id": "d6aebf41",
   "metadata": {},
   "source": [
    "### 4. Feature Engineering (selecting proper x data for modeling)<a id='fsox'>\n",
    "   \n",
    "[Back to Top](#menu)\n",
    "\n",
    "* Feature selection/Deletion\n",
    "\n",
    "The above step can be done through the help of EDA and Business decisions\n",
    "\n",
    "* Feature Modification (Changing the Values)\n",
    "* Feature Generation (Creating New Features)\n",
    "\n",
    "The above steps already taken in Data Validation"
   ]
  },
  {
   "cell_type": "code",
   "execution_count": null,
   "id": "53733283",
   "metadata": {},
   "outputs": [],
   "source": [
    "X.columns"
   ]
  },
  {
   "cell_type": "markdown",
   "id": "788b92eb",
   "metadata": {},
   "source": [
    "**4.1 Feature Selection/Deletion**\n",
    "\n",
    "All the Columns are given equal importance and considered as input columns "
   ]
  },
  {
   "cell_type": "markdown",
   "id": "5f2e6e7c",
   "metadata": {},
   "source": [
    "**4.2 Feature Modification/Generation**\n",
    "\n",
    "* We have done some necessary feature modification in Validation Step\n",
    "* We will be also doing some necessary steps in data pre-processing"
   ]
  },
  {
   "cell_type": "markdown",
   "id": "c9d3e01b",
   "metadata": {},
   "source": [
    "### 5. Train-Test Split <a id='tts'>\n",
    "   \n",
    "[Back to Top](#menu)\n",
    "\n",
    "* Dividing Data (x,y) into train and test (Data Validation)\n",
    "\n",
    "* for this we will use sklearn module\n",
    "* we can go with 70,30 or 80,20 or 75,25 ratios"
   ]
  },
  {
   "cell_type": "code",
   "execution_count": null,
   "id": "d27ef3e3",
   "metadata": {},
   "outputs": [],
   "source": [
    "## modeling\n",
    "from sklearn.model_selection import train_test_split\n",
    "from sklearn.preprocessing import OneHotEncoder\n",
    "from sklearn.preprocessing import LabelEncoder"
   ]
  },
  {
   "cell_type": "code",
   "execution_count": null,
   "id": "00c636ab",
   "metadata": {},
   "outputs": [],
   "source": [
    "Xtrain,Xtest,ytrain,ytest = train_test_split(X,y,test_size=0.3,random_state=123)"
   ]
  },
  {
   "cell_type": "code",
   "execution_count": null,
   "id": "f8a86418",
   "metadata": {},
   "outputs": [],
   "source": [
    "Xtrain.shape,Xtest.shape,ytrain.shape,ytest.shape"
   ]
  },
  {
   "cell_type": "code",
   "execution_count": null,
   "id": "eca87a5a",
   "metadata": {},
   "outputs": [],
   "source": [
    "#reset index\n",
    "\n",
    "Xtrain=Xtrain.reset_index(drop=True)\n",
    "Xtest=Xtest.reset_index(drop=True)\n",
    "ytrain=ytrain.reset_index(drop=True)\n",
    "ytest=ytest.reset_index(drop=True)"
   ]
  },
  {
   "cell_type": "markdown",
   "id": "d72f5c9f",
   "metadata": {},
   "source": [
    "xtrain, ytrain data is used for the training predictive model\n",
    "\n",
    "xtest is used for the predictions , ytest is used for the comparissions"
   ]
  },
  {
   "cell_type": "code",
   "execution_count": null,
   "id": "5743e150",
   "metadata": {
    "scrolled": true
   },
   "outputs": [],
   "source": [
    "Xtrain"
   ]
  },
  {
   "cell_type": "markdown",
   "id": "5bc60f5c",
   "metadata": {},
   "source": [
    "### 6. Na & Handling  Outliers<a id='nott'>\n",
    "    \n",
    "[Back to Top](#menu)\n",
    "    \n",
    "**6.1 Replacing Na values**"
   ]
  },
  {
   "cell_type": "code",
   "execution_count": null,
   "id": "6c769ac9",
   "metadata": {},
   "outputs": [],
   "source": [
    "Xtrain.head(2)"
   ]
  },
  {
   "cell_type": "code",
   "execution_count": null,
   "id": "ad6990d0",
   "metadata": {},
   "outputs": [],
   "source": [
    "Xtest.head(2)"
   ]
  },
  {
   "cell_type": "code",
   "execution_count": null,
   "id": "2adf73f7",
   "metadata": {},
   "outputs": [],
   "source": [
    "Xtrain.isnull().sum()"
   ]
  },
  {
   "cell_type": "code",
   "execution_count": null,
   "id": "7ae38c4d",
   "metadata": {},
   "outputs": [],
   "source": [
    "Xtrain.dtypes"
   ]
  },
  {
   "cell_type": "markdown",
   "id": "f5db50ba",
   "metadata": {},
   "source": [
    "**6.2 Outliers Handling**\n",
    "\n",
    "**Numeric data which does not fit to col data**"
   ]
  },
  {
   "cell_type": "code",
   "execution_count": null,
   "id": "f62908f2",
   "metadata": {},
   "outputs": [],
   "source": [
    "#Outlier detection"
   ]
  },
  {
   "cell_type": "code",
   "execution_count": null,
   "id": "f9563086",
   "metadata": {},
   "outputs": [],
   "source": [
    "def outlier_detect(df):\n",
    "    for i in df.describe().columns:\n",
    "        print(\"Column:\",i)\n",
    "        print(\"------------------------------------------------\")\n",
    "        Q1 = df.describe().at['25%',i]\n",
    "        Q3 = df.describe().at['75%',i]\n",
    "        IQR = Q3 - Q1\n",
    "        LTV = Q1 - 1.5 * IQR\n",
    "        UTV = Q3 + 1.5 * IQR\n",
    "        print(\"Lower Outliers:\")\n",
    "        print()\n",
    "        lowerout = list(df[df[i]<LTV][i])\n",
    "        lowerout.sort()\n",
    "        print(lowerout)\n",
    "        print()        \n",
    "        print(\"Upper Outliers:\")\n",
    "        print()\n",
    "        upperout = list(df[df[i]>UTV][i])\n",
    "        upperout.sort()\n",
    "        print(upperout) \n",
    "        print()"
   ]
  },
  {
   "cell_type": "code",
   "execution_count": null,
   "id": "cbbe34a9",
   "metadata": {},
   "outputs": [],
   "source": [
    "outlier_detect(Xtrain)"
   ]
  },
  {
   "cell_type": "code",
   "execution_count": null,
   "id": "a3881303",
   "metadata": {},
   "outputs": [],
   "source": [
    "outlier_detect(Xtest)"
   ]
  },
  {
   "cell_type": "markdown",
   "id": "9d7eb41b",
   "metadata": {},
   "source": [
    "* The outlier data shown above belongs to col in general, keeping them as it is"
   ]
  },
  {
   "cell_type": "markdown",
   "id": "998c2c65",
   "metadata": {},
   "source": [
    "#outliers replacement"
   ]
  },
  {
   "cell_type": "raw",
   "id": "2c040e87",
   "metadata": {},
   "source": [
    "def outlier_replacement(df):\n",
    "    for i in df.describe().columns:\n",
    "        Q1 = df.describe().at['25%',i]\n",
    "        Q3 = df.describe().at['75%',i]\n",
    "        IQR = Q3 - Q1\n",
    "        LTV = Q1 - 1.5 * IQR\n",
    "        UTV = Q3 + 1.5 * IQR\n",
    "        \n",
    "        # replacement vals\n",
    "        median = df[i].median()\n",
    "        low_bound = LTV\n",
    "        high_bound = UTV\n",
    "        fifth = df[i].quantile(0.05)\n",
    "        ninetyfifth = df[i].quantile(0.95)\n",
    "        \n",
    "        # mask method is used to replace the values\n",
    "        df[i] = df[i].mask(df[i]<LTV, low_bound) # replacing the outlier with ltv (25% value)\n",
    "        df[i] = df[i].mask(df[i]>UTV, high_bound) # replacing the outlier with utv (75% value)"
   ]
  },
  {
   "cell_type": "raw",
   "id": "d01149a4",
   "metadata": {},
   "source": [
    "outlier_replacement(Xtrain)"
   ]
  },
  {
   "cell_type": "raw",
   "id": "6417358f",
   "metadata": {},
   "source": [
    "outlier_replacement(Xtest)"
   ]
  },
  {
   "cell_type": "markdown",
   "id": "b109cde9",
   "metadata": {},
   "source": [
    " ### 7. Data Pre-Processing (xtrain, xtest)<a id='ppxt'>\n",
    "\n",
    "[Back to Top](#menu)"
   ]
  },
  {
   "cell_type": "markdown",
   "id": "ab9c868a",
   "metadata": {},
   "source": [
    "**7.1 Categorical to Numerical (Encoding)**\n",
    "\n",
    "Machine needs data in numeric format, so we need to convert categorical to numerical, while observing the number of classes , because it will increase the dimensionality if we are converting them to one hot encoding.\n",
    "\n",
    "* Label Encoding for ordinal\n",
    "    - lets assume cat column data : platinum, gold, silver\n",
    "    - ordinal - platinum>gold>silver\n",
    "                3>2>1\n",
    "* One hot encodig for nominal\n",
    "    - lets assume cat column data: a, b, c\n",
    "\n",
    "a|b|c\n",
    "--|--|--\n",
    "1|0|0\n",
    "1|0|0\n",
    "0|1|0\n",
    "0|0|1"
   ]
  },
  {
   "cell_type": "markdown",
   "id": "e2c6dfe8",
   "metadata": {},
   "source": [
    "**Nominal Data Encoding (onehot encoding)**\n",
    "\n",
    "In x data we have cat cols which can be considered as nominal"
   ]
  },
  {
   "cell_type": "markdown",
   "id": "f4df763b",
   "metadata": {},
   "source": [
    "**we will be using python sklearn library one hot encoder for converting these columns**"
   ]
  },
  {
   "cell_type": "code",
   "execution_count": null,
   "id": "e14b498b",
   "metadata": {},
   "outputs": [],
   "source": [
    "#Onehot encoding\n",
    "ohe=OneHotEncoder(handle_unknown='ignore',sparse=True,drop = 'first')\n",
    "\n",
    "# drop is used remove one onehotencoded column for dummy_variable trap"
   ]
  },
  {
   "cell_type": "markdown",
   "id": "17339098",
   "metadata": {},
   "source": [
    "**Dummy variable Trap**\n",
    "\n",
    "    The Dummy Variable Trap occurs when two or more dummy variables created by one-hot encoding are highly correlated (multi-collinear). This means that one variable can be predicted from the others, making it difficult to interpret predicted coefficient variables in regression models."
   ]
  },
  {
   "cell_type": "markdown",
   "id": "5e990bf5",
   "metadata": {},
   "source": [
    "* Using one hot encoder will remember the data , also it will be used to ignore on the unknown data classes"
   ]
  },
  {
   "cell_type": "markdown",
   "id": "ba2a6524",
   "metadata": {},
   "source": [
    "We will be using the command fit_transform to train and convert the classes into one hot encoding"
   ]
  },
  {
   "cell_type": "code",
   "execution_count": null,
   "id": "6256e882",
   "metadata": {
    "scrolled": true
   },
   "outputs": [],
   "source": [
    "Xtrain.head(2)"
   ]
  },
  {
   "cell_type": "code",
   "execution_count": null,
   "id": "b7d9234a",
   "metadata": {},
   "outputs": [],
   "source": [
    "Xtrain.iloc[:, [0,7]].head(2)"
   ]
  },
  {
   "cell_type": "code",
   "execution_count": null,
   "id": "33674509",
   "metadata": {},
   "outputs": [],
   "source": [
    "Xtrain_ohe=ohe.fit_transform(Xtrain.iloc[:,[0,7]]).toarray()"
   ]
  },
  {
   "cell_type": "code",
   "execution_count": null,
   "id": "de1f05b8",
   "metadata": {},
   "outputs": [],
   "source": [
    "Xtrain_ohe=pd.DataFrame(Xtrain_ohe,columns= ohe.get_feature_names_out())"
   ]
  },
  {
   "cell_type": "code",
   "execution_count": null,
   "id": "bc552cea",
   "metadata": {},
   "outputs": [],
   "source": [
    "Xtrain_ohe"
   ]
  },
  {
   "cell_type": "code",
   "execution_count": null,
   "id": "5be64f0e",
   "metadata": {},
   "outputs": [],
   "source": [
    "Xtrain_ohe.shape"
   ]
  },
  {
   "cell_type": "code",
   "execution_count": null,
   "id": "92d4cd9a",
   "metadata": {},
   "outputs": [],
   "source": [
    "Xtest_ohe=ohe.transform(Xtest.iloc[:,[0,7]]).toarray()"
   ]
  },
  {
   "cell_type": "code",
   "execution_count": null,
   "id": "a79790ec",
   "metadata": {},
   "outputs": [],
   "source": [
    "Xtest_ohe=pd.DataFrame(Xtest_ohe,columns=ohe.get_feature_names_out())"
   ]
  },
  {
   "cell_type": "code",
   "execution_count": null,
   "id": "8b3fb068",
   "metadata": {},
   "outputs": [],
   "source": [
    "Xtest_ohe.shape"
   ]
  },
  {
   "cell_type": "code",
   "execution_count": null,
   "id": "c100c21d",
   "metadata": {
    "scrolled": true
   },
   "outputs": [],
   "source": [
    "Xtrain.iloc[:,[1,2,3,4,5,6,8,9,10]]"
   ]
  },
  {
   "cell_type": "code",
   "execution_count": null,
   "id": "4435c28c",
   "metadata": {
    "scrolled": true
   },
   "outputs": [],
   "source": [
    "Xtrain_ohe.isnull().sum()"
   ]
  },
  {
   "cell_type": "code",
   "execution_count": null,
   "id": "b222fe08",
   "metadata": {},
   "outputs": [],
   "source": [
    "Xtest_ohe.isnull().sum()"
   ]
  },
  {
   "cell_type": "code",
   "execution_count": null,
   "id": "8dae7507",
   "metadata": {},
   "outputs": [],
   "source": [
    "Xtrain=pd.concat([Xtrain.iloc[:,[1,2,3,4,5,6,8,9,10]],Xtrain_ohe],axis=1)"
   ]
  },
  {
   "cell_type": "code",
   "execution_count": null,
   "id": "3e23ff79",
   "metadata": {},
   "outputs": [],
   "source": [
    "Xtrain.shape"
   ]
  },
  {
   "cell_type": "code",
   "execution_count": null,
   "id": "0c293753",
   "metadata": {},
   "outputs": [],
   "source": [
    "Xtest=pd.concat([Xtest.iloc[:,[1,2,3,4,5,6,8,9,10]],Xtest_ohe],axis=1)"
   ]
  },
  {
   "cell_type": "code",
   "execution_count": null,
   "id": "d5c51052",
   "metadata": {},
   "outputs": [],
   "source": [
    "Xtest.shape"
   ]
  },
  {
   "cell_type": "code",
   "execution_count": null,
   "id": "3afc4b8e",
   "metadata": {},
   "outputs": [],
   "source": [
    "# reseting the indexes\n",
    "Xtrain=Xtrain.reset_index(drop=True)\n",
    "Xtest=Xtest.reset_index(drop=True)\n",
    "ytrain=ytrain.reset_index(drop=True)\n",
    "ytest=ytest.reset_index(drop=True)"
   ]
  },
  {
   "cell_type": "markdown",
   "id": "ce7bc934",
   "metadata": {},
   "source": [
    "**Label Encoding**\n",
    "\n",
    "we have 5 columns with Ordinal categorical data."
   ]
  },
  {
   "cell_type": "code",
   "execution_count": null,
   "id": "77187670",
   "metadata": {},
   "outputs": [],
   "source": [
    "Xtrain.Gated_security.unique()"
   ]
  },
  {
   "cell_type": "code",
   "execution_count": null,
   "id": "0f32db52",
   "metadata": {},
   "outputs": [],
   "source": [
    "Xtrain.Furnish.replace({\n",
    "    'unfurnished':0, 'semi':1,'full':2},inplace=True)"
   ]
  },
  {
   "cell_type": "code",
   "execution_count": null,
   "id": "a21df7eb",
   "metadata": {},
   "outputs": [],
   "source": [
    "Xtest.Furnish.replace({\n",
    "    'unfurnished':0, 'semi':1,'full':2},inplace=True)"
   ]
  },
  {
   "cell_type": "code",
   "execution_count": null,
   "id": "8f5ce926",
   "metadata": {},
   "outputs": [],
   "source": [
    "Xtrain.Property_type.replace({\n",
    "    'apartment':0, 'independent house_villa':1,'gated community':2},inplace=True)"
   ]
  },
  {
   "cell_type": "code",
   "execution_count": null,
   "id": "ab806818",
   "metadata": {},
   "outputs": [],
   "source": [
    "Xtest.Property_type.replace({\n",
    "    'apartment':0, 'independent house_villa':1,'gated community':2},inplace=True)"
   ]
  },
  {
   "cell_type": "code",
   "execution_count": null,
   "id": "cd1f82cf",
   "metadata": {},
   "outputs": [],
   "source": [
    "Xtrain.Parking.replace({\n",
    "    'none':0, 'bike':1,'car':2, 'bike_and_car':3},inplace=True)"
   ]
  },
  {
   "cell_type": "code",
   "execution_count": null,
   "id": "fe167566",
   "metadata": {},
   "outputs": [],
   "source": [
    "Xtest.Parking.replace({\n",
    "    'none':0, 'bike':1,'car':2, 'bike_and_car':3},inplace=True)"
   ]
  },
  {
   "cell_type": "code",
   "execution_count": null,
   "id": "285e56f2",
   "metadata": {},
   "outputs": [],
   "source": [
    "Xtrain.Gated_security.replace({'yes':1,\"no\":0},inplace=True)"
   ]
  },
  {
   "cell_type": "code",
   "execution_count": null,
   "id": "7637ebbf",
   "metadata": {},
   "outputs": [],
   "source": [
    "Xtest.Gated_security.replace({'yes':1,\"no\":0},inplace=True)"
   ]
  },
  {
   "cell_type": "code",
   "execution_count": null,
   "id": "f449f776",
   "metadata": {},
   "outputs": [],
   "source": [
    "Xtrain.Nonveg_allowed.replace({'yes':1,\"no\":0},inplace=True)"
   ]
  },
  {
   "cell_type": "code",
   "execution_count": null,
   "id": "d5bc8b55",
   "metadata": {},
   "outputs": [],
   "source": [
    "Xtest.Nonveg_allowed.replace({'yes':1,\"no\":0},inplace=True)"
   ]
  },
  {
   "cell_type": "code",
   "execution_count": null,
   "id": "aae5c00a",
   "metadata": {},
   "outputs": [],
   "source": [
    "Xtrain.head(2)"
   ]
  },
  {
   "cell_type": "code",
   "execution_count": null,
   "id": "ffde8a37",
   "metadata": {
    "scrolled": true
   },
   "outputs": [],
   "source": [
    "Xtest.head(2)"
   ]
  },
  {
   "cell_type": "markdown",
   "id": "14b922e8",
   "metadata": {},
   "source": [
    "**7.2 Scaling Numeric Data (if necessary)**\n",
    "\n",
    "We need to apply scaling for the input numerical continuous columns which are in different scales only ,not to the one hot encoded vectors\n",
    "\n",
    "Scaling is not suggested for numerical output column\n",
    "\n",
    "Scaling is applied based on the model we are using for prediction\n",
    "\n",
    "\n",
    "**For this data numerical values are in different scales and we are building regression , scaling is suggested**\n",
    "\n",
    "**We have two scales**\n",
    "\n",
    "1. Standard Scaler / Standardization (Mostly Suggested)\n",
    "\n",
    "        x-mean/std \n",
    "    \n",
    "    entire column data can be converted into normal distribution with mean 0 and std 1\n",
    "    \n",
    "    \n",
    "    \n",
    "2. Normalization\n",
    "\n",
    "    MinMax Scale\n",
    "\n",
    "    xi-min(x)/max(x)-min(x)\n",
    "\n",
    "        data in 0 to 1 range\n"
   ]
  },
  {
   "cell_type": "markdown",
   "id": "904b6386",
   "metadata": {},
   "source": [
    "* We can scale numeric columns when we have huge scale difference if algorithm needed"
   ]
  },
  {
   "cell_type": "code",
   "execution_count": null,
   "id": "f5a674d0",
   "metadata": {},
   "outputs": [],
   "source": [
    "Xtrain.head(2)"
   ]
  },
  {
   "cell_type": "code",
   "execution_count": null,
   "id": "8b218d2c",
   "metadata": {},
   "outputs": [],
   "source": [
    "Xtrain.describe()"
   ]
  },
  {
   "cell_type": "code",
   "execution_count": null,
   "id": "54c5e67f",
   "metadata": {},
   "outputs": [],
   "source": [
    "Xtrain.head()"
   ]
  },
  {
   "cell_type": "code",
   "execution_count": null,
   "id": "637d59ba",
   "metadata": {},
   "outputs": [],
   "source": [
    "from sklearn.preprocessing import StandardScaler"
   ]
  },
  {
   "cell_type": "code",
   "execution_count": null,
   "id": "23d7cac1",
   "metadata": {},
   "outputs": [],
   "source": [
    "sc = StandardScaler()"
   ]
  },
  {
   "cell_type": "code",
   "execution_count": null,
   "id": "5a45a7e7",
   "metadata": {},
   "outputs": [],
   "source": [
    "Xtrain.columns"
   ]
  },
  {
   "cell_type": "code",
   "execution_count": null,
   "id": "8d605524",
   "metadata": {},
   "outputs": [],
   "source": [
    "# Conisdering more than two digit columns\n",
    "Xtrain.iloc[:, [0,5]]"
   ]
  },
  {
   "cell_type": "code",
   "execution_count": null,
   "id": "265b8680",
   "metadata": {},
   "outputs": [],
   "source": [
    "Xtrain.iloc[:, [0,5]] = sc.fit_transform(Xtrain.iloc[:, [0,5]])"
   ]
  },
  {
   "cell_type": "code",
   "execution_count": null,
   "id": "9701a287",
   "metadata": {},
   "outputs": [],
   "source": [
    "Xtest.iloc[:, [0,5]] = sc.transform(Xtest.iloc[:, [0,5]])"
   ]
  },
  {
   "cell_type": "code",
   "execution_count": null,
   "id": "01361848",
   "metadata": {},
   "outputs": [],
   "source": [
    "Xtrain.head(2)"
   ]
  },
  {
   "cell_type": "code",
   "execution_count": null,
   "id": "86bc8a6b",
   "metadata": {},
   "outputs": [],
   "source": [
    "Xtest.head(2)"
   ]
  },
  {
   "cell_type": "markdown",
   "id": "6920a0a6",
   "metadata": {},
   "source": [
    "### 8. Selecting The Predictive Model<a id='mod'>\n",
    "\n",
    "[Back to Top](#menu)\n",
    "\n",
    "* y data is a numeric data , we will be using regression algorithms\n",
    "\n",
    "* Linear Algorithms (when the data is linear to output (having correlation))\n",
    "    - Linear Regression\n",
    "    - Polynomial Regression\n",
    "    - Lasso & Ridge Regression\n",
    "\n",
    "* Non-Linear Algorithms (when the data is non-linear to output (not having correlation) using classification algorithms)\n",
    "    - RandomForest Regressor\n",
    "    - Xgboost Regressor\n",
    "    \n",
    "Note:\n",
    "    \n",
    "* The data is non-linear"
   ]
  },
  {
   "cell_type": "markdown",
   "id": "e2c1c1ce",
   "metadata": {},
   "source": [
    "**8.1 Importing Libraries and Define Models**"
   ]
  },
  {
   "cell_type": "code",
   "execution_count": null,
   "id": "0c8064b6",
   "metadata": {},
   "outputs": [],
   "source": [
    "!pip install xgboost"
   ]
  },
  {
   "cell_type": "code",
   "execution_count": null,
   "id": "7aa64131",
   "metadata": {},
   "outputs": [],
   "source": [
    "#Algorithms\n",
    "from sklearn.linear_model import LinearRegression,Lasso,Ridge\n",
    "from sklearn.preprocessing import PolynomialFeatures\n",
    "from sklearn.tree import DecisionTreeRegressor\n",
    "from sklearn.ensemble import RandomForestRegressor\n",
    "from sklearn.svm import SVR\n",
    "from xgboost import XGBRegressor"
   ]
  },
  {
   "cell_type": "code",
   "execution_count": null,
   "id": "09b8e721",
   "metadata": {},
   "outputs": [],
   "source": [
    "# Multiple Linear Regression \n",
    "\n",
    "mlr = LinearRegression()\n",
    "\n",
    "# Polynomial Regression\n",
    "\n",
    "polyf = PolynomialFeatures(degree = 2)  # degree is hyperparam\n",
    "\n",
    "poly = LinearRegression()\n",
    "\n",
    "# Lasso (L1) & Ridge (L2)\n",
    "\n",
    "lasso = Lasso(alpha = 5) # alpha - hyperparam - penalty\n",
    "\n",
    "ridge = Ridge(alpha = 5)\n",
    "\n",
    "# Decision Tree regressor\n",
    "dt_reg = DecisionTreeRegressor()\n",
    "\n",
    "# Random Forest regressor\n",
    "\n",
    "rf_reg = RandomForestRegressor(n_estimators=50) # n_estimators - hyperparam - number of decision trees\n",
    "\n",
    "# Support Vector Regressor\n",
    "\n",
    "sv_reg = SVR(kernel='rbf') # non-linear kernel for non-linear data\n",
    "\n",
    "# Xgb\n",
    "\n",
    "xgb_reg = XGBRegressor()"
   ]
  },
  {
   "cell_type": "markdown",
   "id": "30142cc0",
   "metadata": {},
   "source": [
    "**8.2 Model Training**\n",
    "\n",
    "* Using xtrain, ytrain data\n",
    "* Using fit command to train the defined model with xtrain, ytrain"
   ]
  },
  {
   "cell_type": "markdown",
   "id": "79988364",
   "metadata": {},
   "source": [
    "**Linear regression**"
   ]
  },
  {
   "cell_type": "code",
   "execution_count": null,
   "id": "8d413ee8",
   "metadata": {},
   "outputs": [],
   "source": [
    "Xtrain.head(2)"
   ]
  },
  {
   "cell_type": "code",
   "execution_count": null,
   "id": "d8377455",
   "metadata": {},
   "outputs": [],
   "source": [
    "# Model Training\n",
    "\n",
    "mlr.fit(Xtrain, ytrain)"
   ]
  },
  {
   "cell_type": "code",
   "execution_count": null,
   "id": "c87af58c",
   "metadata": {},
   "outputs": [],
   "source": [
    "mlr.coef_,mlr.intercept_"
   ]
  },
  {
   "cell_type": "markdown",
   "id": "c9bdd3c2",
   "metadata": {},
   "source": [
    "**Polynomial Regression**"
   ]
  },
  {
   "cell_type": "code",
   "execution_count": null,
   "id": "debb48fb",
   "metadata": {},
   "outputs": [],
   "source": [
    "# converting x data to poly features\n",
    "\n",
    "X_train_poly = polyf.fit_transform(Xtrain)\n",
    "\n",
    "X_test_poly = polyf.transform(Xtest)"
   ]
  },
  {
   "cell_type": "code",
   "execution_count": null,
   "id": "0c000032",
   "metadata": {},
   "outputs": [],
   "source": [
    "X_train_poly.shape, X_test_poly.shape"
   ]
  },
  {
   "cell_type": "code",
   "execution_count": null,
   "id": "2d023344",
   "metadata": {},
   "outputs": [],
   "source": [
    "polyf.get_params()"
   ]
  },
  {
   "cell_type": "code",
   "execution_count": null,
   "id": "0eac938a",
   "metadata": {},
   "outputs": [],
   "source": [
    "# Model Training\n",
    "\n",
    "poly.fit(X_train_poly,ytrain)"
   ]
  },
  {
   "cell_type": "code",
   "execution_count": null,
   "id": "f0a8f3ed",
   "metadata": {},
   "outputs": [],
   "source": [
    "# params\n",
    "\n",
    "poly.coef_, poly.intercept_"
   ]
  },
  {
   "cell_type": "markdown",
   "id": "9a0064d1",
   "metadata": {},
   "source": [
    "**Lasso and Ridge**"
   ]
  },
  {
   "cell_type": "code",
   "execution_count": null,
   "id": "8a87b4c9",
   "metadata": {},
   "outputs": [],
   "source": [
    "# model training\n",
    "\n",
    "lasso.fit(Xtrain,ytrain),ridge.fit(Xtrain,ytrain)"
   ]
  },
  {
   "cell_type": "code",
   "execution_count": null,
   "id": "7876f02d",
   "metadata": {},
   "outputs": [],
   "source": [
    "lasso.coef_,lasso.intercept_"
   ]
  },
  {
   "cell_type": "code",
   "execution_count": null,
   "id": "28a05823",
   "metadata": {},
   "outputs": [],
   "source": [
    "ridge.intercept_, ridge.coef_"
   ]
  },
  {
   "cell_type": "code",
   "execution_count": null,
   "id": "b2fbd7ba",
   "metadata": {},
   "outputs": [],
   "source": [
    "# non-linear model training\n",
    "\n",
    "dt_reg.fit(Xtrain,ytrain),rf_reg.fit(Xtrain,ytrain),sv_reg.fit(Xtrain,ytrain),xgb_reg.fit(Xtrain,ytrain)"
   ]
  },
  {
   "cell_type": "markdown",
   "id": "ad1d21ad",
   "metadata": {},
   "source": [
    "**Get parameters**"
   ]
  },
  {
   "cell_type": "code",
   "execution_count": null,
   "id": "54164971",
   "metadata": {},
   "outputs": [],
   "source": [
    "dt_reg.get_params()"
   ]
  },
  {
   "cell_type": "code",
   "execution_count": null,
   "id": "fa5fed15",
   "metadata": {},
   "outputs": [],
   "source": [
    "rf_reg.get_params()"
   ]
  },
  {
   "cell_type": "code",
   "execution_count": null,
   "id": "020e7b5c",
   "metadata": {},
   "outputs": [],
   "source": [
    "sv_reg.get_params()"
   ]
  },
  {
   "cell_type": "code",
   "execution_count": null,
   "id": "5f0f96ab",
   "metadata": {
    "scrolled": true
   },
   "outputs": [],
   "source": [
    "xgb_reg.get_params()"
   ]
  },
  {
   "cell_type": "markdown",
   "id": "eeae3657",
   "metadata": {},
   "source": [
    "**Important features**"
   ]
  },
  {
   "cell_type": "code",
   "execution_count": null,
   "id": "af8243fd",
   "metadata": {},
   "outputs": [],
   "source": [
    "rf_reg.feature_names_in_, rf_reg.feature_importances_"
   ]
  },
  {
   "cell_type": "markdown",
   "id": "cba767d4",
   "metadata": {},
   "source": [
    "### 9. Model Performance<a id='mp'>\n",
    "\n",
    "[Back to Top](#menu)\n",
    "* Checking Trained Model Performances on Test Data\n",
    "\n",
    "* Using x_test data we will be getting predictions, these predictions will be compared to y_test\n",
    "\n",
    "* To check Model Performance we can use evaluation methods\n",
    "\n",
    "    * Error/Loss\n",
    "    * Model Score \n",
    "    * Bias-Variance Trade off (Underfit or Overfit)\n",
    "    * Cross-Val Score\n",
    "\n",
    "For regression we can use these evaluation\n",
    "\n",
    "\n",
    "Performance Metric | Regression\n",
    "-------|-----------\n",
    "**Loss or Error**|MeanSquaredError/RMSE (For both Train and Test)\n",
    "**Model Score (Evaluation)** | R2score (Coefficient of Determination)\n",
    "**Bias-Variance Trade Off**|Higher error & Lower score (underfit)\n",
    "--|Low Train error & High Test error (Overfit)\n",
    "**Cross-Val Score**|Checking trained model performance on entire X and y data"
   ]
  },
  {
   "cell_type": "code",
   "execution_count": null,
   "id": "fff955bb",
   "metadata": {},
   "outputs": [],
   "source": [
    "from sklearn.metrics import r2_score,mean_squared_error\n",
    "from sklearn.model_selection import cross_val_score"
   ]
  },
  {
   "cell_type": "markdown",
   "id": "d904a3c7",
   "metadata": {},
   "source": [
    "Generating predictions for xtest data\n",
    "\n",
    "* Using predict method in trained model to get ypredictions on test data\n",
    "* Comparing ypred values with ytest for loss and performance"
   ]
  },
  {
   "cell_type": "code",
   "execution_count": null,
   "id": "327b810a",
   "metadata": {},
   "outputs": [],
   "source": [
    "X = pd.concat([Xtrain, Xtest], axis = 0)\n",
    "y = pd.concat([ytrain, ytest], axis = 0)"
   ]
  },
  {
   "cell_type": "markdown",
   "id": "a139e947",
   "metadata": {},
   "source": [
    "**Single Function for all models Evaluation**"
   ]
  },
  {
   "cell_type": "code",
   "execution_count": null,
   "id": "a85b6968",
   "metadata": {},
   "outputs": [],
   "source": [
    "names = [\"polynomial Regression\",'Multiple Linear Regression',\"Lasso Regression\",'Ridge regression','Decision Tree','RandomForest Regressor',\"Support Vector Regressor\", \n",
    "         'Xgboost Regressor']\n",
    "models= {'poly':poly,'mlr':mlr,'Lasso':lasso,'Ridge':ridge,'dt_reg':dt_reg,'rf_reg':rf_reg,'sv_reg':sv_reg,'xgb_reg':xgb_reg}\n",
    "\n",
    "# Defining empty lists\n",
    "trainRMSE = []\n",
    "testRMSE = []\n",
    "\n",
    "trainscore = []\n",
    "testscore = []\n",
    "\n",
    "fit=[]\n",
    "crossvalscore = []\n"
   ]
  },
  {
   "cell_type": "code",
   "execution_count": null,
   "id": "394f72e0",
   "metadata": {},
   "outputs": [],
   "source": [
    "for name, model in models.items():\n",
    "    if name == 'poly':\n",
    "        \n",
    "        # RMSE , R2score   \n",
    "        trainRMSE.append(round(np.sqrt(mean_squared_error(ytrain, model.predict(X_train_poly))),2))\n",
    "        testRMSE.append(round(np.sqrt(mean_squared_error(ytest, model.predict(X_test_poly))), 2))\n",
    "        trainscore.append(round(r2_score(ytrain, model.predict(X_train_poly)),2))\n",
    "        testscore.append(round(r2_score(ytest, model.predict(X_test_poly)),2))\n",
    "        trscore = r2_score(ytrain, model.predict(X_train_poly))\n",
    "        tescore = r2_score(ytest, model.predict(X_test_poly))\n",
    "        \n",
    "        if trscore>=0.60 and tescore>=0.60:\n",
    "            if trscore>tescore:\n",
    "                if trscore-tescore>=0.10:\n",
    "                    fit.append(\"Overfit\")\n",
    "                elif trscore-tescore<0.10:\n",
    "                    fit.append(\"Goodfit\")\n",
    "                else:\n",
    "                    fit.append('Nofit')\n",
    "            else:\n",
    "                fit.append(\"Nofit\")\n",
    "        elif trscore<0.60 and tescore<0.60:\n",
    "            if abs(trscore)==0 and abs(tescore)==0:\n",
    "                fit.append(\"Nofit\")\n",
    "            else:\n",
    "                fit.append(\"Underfit\")\n",
    "        else:\n",
    "            fit.append(\"Nofit\")\n",
    "        \n",
    "        # Cross validation\n",
    "\n",
    "        scores = cross_val_score(models[name], X.iloc[:,0:5], y, cv=3)\n",
    "        crossvalscore.append(round(scores.mean(),2))\n",
    "        \n",
    "    else:\n",
    "        \n",
    "        # RMSE, R2score\n",
    "\n",
    "        trainRMSE.append(round(np.sqrt(mean_squared_error(ytrain, models[name].predict(Xtrain))),2))\n",
    "        testRMSE.append(round(np.sqrt(mean_squared_error(ytest, models[name].predict(Xtest))),2))\n",
    "        trainscore.append(round(r2_score(ytrain, models[name].predict(Xtrain)),2))\n",
    "        testscore.append(round(r2_score(ytest, models[name].predict(Xtest)),2))\n",
    "        trscore = r2_score(ytrain, models[name].predict(Xtrain))\n",
    "        tescore = r2_score(ytest, models[name].predict(Xtest))\n",
    "        \n",
    "        # Bias-Variance Trade off\n",
    "        \n",
    "        if trscore>=0.60 and tescore>=0.60:\n",
    "            if trscore>tescore:\n",
    "                if trscore-tescore>=0.10:\n",
    "                    fit.append(\"Overfit\")\n",
    "                elif trscore-tescore<0.10:\n",
    "                    fit.append(\"Goodfit\")\n",
    "                else:\n",
    "                    fit.append('Nofit')\n",
    "            else:\n",
    "                fit.append(\"Nofit\")\n",
    "        elif trscore<0.60 and tescore<0.60:\n",
    "            if abs(trscore)==0 and abs(tescore)==0:\n",
    "                fit.append(\"Nofit\")\n",
    "            else:\n",
    "                fit.append(\"Underfit\")\n",
    "        else:\n",
    "            fit.append(\"Nofit\")\n",
    "\n",
    "        # Cross-val score\n",
    "        \n",
    "        scores = cross_val_score(model, X, y, cv=3)\n",
    "        crossvalscore.append(round(scores.mean(),2))"
   ]
  },
  {
   "cell_type": "code",
   "execution_count": null,
   "id": "011dd8a8",
   "metadata": {},
   "outputs": [],
   "source": [
    "trainRMSE,testRMSE,trainscore,testscore"
   ]
  },
  {
   "cell_type": "code",
   "execution_count": null,
   "id": "42985391",
   "metadata": {},
   "outputs": [],
   "source": [
    "pd.set_option('display.float_format', lambda x: '%.3f' % x)"
   ]
  },
  {
   "cell_type": "code",
   "execution_count": null,
   "id": "f43107aa",
   "metadata": {},
   "outputs": [],
   "source": [
    "display(pd.DataFrame({'Model':names, 'Trainedmodel':models.values(), 'TrainRMSE':trainRMSE, 'TestRMSE':testRMSE,\n",
    "             'Trainscore':trainscore, 'Testscore':testscore, 'Crossvalscore':crossvalscore, 'Fit':fit}))\n"
   ]
  },
  {
   "cell_type": "markdown",
   "id": "4319eedc",
   "metadata": {},
   "source": [
    "### 10.Real Time Predictions<a id='rtp'>\n",
    "[BackToTop](#menu)"
   ]
  },
  {
   "cell_type": "code",
   "execution_count": null,
   "id": "d6e13ac3",
   "metadata": {},
   "outputs": [],
   "source": [
    "data.head(2)"
   ]
  },
  {
   "cell_type": "code",
   "execution_count": null,
   "id": "72ea9564",
   "metadata": {},
   "outputs": [],
   "source": [
    "data.columns"
   ]
  },
  {
   "cell_type": "code",
   "execution_count": null,
   "id": "237fc049",
   "metadata": {},
   "outputs": [],
   "source": [
    "from sklearn.preprocessing import LabelEncoder"
   ]
  },
  {
   "cell_type": "code",
   "execution_count": null,
   "id": "f67f1ad1",
   "metadata": {},
   "outputs": [],
   "source": [
    "le = LabelEncoder()"
   ]
  },
  {
   "cell_type": "code",
   "execution_count": null,
   "id": "ed0d62da",
   "metadata": {},
   "outputs": [],
   "source": []
  }
 ],
 "metadata": {
  "kernelspec": {
   "display_name": "Python 3 (ipykernel)",
   "language": "python",
   "name": "python3"
  },
  "language_info": {
   "codemirror_mode": {
    "name": "ipython",
    "version": 3
   },
   "file_extension": ".py",
   "mimetype": "text/x-python",
   "name": "python",
   "nbconvert_exporter": "python",
   "pygments_lexer": "ipython3",
   "version": "3.11.4"
  }
 },
 "nbformat": 4,
 "nbformat_minor": 5
}
