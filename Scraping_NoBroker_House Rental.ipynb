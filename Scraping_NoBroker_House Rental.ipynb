{
 "cells": [
  {
   "cell_type": "code",
   "execution_count": 55,
   "id": "5f2dfc21",
   "metadata": {},
   "outputs": [],
   "source": [
    "from selenium import webdriver\n",
    "from selenium.webdriver.common.by import By\n",
    "import time\n",
    "import numpy as np\n",
    "\n",
    "import warnings\n",
    "warnings.filterwarnings(\"ignore\")"
   ]
  },
  {
   "cell_type": "code",
   "execution_count": 56,
   "id": "e3894571",
   "metadata": {},
   "outputs": [],
   "source": [
    "driver = webdriver.Chrome()"
   ]
  },
  {
   "cell_type": "code",
   "execution_count": 57,
   "id": "6b0e1f52",
   "metadata": {},
   "outputs": [],
   "source": [
    "driver.get('https://www.nobroker.in/property/rent/hyderabad/Hyderabad/?searchParam=W3sibGF0IjoxNy40NDcwNTY5NDg3OTM1LCJsb24iOjc4LjU2ODcxMzk1MDMyMjEsInBsYWNlSWQiOiJDaElKeDlMcjZ0cVp5enNSd3Z1NmtvTzNrNjQiLCJwbGFjZU5hbWUiOiJIeWRlcmFiYWQiLCJzaG93TWFwIjpmYWxzZX1d&sharedAccomodation=0')"
   ]
  },
  {
   "cell_type": "raw",
   "id": "8ed498d0",
   "metadata": {},
   "source": [
    "driver.get('https://www.nobroker.in/property/rent/hyderabad/multiple/?searchParam=W3sibGF0IjoxNy40NDAwODAyLCJsb24iOjc4LjM0ODkxNjgsInBsYWNlSWQiOiJDaElKMzg3ZWRxS1R5enNSNGtTVGI1N25FaXciLCJwbGFjZU5hbWUiOiJHYWNoaWJvd2xpIiwic2hvd01hcCI6ZmFsc2V9LHsibGF0IjoxNy40NDM0NjQ2LCJsb24iOjc4LjM3NzE5NTMsInBsYWNlSWQiOiJDaElKMzJsZGpOeVR5enNSN3FCX1ZldUxhQmsiLCJwbGFjZU5hbWUiOiJISVRFQyBDaXR5Iiwic2hvd01hcCI6ZmFsc2V9LHsibGF0IjoxNy40Njk4NTc3LCJsb24iOjc4LjM1NzgyNDYsInBsYWNlSWQiOiJDaElKYTZOSktNbVR5enNSLWhKVmtEVEFEZDQiLCJwbGFjZU5hbWUiOiJLb25kYXB1ciIsInNob3dNYXAiOmZhbHNlfV0=&sharedAccomodation=0&isMetro=false&radius=2.0&orderBy=nbRank,desc')"
   ]
  },
  {
   "cell_type": "raw",
   "id": "28324bcb",
   "metadata": {},
   "source": [
    "driver.get('https://www.nobroker.in/property/rent/hyderabad/multiple/?searchParam=W3sibGF0IjoxNy40NDg1ODM1LCJsb24iOjc4LjM5MDgwMzQ5OTk5OTk5LCJwbGFjZUlkIjoiQ2hJSkJiSUI4bGlSeXpzUkcwR1NkNzdudXhFIiwicGxhY2VOYW1lIjoiTWFkaGFwdXIiLCJzaG93TWFwIjpmYWxzZX0seyJsYXQiOjE3LjQzMjU4OTQsImxvbiI6NzguNDA3MDY5MSwicGxhY2VJZCI6IkNoSUpFM2FvWXN5V3l6c1JTYjVpSTZKX01hZyIsInBsYWNlTmFtZSI6Ikp1YmlsZWUgSGlsbHMiLCJzaG93TWFwIjpmYWxzZX0seyJsYXQiOjE3LjQxNzgzMDEsImxvbiI6NzguMzg4OTcxNywicGxhY2VJZCI6IkNoSUppMU10T3EtV3l6c1JtMVpmeExQc1ZtQSIsInBsYWNlTmFtZSI6IlJhaSBEdXJnIiwic2hvd01hcCI6ZmFsc2V9XQ==&sharedAccomodation=0&isMetro=false&radius=2.0&orderBy=nbRank,desc')"
   ]
  },
  {
   "cell_type": "code",
   "execution_count": null,
   "id": "8c6ae200",
   "metadata": {},
   "outputs": [],
   "source": []
  },
  {
   "cell_type": "code",
   "execution_count": 58,
   "id": "4090999c",
   "metadata": {},
   "outputs": [],
   "source": [
    "  # Storing the url of the child class\n",
    "window_after = driver.window_handles[0]\n",
    "        # changing the parent window to child window\n",
    "driver.switch_to.window(window_after)"
   ]
  },
  {
   "cell_type": "code",
   "execution_count": 59,
   "id": "e80fcfe2",
   "metadata": {},
   "outputs": [],
   "source": [
    "rentelems = driver.find_elements(By.XPATH,'//h2[@class=\"heading-6 flex items-center font-semi-bold m-0\"]')"
   ]
  },
  {
   "cell_type": "code",
   "execution_count": 60,
   "id": "49536cbf",
   "metadata": {},
   "outputs": [
    {
     "data": {
      "text/plain": [
       "'https://www.nobroker.in/property/2-bhk-apartment-for-rent-in-botanical-garden-road-hyderabad-for-rs-25000/8a9f84438c867392018c869f0cb91a5e/detail'"
      ]
     },
     "execution_count": 60,
     "metadata": {},
     "output_type": "execute_result"
    }
   ],
   "source": [
    "rentelems[0].find_element(By.TAG_NAME,\"a\").get_property(\"href\")"
   ]
  },
  {
   "cell_type": "code",
   "execution_count": 61,
   "id": "a2e28407",
   "metadata": {},
   "outputs": [],
   "source": [
    "links = []\n",
    "for i in range(0,len(rentelems)):\n",
    "    links.append(rentelems[i].find_element(By.TAG_NAME,\"a\").get_property(\"href\"))"
   ]
  },
  {
   "cell_type": "code",
   "execution_count": 63,
   "id": "9cf5a06c",
   "metadata": {},
   "outputs": [
    {
     "data": {
      "text/plain": [
       "25"
      ]
     },
     "execution_count": 63,
     "metadata": {},
     "output_type": "execute_result"
    }
   ],
   "source": [
    "len(rentelems)"
   ]
  },
  {
   "cell_type": "code",
   "execution_count": 64,
   "id": "545fe34c",
   "metadata": {},
   "outputs": [
    {
     "name": "stdout",
     "output_type": "stream",
     "text": [
      "page no.0\n",
      "page no.1\n",
      "page no.2\n",
      "page no.3\n",
      "page no.4\n",
      "page no.5\n",
      "page no.6\n",
      "page no.7\n",
      "page no.8\n",
      "page no.9\n",
      "page no.10\n",
      "page no.11\n",
      "page no.12\n",
      "page no.13\n",
      "page no.14\n",
      "page no.15\n",
      "page no.16\n",
      "page no.17\n",
      "page no.18\n",
      "page no.19\n",
      "page no.20\n",
      "page no.21\n",
      "page no.22\n",
      "page no.23\n",
      "page no.24\n"
     ]
    }
   ],
   "source": [
    "Rent = []\n",
    "Square_feets = []\n",
    "BHK = []\n",
    "Facing = []\n",
    "Furnish = []\n",
    "Bathroom = []\n",
    "Floor = []\n",
    "Property_type = []\n",
    "Deposit = []\n",
    "Property_age = []\n",
    "Gated_security = []\n",
    "Nonveg_allowed = []\n",
    "Views = []\n",
    "Location = []\n",
    "Parking = []\n",
    "\n",
    "driver = webdriver.Chrome()\n",
    "driver.maximize_window()\n",
    "time.sleep(2)\n",
    "\n",
    "slnum = 0\n",
    "\n",
    "for i in links:\n",
    "    driver.get(i)\n",
    "    time.sleep(3)\n",
    "    \n",
    "    # extract the data \n",
    "     # Rent\n",
    "    try:\n",
    "        Rent.append(driver.find_element(By.XPATH,'//*[@id=\"rent-maintenance\"]/span/span[1]').text)\n",
    "    except:\n",
    "        Rent.append(np.nan)\n",
    "\n",
    "   # Square_feets   \n",
    "    try:\n",
    "        Square_feets.append(driver.find_element(By.XPATH,'//*[@id=\"square-ft\"]').text)\n",
    "    except:\n",
    "        Square_feets.append(np.nan)\n",
    "\n",
    "    #BHK\n",
    "    try:\n",
    "        BHK.append(driver.find_element(By.XPATH,'//*[@id=\"details-summary-typeDesc\"]').text)\n",
    "    except:\n",
    "        BHK.append(np.nan)\n",
    "\n",
    "    # Facing \n",
    "    try:\n",
    "        Facing.append(driver.find_element(By.XPATH,'//*[@id=\"property-detail-body\"]/div/div[1]/div/div/section[2]/div/div[1]/div[1]/div/div[2]/div[2]/div[3]/h5').text)\n",
    "    except:\n",
    "        Facing.append(np.nan)\n",
    "\n",
    "     # Furnish \n",
    "    try:\n",
    "        Furnish.append(driver.find_element(By.XPATH,'//*[@id=\"property-detail-body\"]/div/div[1]/div/div/section[2]/div/div[1]/div[1]/div/div[2]/div[1]/div[3]/h5').text)\n",
    "    except:\n",
    "        Furnish.append(np.nan)\n",
    "\n",
    "    # Bathrooom \n",
    "    try:\n",
    "        Bathroom.append(driver.find_element(By.XPATH,'//*[@id=\"property-detail-body\"]/div/div[1]/div/div/section[2]/div/div[1]/div[1]/div/div[2]/div[5]/div[3]/h5').text)\n",
    "    except:\n",
    "        Bathroom.append(np.nan) \n",
    "\n",
    "     # Floor \n",
    "    try:\n",
    "        Floor.append(driver.find_element(By.XPATH,'//*[@id=\"property-detail-body\"]/div/div[1]/div/div/section[2]/div/div[1]/div[1]/div/div[2]/div[4]/div[3]/h5').text)\n",
    "    except:\n",
    "        Floor.append(np.nan) \n",
    "\n",
    "      # Property_type\n",
    "    try:\n",
    "        Property_type.append( driver.find_element(By.XPATH,'//*[@id=\"details-summary-buildingType\"]').text)\n",
    "    except:\n",
    "        Property_type.append(np.nan) \n",
    "\n",
    "    #  Deposit\n",
    "    try:\n",
    "        Deposit.append(driver.find_element(By.XPATH,'//*[@id=\"emi\"]/span').text)\n",
    "    except:\n",
    "        Deposit.append(np.nan)\n",
    "\n",
    "    # Property_age \n",
    "    try:\n",
    "        Property_age.append(driver.find_element(By.XPATH,'//*[@id=\"details-summary-propertyAge\"]').text)\n",
    "    except:\n",
    "        Property_age.append(np.nan) \n",
    "\n",
    "  # Gated_security \n",
    "    try:\n",
    "        Gated_security.append(driver.find_element(By.XPATH,'//*[@id=\"property-detail-body\"]/div/div[1]/div/div/section[2]/div/div[1]/div[1]/div/div[2]/div[7]/div[3]/h5').text)\n",
    "    except:\n",
    "        Gated_security.append(np.nan) \n",
    "        \n",
    "    # Location\n",
    "    try:\n",
    "        Location.append(driver.find_element(By.XPATH,'//*[@id=\"propertyDetails\"]/div[1]/div/div/div[1]/div[2]/div[1]/h5').text)\n",
    "    except:\n",
    "        Location.append(np.nan)\n",
    "        \n",
    "    # Parking\n",
    "    try:\n",
    "        Parking.append(driver.find_element(By.XPATH,'//*[@id=\"details-summary-parkingDesc\"]').text)\n",
    "    except:\n",
    "        Parking.append(np.nan) \n",
    "\n",
    "  # Nonveg_allowed\n",
    "    try:\n",
    "        non_veg= driver.find_element(By.XPATH,'//*[@id=\"property-detail-body\"]/div/div[1]/div/div/section[2]/div/div[1]/div[1]/div/div[2]/div[6]/div[3]/h5')\n",
    "\n",
    "        Nonveg_allowed.append(non_veg.text)\n",
    "    except:\n",
    "        Nonveg_allowed.append(np.nan)   \n",
    "\n",
    "    # Views\n",
    "    try:\n",
    "        Views.append(driver.find_element(By.XPATH,'//*[@id=\"property-detail-body\"]/div/div[1]/div/div/section[2]/div/div[2]/div[1]/div[2]/div[1]/div[1]/div[2]').text)\n",
    "    except:\n",
    "        Views.append(np.nan) \n",
    "        \n",
    "    print(f\"page no.{slnum}\")\n",
    "    slnum += 1"
   ]
  },
  {
   "cell_type": "code",
   "execution_count": 65,
   "id": "53b379a8",
   "metadata": {},
   "outputs": [
    {
     "name": "stdout",
     "output_type": "stream",
     "text": [
      "25 25 25 25 25 25 25 25 25 25 25 25 25 25 25\n"
     ]
    }
   ],
   "source": [
    "print(len(Rent),len(Location), len(Square_feets), len(BHK), len(Facing),\n",
    "          len(Furnish), len(Bathroom), len(Floor), len(Property_type), len(Deposit), len(Property_age), \n",
    "          len(Gated_security),len(Nonveg_allowed),len(Parking),len(Views))"
   ]
  },
  {
   "cell_type": "code",
   "execution_count": 66,
   "id": "8508886e",
   "metadata": {},
   "outputs": [],
   "source": [
    "import pandas as pd\n",
    "data = pd.DataFrame({'Rent':Rent,'Location':Location,'Square_feets':Square_feets,'BHK':BHK,'Facing':Facing,\n",
    "                     'Furnish':Furnish,'Bathroom':Bathroom,'Floor':Floor,'Property_type':Property_type,\n",
    "                    'Deposit':Deposit,'Property_age':Property_age,'Gated_security':Gated_security,\n",
    "                    'Nonveg_allowed':Nonveg_allowed,'Parking':Parking,'Views':Views,})"
   ]
  },
  {
   "cell_type": "code",
   "execution_count": 68,
   "id": "8b438476",
   "metadata": {},
   "outputs": [
    {
     "data": {
      "text/html": [
       "<div>\n",
       "<style scoped>\n",
       "    .dataframe tbody tr th:only-of-type {\n",
       "        vertical-align: middle;\n",
       "    }\n",
       "\n",
       "    .dataframe tbody tr th {\n",
       "        vertical-align: top;\n",
       "    }\n",
       "\n",
       "    .dataframe thead th {\n",
       "        text-align: right;\n",
       "    }\n",
       "</style>\n",
       "<table border=\"1\" class=\"dataframe\">\n",
       "  <thead>\n",
       "    <tr style=\"text-align: right;\">\n",
       "      <th></th>\n",
       "      <th>Rent</th>\n",
       "      <th>Location</th>\n",
       "      <th>Square_feets</th>\n",
       "      <th>BHK</th>\n",
       "      <th>Facing</th>\n",
       "      <th>Furnish</th>\n",
       "      <th>Bathroom</th>\n",
       "      <th>Floor</th>\n",
       "      <th>Property_type</th>\n",
       "      <th>Deposit</th>\n",
       "      <th>Property_age</th>\n",
       "      <th>Gated_security</th>\n",
       "      <th>Nonveg_allowed</th>\n",
       "      <th>Parking</th>\n",
       "      <th>Views</th>\n",
       "    </tr>\n",
       "  </thead>\n",
       "  <tbody>\n",
       "    <tr>\n",
       "      <th>0</th>\n",
       "      <td>₹25,000/M</td>\n",
       "      <td>Kondapur, Hyderabad, Telangana, India</td>\n",
       "      <td>800</td>\n",
       "      <td>2 Bedroom</td>\n",
       "      <td>NA</td>\n",
       "      <td>Semi</td>\n",
       "      <td>2</td>\n",
       "      <td>3/4</td>\n",
       "      <td>Apartment</td>\n",
       "      <td>₹ 50,000</td>\n",
       "      <td>3-5 Years</td>\n",
       "      <td>No</td>\n",
       "      <td>Yes</td>\n",
       "      <td>Bike and Car</td>\n",
       "      <td>NaN</td>\n",
       "    </tr>\n",
       "    <tr>\n",
       "      <th>1</th>\n",
       "      <td>₹12,000/M</td>\n",
       "      <td>Standalone building, Senhapuri Colony, Near Am...</td>\n",
       "      <td>1,100</td>\n",
       "      <td>2 Bedroom</td>\n",
       "      <td>NA</td>\n",
       "      <td>Unfurnished</td>\n",
       "      <td>2</td>\n",
       "      <td>1/2</td>\n",
       "      <td>Apartment</td>\n",
       "      <td>₹ 24,000</td>\n",
       "      <td>5-10 Years</td>\n",
       "      <td>No</td>\n",
       "      <td>Yes</td>\n",
       "      <td>Bike</td>\n",
       "      <td>NaN</td>\n",
       "    </tr>\n",
       "    <tr>\n",
       "      <th>2</th>\n",
       "      <td>₹89,998/M</td>\n",
       "      <td>Kokapet, Hyderabad, Telangana 500075, India</td>\n",
       "      <td>2,810</td>\n",
       "      <td>3 Bedroom</td>\n",
       "      <td>North</td>\n",
       "      <td>Semi</td>\n",
       "      <td>4</td>\n",
       "      <td>12/15</td>\n",
       "      <td>Apartment</td>\n",
       "      <td>₹ 1</td>\n",
       "      <td>1-3 Years</td>\n",
       "      <td>No</td>\n",
       "      <td>Yes</td>\n",
       "      <td>Bike and Car</td>\n",
       "      <td>7</td>\n",
       "    </tr>\n",
       "    <tr>\n",
       "      <th>3</th>\n",
       "      <td>₹20,000/M</td>\n",
       "      <td>Bnr Apartments, Kantha Reddy Nagar, Attapur,pi...</td>\n",
       "      <td>1,080</td>\n",
       "      <td>2 Bedroom</td>\n",
       "      <td>North</td>\n",
       "      <td>Semi</td>\n",
       "      <td>2</td>\n",
       "      <td>3/5</td>\n",
       "      <td>Apartment</td>\n",
       "      <td>₹ 60,000</td>\n",
       "      <td>&gt;10 Years</td>\n",
       "      <td>No</td>\n",
       "      <td>Yes</td>\n",
       "      <td>Car</td>\n",
       "      <td>NaN</td>\n",
       "    </tr>\n",
       "    <tr>\n",
       "      <th>4</th>\n",
       "      <td>₹6,500/M</td>\n",
       "      <td>Independent House, Tulasivanam Township near R...</td>\n",
       "      <td>750</td>\n",
       "      <td>1 Bedroom</td>\n",
       "      <td>West</td>\n",
       "      <td>Unfurnished</td>\n",
       "      <td>1</td>\n",
       "      <td>1/1</td>\n",
       "      <td>Independent House/villa</td>\n",
       "      <td>₹ 6,500</td>\n",
       "      <td>1-3 Years</td>\n",
       "      <td>Yes</td>\n",
       "      <td>Yes</td>\n",
       "      <td>Bike</td>\n",
       "      <td>NaN</td>\n",
       "    </tr>\n",
       "  </tbody>\n",
       "</table>\n",
       "</div>"
      ],
      "text/plain": [
       "        Rent                                           Location Square_feets  \\\n",
       "0  ₹25,000/M              Kondapur, Hyderabad, Telangana, India          800   \n",
       "1  ₹12,000/M  Standalone building, Senhapuri Colony, Near Am...        1,100   \n",
       "2  ₹89,998/M        Kokapet, Hyderabad, Telangana 500075, India        2,810   \n",
       "3  ₹20,000/M  Bnr Apartments, Kantha Reddy Nagar, Attapur,pi...        1,080   \n",
       "4   ₹6,500/M  Independent House, Tulasivanam Township near R...          750   \n",
       "\n",
       "         BHK Facing      Furnish Bathroom  Floor            Property_type  \\\n",
       "0  2 Bedroom     NA         Semi        2    3/4                Apartment   \n",
       "1  2 Bedroom     NA  Unfurnished        2    1/2                Apartment   \n",
       "2  3 Bedroom  North         Semi        4  12/15                Apartment   \n",
       "3  2 Bedroom  North         Semi        2    3/5                Apartment   \n",
       "4  1 Bedroom   West  Unfurnished        1    1/1  Independent House/villa   \n",
       "\n",
       "    Deposit Property_age Gated_security Nonveg_allowed       Parking Views  \n",
       "0  ₹ 50,000    3-5 Years             No            Yes  Bike and Car   NaN  \n",
       "1  ₹ 24,000   5-10 Years             No            Yes          Bike   NaN  \n",
       "2       ₹ 1    1-3 Years             No            Yes  Bike and Car     7  \n",
       "3  ₹ 60,000    >10 Years             No            Yes           Car   NaN  \n",
       "4   ₹ 6,500    1-3 Years            Yes            Yes          Bike   NaN  "
      ]
     },
     "execution_count": 68,
     "metadata": {},
     "output_type": "execute_result"
    }
   ],
   "source": [
    "data.head()"
   ]
  },
  {
   "cell_type": "code",
   "execution_count": null,
   "id": "9cd0b796",
   "metadata": {},
   "outputs": [],
   "source": []
  },
  {
   "cell_type": "code",
   "execution_count": null,
   "id": "cbc6c29e",
   "metadata": {},
   "outputs": [],
   "source": []
  }
 ],
 "metadata": {
  "kernelspec": {
   "display_name": "Python 3 (ipykernel)",
   "language": "python",
   "name": "python3"
  },
  "language_info": {
   "codemirror_mode": {
    "name": "ipython",
    "version": 3
   },
   "file_extension": ".py",
   "mimetype": "text/x-python",
   "name": "python",
   "nbconvert_exporter": "python",
   "pygments_lexer": "ipython3",
   "version": "3.11.4"
  }
 },
 "nbformat": 4,
 "nbformat_minor": 5
}
